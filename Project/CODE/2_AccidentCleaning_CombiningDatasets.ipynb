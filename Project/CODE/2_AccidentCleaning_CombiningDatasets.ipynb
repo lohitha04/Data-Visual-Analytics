{
 "cells": [
  {
   "cell_type": "markdown",
   "metadata": {},
   "source": [
    "### Part 1: This part is used for performing **Data Cleaning/Manipulations** on the Traffic Accident dataset\n",
    "### Part 2: This part is used to **Merge** the Accident and COVID datasets for the year 2020"
   ]
  },
  {
   "cell_type": "markdown",
   "metadata": {},
   "source": [
    "## PART 1"
   ]
  },
  {
   "cell_type": "markdown",
   "metadata": {},
   "source": [
    "* The following code is for performing Data Cleaning/Manipulations on the Traffic Accident dataset"
   ]
  },
  {
   "cell_type": "code",
   "execution_count": 1,
   "metadata": {},
   "outputs": [
    {
     "data": {
      "application/vnd.jupyter.widget-view+json": {
       "model_id": "5be6d69a6363471ab388fb18ddeb2c44",
       "version_major": 2,
       "version_minor": 0
      },
      "text/plain": [
       "VBox()"
      ]
     },
     "metadata": {},
     "output_type": "display_data"
    },
    {
     "name": "stdout",
     "output_type": "stream",
     "text": [
      "Starting Spark application\n"
     ]
    },
    {
     "data": {
      "text/html": [
       "<table>\n",
       "<tr><th>ID</th><th>YARN Application ID</th><th>Kind</th><th>State</th><th>Spark UI</th><th>Driver log</th><th>Current session?</th></tr><tr><td>0</td><td>application_1616982219227_0001</td><td>pyspark</td><td>idle</td><td><a target=\"_blank\" href=\"http://ip-172-31-45-95.ec2.internal:20888/proxy/application_1616982219227_0001/\" class=\"emr-proxy-link\" emr-resource=\"j-1I8XJCAB8B1IO\n",
       "\" application-id=\"application_1616982219227_0001\">Link</a></td><td><a target=\"_blank\" href=\"http://ip-172-31-41-41.ec2.internal:8042/node/containerlogs/container_1616982219227_0001_01_000001/livy\" >Link</a></td><td>✔</td></tr></table>"
      ],
      "text/plain": [
       "<IPython.core.display.HTML object>"
      ]
     },
     "metadata": {},
     "output_type": "display_data"
    },
    {
     "data": {
      "application/vnd.jupyter.widget-view+json": {
       "model_id": "",
       "version_major": 2,
       "version_minor": 0
      },
      "text/plain": [
       "FloatProgress(value=0.0, bar_style='info', description='Progress:', layout=Layout(height='25px', width='50%'),…"
      ]
     },
     "metadata": {},
     "output_type": "display_data"
    },
    {
     "name": "stdout",
     "output_type": "stream",
     "text": [
      "SparkSession available as 'spark'.\n"
     ]
    },
    {
     "data": {
      "application/vnd.jupyter.widget-view+json": {
       "model_id": "",
       "version_major": 2,
       "version_minor": 0
      },
      "text/plain": [
       "FloatProgress(value=0.0, bar_style='info', description='Progress:', layout=Layout(height='25px', width='50%'),…"
      ]
     },
     "metadata": {},
     "output_type": "display_data"
    }
   ],
   "source": [
    "#Importing the required packages\n",
    "from pyspark.sql.functions import *\n",
    "from pyspark.sql import *\n"
   ]
  },
  {
   "cell_type": "code",
   "execution_count": 2,
   "metadata": {},
   "outputs": [
    {
     "data": {
      "application/vnd.jupyter.widget-view+json": {
       "model_id": "9cd979cbf6fc48e29c40db481cb92d8f",
       "version_major": 2,
       "version_minor": 0
      },
      "text/plain": [
       "VBox()"
      ]
     },
     "metadata": {},
     "output_type": "display_data"
    },
    {
     "data": {
      "application/vnd.jupyter.widget-view+json": {
       "model_id": "",
       "version_major": 2,
       "version_minor": 0
      },
      "text/plain": [
       "FloatProgress(value=0.0, bar_style='info', description='Progress:', layout=Layout(height='25px', width='50%'),…"
      ]
     },
     "metadata": {},
     "output_type": "display_data"
    },
    {
     "name": "stdout",
     "output_type": "stream",
     "text": [
      "<SparkContext master=yarn appName=livy-session-0>"
     ]
    }
   ],
   "source": [
    "sc"
   ]
  },
  {
   "cell_type": "code",
   "execution_count": 3,
   "metadata": {},
   "outputs": [
    {
     "data": {
      "application/vnd.jupyter.widget-view+json": {
       "model_id": "63fba08564ee4555bec9fae79ae3b6f0",
       "version_major": 2,
       "version_minor": 0
      },
      "text/plain": [
       "VBox()"
      ]
     },
     "metadata": {},
     "output_type": "display_data"
    },
    {
     "data": {
      "application/vnd.jupyter.widget-view+json": {
       "model_id": "",
       "version_major": 2,
       "version_minor": 0
      },
      "text/plain": [
       "FloatProgress(value=0.0, bar_style='info', description='Progress:', layout=Layout(height='25px', width='50%'),…"
      ]
     },
     "metadata": {},
     "output_type": "display_data"
    }
   ],
   "source": [
    "# Reading the original traffic accident dataset to a dataframe for data cleaning/manipulations\n",
    "df_traffic= spark.read.csv('s3://team036vsix/US_Accidents_Dec20.csv', header=True, inferSchema=True)"
   ]
  },
  {
   "cell_type": "code",
   "execution_count": 4,
   "metadata": {},
   "outputs": [
    {
     "data": {
      "application/vnd.jupyter.widget-view+json": {
       "model_id": "05dc3599586542e0ad858d61c48173ac",
       "version_major": 2,
       "version_minor": 0
      },
      "text/plain": [
       "VBox()"
      ]
     },
     "metadata": {},
     "output_type": "display_data"
    },
    {
     "data": {
      "application/vnd.jupyter.widget-view+json": {
       "model_id": "",
       "version_major": 2,
       "version_minor": 0
      },
      "text/plain": [
       "FloatProgress(value=0.0, bar_style='info', description='Progress:', layout=Layout(height='25px', width='50%'),…"
      ]
     },
     "metadata": {},
     "output_type": "display_data"
    },
    {
     "name": "stdout",
     "output_type": "stream",
     "text": [
      "4232541"
     ]
    }
   ],
   "source": [
    "df_traffic.count()"
   ]
  },
  {
   "cell_type": "code",
   "execution_count": 5,
   "metadata": {},
   "outputs": [
    {
     "data": {
      "application/vnd.jupyter.widget-view+json": {
       "model_id": "fd03a742f1344e399efe78e2065c672b",
       "version_major": 2,
       "version_minor": 0
      },
      "text/plain": [
       "VBox()"
      ]
     },
     "metadata": {},
     "output_type": "display_data"
    },
    {
     "data": {
      "application/vnd.jupyter.widget-view+json": {
       "model_id": "",
       "version_major": 2,
       "version_minor": 0
      },
      "text/plain": [
       "FloatProgress(value=0.0, bar_style='info', description='Progress:', layout=Layout(height='25px', width='50%'),…"
      ]
     },
     "metadata": {},
     "output_type": "display_data"
    },
    {
     "name": "stdout",
     "output_type": "stream",
     "text": [
      "+----+--------+-----+--------+-------------------+-------------------+---------+----------+-------+-------+------------+--------------------+------+--------------------+----+------------+----------+-----+----------+-------+----------+------------+-------------------+--------------+-------------+-----------+------------+--------------+--------------+---------------+-----------------+-----------------+-------+-----+--------+--------+--------+-------+-------+----------+-------+-----+---------------+--------------+------------+--------------+--------------+-----------------+---------------------+\n",
      "|  ID|  Source|  TMC|Severity|         Start_Time|           End_Time|Start_Lat| Start_Lng|End_Lat|End_Lng|Distance(mi)|         Description|Number|              Street|Side|        City|    County|State|   Zipcode|Country|  Timezone|Airport_Code|  Weather_Timestamp|Temperature(F)|Wind_Chill(F)|Humidity(%)|Pressure(in)|Visibility(mi)|Wind_Direction|Wind_Speed(mph)|Precipitation(in)|Weather_Condition|Amenity| Bump|Crossing|Give_Way|Junction|No_Exit|Railway|Roundabout|Station| Stop|Traffic_Calming|Traffic_Signal|Turning_Loop|Sunrise_Sunset|Civil_Twilight|Nautical_Twilight|Astronomical_Twilight|\n",
      "+----+--------+-----+--------+-------------------+-------------------+---------+----------+-------+-------+------------+--------------------+------+--------------------+----+------------+----------+-----+----------+-------+----------+------------+-------------------+--------------+-------------+-----------+------------+--------------+--------------+---------------+-----------------+-----------------+-------+-----+--------+--------+--------+-------+-------+----------+-------+-----+---------------+--------------+------------+--------------+--------------+-----------------+---------------------+\n",
      "| A-1|MapQuest|201.0|       3|2016-02-08 05:46:00|2016-02-08 11:00:00|39.865147|-84.058723|   null|   null|        0.01|Right lane blocke...|  null|              I-70 E|   R|      Dayton|Montgomery|   OH|     45424|     US|US/Eastern|        KFFO|2016-02-08 05:58:00|          36.9|         null|       91.0|       29.68|          10.0|          Calm|           null|             0.02|       Light Rain|  false|false|   false|   false|   false|  false|  false|     false|  false|false|          false|         false|       false|         Night|         Night|            Night|                Night|\n",
      "| A-2|MapQuest|201.0|       2|2016-02-08 06:07:59|2016-02-08 06:37:59|39.928059|-82.831184|   null|   null|        0.01|Accident on Brice...|2584.0|            Brice Rd|   L|Reynoldsburg|  Franklin|   OH|43068-3402|     US|US/Eastern|        KCMH|2016-02-08 05:51:00|          37.9|         null|      100.0|       29.65|          10.0|          Calm|           null|              0.0|       Light Rain|  false|false|   false|   false|   false|  false|  false|     false|  false|false|          false|         false|       false|         Night|         Night|            Night|                  Day|\n",
      "| A-3|MapQuest|201.0|       2|2016-02-08 06:49:27|2016-02-08 07:19:27|39.063148|-84.032608|   null|   null|        0.01|Accident on OH-32...|  null|      State Route 32|   R|Williamsburg|  Clermont|   OH|     45176|     US|US/Eastern|        KI69|2016-02-08 06:56:00|          36.0|         33.3|      100.0|       29.67|          10.0|            SW|            3.5|             null|         Overcast|  false|false|   false|   false|   false|  false|  false|     false|  false|false|          false|          true|       false|         Night|         Night|              Day|                  Day|\n",
      "| A-4|MapQuest|201.0|       3|2016-02-08 07:23:34|2016-02-08 07:53:34|39.747753|-84.205582|   null|   null|        0.01|Accident on I-75 ...|  null|              I-75 S|   R|      Dayton|Montgomery|   OH|     45417|     US|US/Eastern|        KDAY|2016-02-08 07:38:00|          35.1|         31.0|       96.0|       29.64|           9.0|            SW|            4.6|             null|    Mostly Cloudy|  false|false|   false|   false|   false|  false|  false|     false|  false|false|          false|         false|       false|         Night|           Day|              Day|                  Day|\n",
      "| A-5|MapQuest|201.0|       2|2016-02-08 07:39:07|2016-02-08 08:09:07|39.627781|-84.188354|   null|   null|        0.01|Accident on McEwe...|  null|Miamisburg Center...|   R|      Dayton|Montgomery|   OH|     45459|     US|US/Eastern|        KMGY|2016-02-08 07:53:00|          36.0|         33.3|       89.0|       29.65|           6.0|            SW|            3.5|             null|    Mostly Cloudy|  false|false|   false|   false|   false|  false|  false|     false|  false|false|          false|          true|       false|           Day|           Day|              Day|                  Day|\n",
      "| A-6|MapQuest|201.0|       3|2016-02-08 07:44:26|2016-02-08 08:14:26| 40.10059|-82.925194|   null|   null|        0.01|Accident on I-270...|  null|      Westerville Rd|   R| Westerville|  Franklin|   OH|     43081|     US|US/Eastern|        KCMH|2016-02-08 07:51:00|          37.9|         35.5|       97.0|       29.63|           7.0|           SSW|            3.5|             0.03|       Light Rain|  false|false|   false|   false|   false|  false|  false|     false|  false|false|          false|         false|       false|           Day|           Day|              Day|                  Day|\n",
      "| A-7|MapQuest|201.0|       2|2016-02-08 07:59:35|2016-02-08 08:29:35|39.758274|-84.230507|   null|   null|         0.0|Accident on Oakri...| 376.0|      N Woodward Ave|   R|      Dayton|Montgomery|   OH|45417-2476|     US|US/Eastern|        KDAY|2016-02-08 07:56:00|          34.0|         31.0|      100.0|       29.66|           7.0|           WSW|            3.5|             null|         Overcast|  false|false|   false|   false|   false|  false|  false|     false|  false|false|          false|         false|       false|           Day|           Day|              Day|                  Day|\n",
      "| A-8|MapQuest|201.0|       3|2016-02-08 07:59:58|2016-02-08 08:29:58|39.770382|-84.194901|   null|   null|        0.01|Accident on I-75 ...|  null|           N Main St|   R|      Dayton|Montgomery|   OH|     45405|     US|US/Eastern|        KDAY|2016-02-08 07:56:00|          34.0|         31.0|      100.0|       29.66|           7.0|           WSW|            3.5|             null|         Overcast|  false|false|   false|   false|   false|  false|  false|     false|  false|false|          false|         false|       false|           Day|           Day|              Day|                  Day|\n",
      "| A-9|MapQuest|201.0|       2|2016-02-08 08:00:40|2016-02-08 08:30:40|39.778061|-84.172005|   null|   null|         0.0|Accident on Notre...|  99.0|      Notre Dame Ave|   L|      Dayton|Montgomery|   OH|45404-1923|     US|US/Eastern|        KFFO|2016-02-08 07:58:00|          33.3|         null|       99.0|       29.67|           5.0|            SW|            1.2|             null|    Mostly Cloudy|  false|false|   false|   false|   false|  false|  false|     false|  false|false|          false|         false|       false|           Day|           Day|              Day|                  Day|\n",
      "|A-10|MapQuest|201.0|       3|2016-02-08 08:10:04|2016-02-08 08:40:04| 40.10059|-82.925194|   null|   null|        0.01|Right hand should...|  null|      Westerville Rd|   R| Westerville|  Franklin|   OH|     43081|     US|US/Eastern|        KCMH|2016-02-08 08:28:00|          37.4|         33.8|      100.0|       29.62|           3.0|           SSW|            4.6|             0.02|       Light Rain|  false|false|   false|   false|   false|  false|  false|     false|  false|false|          false|         false|       false|           Day|           Day|              Day|                  Day|\n",
      "|A-11|MapQuest|201.0|       3|2016-02-08 08:14:42|2016-02-08 08:44:42|39.952812|-83.119293|   null|   null|        0.01|Accident on I-270...|  null|         Outerbelt S|   R|    Columbus|  Franklin|   OH|     43228|     US|US/Eastern|        KTZR|2016-02-08 07:50:00|          35.6|         30.7|       93.0|       29.64|           5.0|           WNW|            5.8|             null|             Rain|  false|false|    true|   false|    true|  false|  false|     false|  false|false|          false|         false|       false|           Day|           Day|              Day|                  Day|\n",
      "|A-12|MapQuest|241.0|       3|2016-02-08 08:21:27|2016-02-08 08:51:27|39.932709| -82.83091|   null|   null|        0.01|One lane blocked ...|  null|              I-70 E|   R|Reynoldsburg|  Franklin|   OH|     43068|     US|US/Eastern|        KCMH|2016-02-08 08:28:00|          37.4|         33.8|      100.0|       29.62|           3.0|           SSW|            4.6|             0.02|       Light Rain|  false|false|   false|   false|   false|  false|  false|     false|  false|false|          false|         false|       false|           Day|           Day|              Day|                  Day|\n",
      "|A-13|MapQuest|201.0|       2|2016-02-08 08:36:34|2016-02-08 09:06:34|39.737633|-84.149933|   null|   null|         0.0|Accident on Rever...|  99.0|      Watervliet Ave|   R|      Dayton|Montgomery|   OH|45420-1863|     US|US/Eastern|        KFFO|2016-02-08 08:28:00|          33.8|         null|      100.0|       29.63|           3.0|            SW|            2.3|             null|         Overcast|  false|false|   false|   false|   false|  false|  false|     false|  false|false|          false|         false|       false|           Day|           Day|              Day|                  Day|\n",
      "|A-14|MapQuest|201.0|       2|2016-02-08 08:37:07|2016-02-08 09:07:07| 39.79076|-84.241547|   null|   null|        0.01|Accident on Salem...|3198.0|           Salem Ave|   L|      Dayton|Montgomery|   OH|45406-2708|     US|US/Eastern|        KDAY|2016-02-08 08:56:00|          36.0|         31.1|       89.0|       29.65|          10.0|            NW|            5.8|             null|    Mostly Cloudy|  false|false|   false|   false|   false|  false|  false|     false|  false|false|          false|          true|       false|           Day|           Day|              Day|                  Day|\n",
      "|A-15|MapQuest|201.0|       2|2016-02-08 08:39:43|2016-02-08 09:09:43|39.972038|-82.913521|   null|   null|        0.01|Accident on OH-16...|3280.0|          E Broad St|   L|    Columbus|  Franklin|   OH|43213-1006|     US|US/Eastern|        KCMH|2016-02-08 08:28:00|          37.4|         33.8|      100.0|       29.62|           3.0|           SSW|            4.6|             0.02|       Light Rain|  false|false|   false|   false|   false|  false|  false|     false|  false|false|          false|          true|       false|           Day|           Day|              Day|                  Day|\n",
      "|A-16|MapQuest|201.0|       2|2016-02-08 08:43:20|2016-02-08 09:13:20|39.745888| -84.17041|   null|   null|        0.01|Accident on Wayne...| 100.0|         Glencoe Ave|   R|      Dayton|Montgomery|   OH|45410-1721|     US|US/Eastern|        KFFO|2016-02-08 08:28:00|          33.8|         null|      100.0|       29.63|           3.0|            SW|            2.3|             null|         Overcast|  false|false|   false|   false|   false|  false|  false|     false|  false|false|          false|         false|       false|           Day|           Day|              Day|                  Day|\n",
      "|A-17|MapQuest|201.0|       2|2016-02-08 08:53:17|2016-02-08 09:23:17|39.748329|-84.224007|   null|   null|        0.01|Accident on James...|  null|S James H McGee Blvd|   R|      Dayton|Montgomery|   OH|     45402|     US|US/Eastern|        KFFO|2016-02-08 08:58:00|          35.6|         null|       99.0|       29.65|           7.0|           WSW|            2.3|             null|    Mostly Cloudy|  false|false|   false|   false|   false|  false|  false|     false|  false|false|          false|         false|       false|           Day|           Day|              Day|                  Day|\n",
      "|A-18|MapQuest|201.0|       2|2016-02-08 09:24:37|2016-02-08 09:54:37|39.752174|-84.239952|   null|   null|         0.0|Accident on Delph...|3001.0|         Delphos Ave|   R|      Dayton|Montgomery|   OH|45417-1727|     US|US/Eastern|        KDAY|2016-02-08 08:56:00|          36.0|         31.1|       89.0|       29.65|          10.0|            NW|            5.8|             null|    Mostly Cloudy|  false|false|   false|   false|   false|  false|  false|     false|  false|false|          false|         false|       false|           Day|           Day|              Day|                  Day|\n",
      "|A-19|MapQuest|201.0|       2|2016-02-08 09:25:17|2016-02-08 09:55:17|39.740669|-84.184135|   null|   null|        0.01|Accident on Stewa...| 440.0|          Rubicon St|   L|      Dayton|Montgomery|   OH|45409-2659|     US|US/Eastern|        KFFO|2016-02-08 09:38:00|          37.4|         32.1|       93.0|       29.63|          10.0|           WSW|            6.9|             null|         Overcast|  false|false|    true|   false|   false|  false|  false|     false|  false|false|          false|          true|       false|           Day|           Day|              Day|                  Day|\n",
      "|A-20|MapQuest|201.0|       2|2016-02-08 09:35:35|2016-02-08 10:05:35|39.790703|-84.244461|   null|   null|        0.01|Accident on Hillc...|3499.0|     W Hillcrest Ave|   R|      Dayton|Montgomery|   OH|45406-2640|     US|US/Eastern|        KDAY|2016-02-08 09:56:00|          36.0|         30.3|       89.0|       29.65|          10.0|          West|            6.9|             null|    Mostly Cloudy|  false|false|   false|   false|   false|  false|  false|     false|  false|false|          false|         false|       false|           Day|           Day|              Day|                  Day|\n",
      "+----+--------+-----+--------+-------------------+-------------------+---------+----------+-------+-------+------------+--------------------+------+--------------------+----+------------+----------+-----+----------+-------+----------+------------+-------------------+--------------+-------------+-----------+------------+--------------+--------------+---------------+-----------------+-----------------+-------+-----+--------+--------+--------+-------+-------+----------+-------+-----+---------------+--------------+------------+--------------+--------------+-----------------+---------------------+\n",
      "only showing top 20 rows"
     ]
    }
   ],
   "source": [
    "df_traffic.show()"
   ]
  },
  {
   "cell_type": "code",
   "execution_count": 6,
   "metadata": {},
   "outputs": [
    {
     "data": {
      "application/vnd.jupyter.widget-view+json": {
       "model_id": "d505f016803c49549b8e4369c1c1010e",
       "version_major": 2,
       "version_minor": 0
      },
      "text/plain": [
       "VBox()"
      ]
     },
     "metadata": {},
     "output_type": "display_data"
    },
    {
     "data": {
      "application/vnd.jupyter.widget-view+json": {
       "model_id": "",
       "version_major": 2,
       "version_minor": 0
      },
      "text/plain": [
       "FloatProgress(value=0.0, bar_style='info', description='Progress:', layout=Layout(height='25px', width='50%'),…"
      ]
     },
     "metadata": {},
     "output_type": "display_data"
    },
    {
     "name": "stdout",
     "output_type": "stream",
     "text": [
      "+--------+-------------------+---------+----------+------------+----------+-----+----------+----------+--------------+-----------------+-----+--------+--------+-----+--------------+\n",
      "|Severity|         Start_Time|Start_Lat| Start_Lng|        City|    County|State|   Zipcode|  Timezone|Temperature(F)|Weather_Condition| Bump|Junction|Crossing| Stop|Traffic_Signal|\n",
      "+--------+-------------------+---------+----------+------------+----------+-----+----------+----------+--------------+-----------------+-----+--------+--------+-----+--------------+\n",
      "|       3|2016-02-08 05:46:00|39.865147|-84.058723|      Dayton|Montgomery|   OH|     45424|US/Eastern|          36.9|       Light Rain|false|   false|   false|false|         false|\n",
      "|       2|2016-02-08 06:07:59|39.928059|-82.831184|Reynoldsburg|  Franklin|   OH|43068-3402|US/Eastern|          37.9|       Light Rain|false|   false|   false|false|         false|\n",
      "|       2|2016-02-08 06:49:27|39.063148|-84.032608|Williamsburg|  Clermont|   OH|     45176|US/Eastern|          36.0|         Overcast|false|   false|   false|false|          true|\n",
      "|       3|2016-02-08 07:23:34|39.747753|-84.205582|      Dayton|Montgomery|   OH|     45417|US/Eastern|          35.1|    Mostly Cloudy|false|   false|   false|false|         false|\n",
      "|       2|2016-02-08 07:39:07|39.627781|-84.188354|      Dayton|Montgomery|   OH|     45459|US/Eastern|          36.0|    Mostly Cloudy|false|   false|   false|false|          true|\n",
      "|       3|2016-02-08 07:44:26| 40.10059|-82.925194| Westerville|  Franklin|   OH|     43081|US/Eastern|          37.9|       Light Rain|false|   false|   false|false|         false|\n",
      "|       2|2016-02-08 07:59:35|39.758274|-84.230507|      Dayton|Montgomery|   OH|45417-2476|US/Eastern|          34.0|         Overcast|false|   false|   false|false|         false|\n",
      "|       3|2016-02-08 07:59:58|39.770382|-84.194901|      Dayton|Montgomery|   OH|     45405|US/Eastern|          34.0|         Overcast|false|   false|   false|false|         false|\n",
      "|       2|2016-02-08 08:00:40|39.778061|-84.172005|      Dayton|Montgomery|   OH|45404-1923|US/Eastern|          33.3|    Mostly Cloudy|false|   false|   false|false|         false|\n",
      "|       3|2016-02-08 08:10:04| 40.10059|-82.925194| Westerville|  Franklin|   OH|     43081|US/Eastern|          37.4|       Light Rain|false|   false|   false|false|         false|\n",
      "|       3|2016-02-08 08:14:42|39.952812|-83.119293|    Columbus|  Franklin|   OH|     43228|US/Eastern|          35.6|             Rain|false|    true|    true|false|         false|\n",
      "|       3|2016-02-08 08:21:27|39.932709| -82.83091|Reynoldsburg|  Franklin|   OH|     43068|US/Eastern|          37.4|       Light Rain|false|   false|   false|false|         false|\n",
      "|       2|2016-02-08 08:36:34|39.737633|-84.149933|      Dayton|Montgomery|   OH|45420-1863|US/Eastern|          33.8|         Overcast|false|   false|   false|false|         false|\n",
      "|       2|2016-02-08 08:37:07| 39.79076|-84.241547|      Dayton|Montgomery|   OH|45406-2708|US/Eastern|          36.0|    Mostly Cloudy|false|   false|   false|false|          true|\n",
      "|       2|2016-02-08 08:39:43|39.972038|-82.913521|    Columbus|  Franklin|   OH|43213-1006|US/Eastern|          37.4|       Light Rain|false|   false|   false|false|          true|\n",
      "|       2|2016-02-08 08:43:20|39.745888| -84.17041|      Dayton|Montgomery|   OH|45410-1721|US/Eastern|          33.8|         Overcast|false|   false|   false|false|         false|\n",
      "|       2|2016-02-08 08:53:17|39.748329|-84.224007|      Dayton|Montgomery|   OH|     45402|US/Eastern|          35.6|    Mostly Cloudy|false|   false|   false|false|         false|\n",
      "|       2|2016-02-08 09:24:37|39.752174|-84.239952|      Dayton|Montgomery|   OH|45417-1727|US/Eastern|          36.0|    Mostly Cloudy|false|   false|   false|false|         false|\n",
      "|       2|2016-02-08 09:25:17|39.740669|-84.184135|      Dayton|Montgomery|   OH|45409-2659|US/Eastern|          37.4|         Overcast|false|   false|    true|false|          true|\n",
      "|       2|2016-02-08 09:35:35|39.790703|-84.244461|      Dayton|Montgomery|   OH|45406-2640|US/Eastern|          36.0|    Mostly Cloudy|false|   false|   false|false|         false|\n",
      "+--------+-------------------+---------+----------+------------+----------+-----+----------+----------+--------------+-----------------+-----+--------+--------+-----+--------------+\n",
      "only showing top 20 rows"
     ]
    }
   ],
   "source": [
    "cols=['Severity','Start_Time','Start_Lat','Start_Lng','City','County','State','Zipcode','Timezone','Temperature(F)','Weather_Condition','Bump','Junction','Crossing','Stop','Traffic_Signal']\n",
    "df_traffic_filt= df_traffic.select(cols)\n",
    "df_traffic_filt.show()"
   ]
  },
  {
   "cell_type": "code",
   "execution_count": 7,
   "metadata": {},
   "outputs": [
    {
     "data": {
      "application/vnd.jupyter.widget-view+json": {
       "model_id": "c512b0a153f74325af4476519c0061e6",
       "version_major": 2,
       "version_minor": 0
      },
      "text/plain": [
       "VBox()"
      ]
     },
     "metadata": {},
     "output_type": "display_data"
    },
    {
     "data": {
      "application/vnd.jupyter.widget-view+json": {
       "model_id": "",
       "version_major": 2,
       "version_minor": 0
      },
      "text/plain": [
       "FloatProgress(value=0.0, bar_style='info', description='Progress:', layout=Layout(height='25px', width='50%'),…"
      ]
     },
     "metadata": {},
     "output_type": "display_data"
    },
    {
     "name": "stdout",
     "output_type": "stream",
     "text": [
      "root\n",
      " |-- Severity: integer (nullable = true)\n",
      " |-- Start_Time: timestamp (nullable = true)\n",
      " |-- Start_Lat: double (nullable = true)\n",
      " |-- Start_Lng: double (nullable = true)\n",
      " |-- City: string (nullable = true)\n",
      " |-- County: string (nullable = true)\n",
      " |-- State: string (nullable = true)\n",
      " |-- Zipcode: string (nullable = true)\n",
      " |-- Timezone: string (nullable = true)\n",
      " |-- Temperature(F): double (nullable = true)\n",
      " |-- Weather_Condition: string (nullable = true)\n",
      " |-- Bump: boolean (nullable = true)\n",
      " |-- Junction: boolean (nullable = true)\n",
      " |-- Crossing: boolean (nullable = true)\n",
      " |-- Stop: boolean (nullable = true)\n",
      " |-- Traffic_Signal: boolean (nullable = true)"
     ]
    }
   ],
   "source": [
    "df_traffic_filt.printSchema()"
   ]
  },
  {
   "cell_type": "code",
   "execution_count": 8,
   "metadata": {},
   "outputs": [
    {
     "data": {
      "application/vnd.jupyter.widget-view+json": {
       "model_id": "d41808662be949e4b810f2f92240ad79",
       "version_major": 2,
       "version_minor": 0
      },
      "text/plain": [
       "VBox()"
      ]
     },
     "metadata": {},
     "output_type": "display_data"
    },
    {
     "data": {
      "application/vnd.jupyter.widget-view+json": {
       "model_id": "",
       "version_major": 2,
       "version_minor": 0
      },
      "text/plain": [
       "FloatProgress(value=0.0, bar_style='info', description='Progress:', layout=Layout(height='25px', width='50%'),…"
      ]
     },
     "metadata": {},
     "output_type": "display_data"
    }
   ],
   "source": [
    "#Casting columns from boolean to integer\n",
    "df_traffic_filt=df_traffic_filt.withColumn('Bump',df_traffic_filt.Bump.cast('int'))\n",
    "df_traffic_filt=df_traffic_filt.withColumn('Stop',df_traffic_filt.Stop.cast('int'))\n",
    "df_traffic_filt=df_traffic_filt.withColumn('Junction',df_traffic_filt.Junction.cast('int'))\n",
    "df_traffic_filt=df_traffic_filt.withColumn('Crossing',df_traffic_filt.Crossing.cast('int'))\n",
    "df_traffic_filt=df_traffic_filt.withColumn('Traffic_Signal',df_traffic_filt.Traffic_Signal.cast('int'))\n"
   ]
  },
  {
   "cell_type": "code",
   "execution_count": 9,
   "metadata": {},
   "outputs": [
    {
     "data": {
      "application/vnd.jupyter.widget-view+json": {
       "model_id": "f25948db96ce4db998f1c1c47839b4ed",
       "version_major": 2,
       "version_minor": 0
      },
      "text/plain": [
       "VBox()"
      ]
     },
     "metadata": {},
     "output_type": "display_data"
    },
    {
     "data": {
      "application/vnd.jupyter.widget-view+json": {
       "model_id": "",
       "version_major": 2,
       "version_minor": 0
      },
      "text/plain": [
       "FloatProgress(value=0.0, bar_style='info', description='Progress:', layout=Layout(height='25px', width='50%'),…"
      ]
     },
     "metadata": {},
     "output_type": "display_data"
    },
    {
     "name": "stdout",
     "output_type": "stream",
     "text": [
      "+--------+-------------------+---------+----------+------------+----------+-----+----------+----------+--------------+-----------------+----+--------+--------+----+--------------+\n",
      "|Severity|         Start_Time|Start_Lat| Start_Lng|        City|    County|State|   Zipcode|  Timezone|Temperature(F)|Weather_Condition|Bump|Junction|Crossing|Stop|Traffic_Signal|\n",
      "+--------+-------------------+---------+----------+------------+----------+-----+----------+----------+--------------+-----------------+----+--------+--------+----+--------------+\n",
      "|       3|2016-02-08 05:46:00|39.865147|-84.058723|      Dayton|Montgomery|   OH|     45424|US/Eastern|          36.9|       Light Rain|   0|       0|       0|   0|             0|\n",
      "|       2|2016-02-08 06:07:59|39.928059|-82.831184|Reynoldsburg|  Franklin|   OH|43068-3402|US/Eastern|          37.9|       Light Rain|   0|       0|       0|   0|             0|\n",
      "+--------+-------------------+---------+----------+------------+----------+-----+----------+----------+--------------+-----------------+----+--------+--------+----+--------------+\n",
      "only showing top 2 rows"
     ]
    }
   ],
   "source": [
    "df_traffic_filt.show(2)"
   ]
  },
  {
   "cell_type": "code",
   "execution_count": 10,
   "metadata": {},
   "outputs": [
    {
     "data": {
      "application/vnd.jupyter.widget-view+json": {
       "model_id": "255c008c708240e4bff94e71837a48dd",
       "version_major": 2,
       "version_minor": 0
      },
      "text/plain": [
       "VBox()"
      ]
     },
     "metadata": {},
     "output_type": "display_data"
    },
    {
     "data": {
      "application/vnd.jupyter.widget-view+json": {
       "model_id": "",
       "version_major": 2,
       "version_minor": 0
      },
      "text/plain": [
       "FloatProgress(value=0.0, bar_style='info', description='Progress:', layout=Layout(height='25px', width='50%'),…"
      ]
     },
     "metadata": {},
     "output_type": "display_data"
    },
    {
     "name": "stdout",
     "output_type": "stream",
     "text": [
      "+--------+-------------------+---------+----------+------------+----------+-----+----------+----------+--------------+-----------------+----+--------+--------+----+--------------+----------+\n",
      "|Severity|         Start_Time|Start_Lat| Start_Lng|        City|    County|State|   Zipcode|  Timezone|Temperature(F)|Weather_Condition|Bump|Junction|Crossing|Stop|Traffic_Signal|  Acc_date|\n",
      "+--------+-------------------+---------+----------+------------+----------+-----+----------+----------+--------------+-----------------+----+--------+--------+----+--------------+----------+\n",
      "|       3|2016-02-08 05:46:00|39.865147|-84.058723|      Dayton|Montgomery|   OH|     45424|US/Eastern|          36.9|       Light Rain|   0|       0|       0|   0|             0|2016-02-08|\n",
      "|       2|2016-02-08 06:07:59|39.928059|-82.831184|Reynoldsburg|  Franklin|   OH|43068-3402|US/Eastern|          37.9|       Light Rain|   0|       0|       0|   0|             0|2016-02-08|\n",
      "+--------+-------------------+---------+----------+------------+----------+-----+----------+----------+--------------+-----------------+----+--------+--------+----+--------------+----------+\n",
      "only showing top 2 rows"
     ]
    }
   ],
   "source": [
    "# Extracting DATE from timestamp\n",
    "df_traffic_filt=df_traffic_filt.withColumn('Acc_date',to_date(col(\"Start_Time\"),\"yyyy-MM-dd\"))\n",
    "df_traffic_filt.show(2)"
   ]
  },
  {
   "cell_type": "code",
   "execution_count": 11,
   "metadata": {},
   "outputs": [
    {
     "data": {
      "application/vnd.jupyter.widget-view+json": {
       "model_id": "09df5d972f494b9895ef83935aeb9839",
       "version_major": 2,
       "version_minor": 0
      },
      "text/plain": [
       "VBox()"
      ]
     },
     "metadata": {},
     "output_type": "display_data"
    },
    {
     "data": {
      "application/vnd.jupyter.widget-view+json": {
       "model_id": "",
       "version_major": 2,
       "version_minor": 0
      },
      "text/plain": [
       "FloatProgress(value=0.0, bar_style='info', description='Progress:', layout=Layout(height='25px', width='50%'),…"
      ]
     },
     "metadata": {},
     "output_type": "display_data"
    },
    {
     "name": "stdout",
     "output_type": "stream",
     "text": [
      "+--------+---------+----------+------------+----------+-----+----------+----------+--------------+-----------------+----+--------+--------+----+--------------+----------+\n",
      "|Severity|Start_Lat| Start_Lng|        City|    County|State|   Zipcode|  Timezone|Temperature(F)|Weather_Condition|Bump|Junction|Crossing|Stop|Traffic_Signal|  Acc_date|\n",
      "+--------+---------+----------+------------+----------+-----+----------+----------+--------------+-----------------+----+--------+--------+----+--------------+----------+\n",
      "|       3|39.865147|-84.058723|      Dayton|Montgomery|   OH|     45424|US/Eastern|          36.9|       Light Rain|   0|       0|       0|   0|             0|2016-02-08|\n",
      "|       2|39.928059|-82.831184|Reynoldsburg|  Franklin|   OH|43068-3402|US/Eastern|          37.9|       Light Rain|   0|       0|       0|   0|             0|2016-02-08|\n",
      "+--------+---------+----------+------------+----------+-----+----------+----------+--------------+-----------------+----+--------+--------+----+--------------+----------+\n",
      "only showing top 2 rows"
     ]
    }
   ],
   "source": [
    "df_traffic_filt=df_traffic_filt.drop('Start_Time')\n",
    "#df_traffic_filt=df_traffic_filt.drop('TMC')\n",
    "\n",
    "df_traffic_filt.show(2)"
   ]
  },
  {
   "cell_type": "code",
   "execution_count": 12,
   "metadata": {},
   "outputs": [
    {
     "data": {
      "application/vnd.jupyter.widget-view+json": {
       "model_id": "8c55f6c31145470fa46310bb8ed52073",
       "version_major": 2,
       "version_minor": 0
      },
      "text/plain": [
       "VBox()"
      ]
     },
     "metadata": {},
     "output_type": "display_data"
    },
    {
     "data": {
      "application/vnd.jupyter.widget-view+json": {
       "model_id": "",
       "version_major": 2,
       "version_minor": 0
      },
      "text/plain": [
       "FloatProgress(value=0.0, bar_style='info', description='Progress:', layout=Layout(height='25px', width='50%'),…"
      ]
     },
     "metadata": {},
     "output_type": "display_data"
    },
    {
     "name": "stdout",
     "output_type": "stream",
     "text": [
      "root\n",
      " |-- Severity: integer (nullable = true)\n",
      " |-- Start_Lat: double (nullable = true)\n",
      " |-- Start_Lng: double (nullable = true)\n",
      " |-- City: string (nullable = true)\n",
      " |-- County: string (nullable = true)\n",
      " |-- State: string (nullable = true)\n",
      " |-- Zipcode: string (nullable = true)\n",
      " |-- Timezone: string (nullable = true)\n",
      " |-- Temperature(F): double (nullable = true)\n",
      " |-- Weather_Condition: string (nullable = true)\n",
      " |-- Bump: boolean (nullable = true)\n",
      " |-- Junction: integer (nullable = true)\n",
      " |-- Crossing: integer (nullable = true)\n",
      " |-- Stop: integer (nullable = true)\n",
      " |-- Traffic_Signal: integer (nullable = true)\n",
      " |-- Acc_date: date (nullable = true)"
     ]
    }
   ],
   "source": [
    "df_traffic_filt.printSchema()"
   ]
  },
  {
   "cell_type": "code",
   "execution_count": 12,
   "metadata": {},
   "outputs": [
    {
     "data": {
      "application/vnd.jupyter.widget-view+json": {
       "model_id": "bc76bd54a2d74ade86ed82619f06a039",
       "version_major": 2,
       "version_minor": 0
      },
      "text/plain": [
       "VBox()"
      ]
     },
     "metadata": {},
     "output_type": "display_data"
    },
    {
     "data": {
      "application/vnd.jupyter.widget-view+json": {
       "model_id": "",
       "version_major": 2,
       "version_minor": 0
      },
      "text/plain": [
       "FloatProgress(value=0.0, bar_style='info', description='Progress:', layout=Layout(height='25px', width='50%'),…"
      ]
     },
     "metadata": {},
     "output_type": "display_data"
    }
   ],
   "source": [
    "df_traffic_filt=df_traffic_filt.drop('City')\n",
    "df_traffic_filt=df_traffic_filt.drop('Zipcode')\n",
    "\n"
   ]
  },
  {
   "cell_type": "code",
   "execution_count": 13,
   "metadata": {},
   "outputs": [
    {
     "data": {
      "application/vnd.jupyter.widget-view+json": {
       "model_id": "7ca563611fb64feaa96de6d1a5d0a5ca",
       "version_major": 2,
       "version_minor": 0
      },
      "text/plain": [
       "VBox()"
      ]
     },
     "metadata": {},
     "output_type": "display_data"
    },
    {
     "data": {
      "application/vnd.jupyter.widget-view+json": {
       "model_id": "",
       "version_major": 2,
       "version_minor": 0
      },
      "text/plain": [
       "FloatProgress(value=0.0, bar_style='info', description='Progress:', layout=Layout(height='25px', width='50%'),…"
      ]
     },
     "metadata": {},
     "output_type": "display_data"
    }
   ],
   "source": [
    "# Reading the state-region division file after kmeans\n",
    "df_StateRegion= spark.read.csv('s3://team036vsix/State_Region.csv', header=True, inferSchema=True)"
   ]
  },
  {
   "cell_type": "code",
   "execution_count": 14,
   "metadata": {},
   "outputs": [
    {
     "data": {
      "application/vnd.jupyter.widget-view+json": {
       "model_id": "e6112aba54e644bb948faec072b67d46",
       "version_major": 2,
       "version_minor": 0
      },
      "text/plain": [
       "VBox()"
      ]
     },
     "metadata": {},
     "output_type": "display_data"
    },
    {
     "data": {
      "application/vnd.jupyter.widget-view+json": {
       "model_id": "",
       "version_major": 2,
       "version_minor": 0
      },
      "text/plain": [
       "FloatProgress(value=0.0, bar_style='info', description='Progress:', layout=Layout(height='25px', width='50%'),…"
      ]
     },
     "metadata": {},
     "output_type": "display_data"
    },
    {
     "name": "stdout",
     "output_type": "stream",
     "text": [
      "root\n",
      " |-- RSTATE: string (nullable = true)\n",
      " |-- Region: string (nullable = true)"
     ]
    }
   ],
   "source": [
    "df_StateRegion.printSchema()"
   ]
  },
  {
   "cell_type": "code",
   "execution_count": 15,
   "metadata": {},
   "outputs": [
    {
     "data": {
      "application/vnd.jupyter.widget-view+json": {
       "model_id": "e9a2b49296794af493a8053f05c4c14b",
       "version_major": 2,
       "version_minor": 0
      },
      "text/plain": [
       "VBox()"
      ]
     },
     "metadata": {},
     "output_type": "display_data"
    },
    {
     "data": {
      "application/vnd.jupyter.widget-view+json": {
       "model_id": "",
       "version_major": 2,
       "version_minor": 0
      },
      "text/plain": [
       "FloatProgress(value=0.0, bar_style='info', description='Progress:', layout=Layout(height='25px', width='50%'),…"
      ]
     },
     "metadata": {},
     "output_type": "display_data"
    }
   ],
   "source": [
    "df_StateRegion = df_StateRegion.withColumn(\"RSTATE\", trim(df_StateRegion.RSTATE))"
   ]
  },
  {
   "cell_type": "code",
   "execution_count": 16,
   "metadata": {},
   "outputs": [
    {
     "data": {
      "application/vnd.jupyter.widget-view+json": {
       "model_id": "8bf9c5b6538e402293cfece42b54379a",
       "version_major": 2,
       "version_minor": 0
      },
      "text/plain": [
       "VBox()"
      ]
     },
     "metadata": {},
     "output_type": "display_data"
    },
    {
     "data": {
      "application/vnd.jupyter.widget-view+json": {
       "model_id": "",
       "version_major": 2,
       "version_minor": 0
      },
      "text/plain": [
       "FloatProgress(value=0.0, bar_style='info', description='Progress:', layout=Layout(height='25px', width='50%'),…"
      ]
     },
     "metadata": {},
     "output_type": "display_data"
    },
    {
     "name": "stdout",
     "output_type": "stream",
     "text": [
      "+------+---------+\n",
      "|RSTATE|   Region|\n",
      "+------+---------+\n",
      "|    MN|  Midwest|\n",
      "|    DC|    South|\n",
      "|    MD|    South|\n",
      "|    DE|    South|\n",
      "|    MO|  Midwest|\n",
      "|    IL|  Midwest|\n",
      "|    MS|  Midwest|\n",
      "|    SD|  Midwest|\n",
      "|    UT|     West|\n",
      "|    CA|     West|\n",
      "|    CT|Northeast|\n",
      "|    NC|    South|\n",
      "|    ME|Northeast|\n",
      "|    IA|  Midwest|\n",
      "|    NM|     West|\n",
      "|    AR|    South|\n",
      "|    AZ|     West|\n",
      "|    LA|    South|\n",
      "|    NJ|Northeast|\n",
      "|    WI|  Midwest|\n",
      "+------+---------+\n",
      "only showing top 20 rows"
     ]
    }
   ],
   "source": [
    "df_StateRegion.show()"
   ]
  },
  {
   "cell_type": "code",
   "execution_count": 17,
   "metadata": {},
   "outputs": [
    {
     "data": {
      "application/vnd.jupyter.widget-view+json": {
       "model_id": "216e21d175de4fd5bde6f1d5dc334fca",
       "version_major": 2,
       "version_minor": 0
      },
      "text/plain": [
       "VBox()"
      ]
     },
     "metadata": {},
     "output_type": "display_data"
    },
    {
     "data": {
      "application/vnd.jupyter.widget-view+json": {
       "model_id": "",
       "version_major": 2,
       "version_minor": 0
      },
      "text/plain": [
       "FloatProgress(value=0.0, bar_style='info', description='Progress:', layout=Layout(height='25px', width='50%'),…"
      ]
     },
     "metadata": {},
     "output_type": "display_data"
    }
   ],
   "source": [
    "#Joining the traffic accident and state-region datasets\n",
    "df_traffic_2=df_traffic_filt.join(df_StateRegion,df_traffic_filt.State==df_StateRegion.RSTATE,\"inner\")"
   ]
  },
  {
   "cell_type": "code",
   "execution_count": 18,
   "metadata": {},
   "outputs": [
    {
     "data": {
      "application/vnd.jupyter.widget-view+json": {
       "model_id": "9a50d892f91549e497104fd1b6427582",
       "version_major": 2,
       "version_minor": 0
      },
      "text/plain": [
       "VBox()"
      ]
     },
     "metadata": {},
     "output_type": "display_data"
    },
    {
     "data": {
      "application/vnd.jupyter.widget-view+json": {
       "model_id": "",
       "version_major": 2,
       "version_minor": 0
      },
      "text/plain": [
       "FloatProgress(value=0.0, bar_style='info', description='Progress:', layout=Layout(height='25px', width='50%'),…"
      ]
     },
     "metadata": {},
     "output_type": "display_data"
    }
   ],
   "source": [
    "df_traffic_2=df_traffic_2.drop('Timezone')\n",
    "df_traffic_2=df_traffic_2.drop('RSTATE')\n"
   ]
  },
  {
   "cell_type": "code",
   "execution_count": 19,
   "metadata": {},
   "outputs": [
    {
     "data": {
      "application/vnd.jupyter.widget-view+json": {
       "model_id": "dfbceb60a3df4c6aba641f750bdcbb42",
       "version_major": 2,
       "version_minor": 0
      },
      "text/plain": [
       "VBox()"
      ]
     },
     "metadata": {},
     "output_type": "display_data"
    },
    {
     "data": {
      "application/vnd.jupyter.widget-view+json": {
       "model_id": "",
       "version_major": 2,
       "version_minor": 0
      },
      "text/plain": [
       "FloatProgress(value=0.0, bar_style='info', description='Progress:', layout=Layout(height='25px', width='50%'),…"
      ]
     },
     "metadata": {},
     "output_type": "display_data"
    },
    {
     "name": "stdout",
     "output_type": "stream",
     "text": [
      "+--------+---------+----------+----------+-----+--------------+-----------------+----+--------+--------+----+--------------+----------+-------+\n",
      "|Severity|Start_Lat| Start_Lng|    County|State|Temperature(F)|Weather_Condition|Bump|Junction|Crossing|Stop|Traffic_Signal|  Acc_date| Region|\n",
      "+--------+---------+----------+----------+-----+--------------+-----------------+----+--------+--------+----+--------------+----------+-------+\n",
      "|       3|39.865147|-84.058723|Montgomery|   OH|          36.9|       Light Rain|   0|       0|       0|   0|             0|2016-02-08|Midwest|\n",
      "|       2|39.928059|-82.831184|  Franklin|   OH|          37.9|       Light Rain|   0|       0|       0|   0|             0|2016-02-08|Midwest|\n",
      "|       2|39.063148|-84.032608|  Clermont|   OH|          36.0|         Overcast|   0|       0|       0|   0|             1|2016-02-08|Midwest|\n",
      "|       3|39.747753|-84.205582|Montgomery|   OH|          35.1|    Mostly Cloudy|   0|       0|       0|   0|             0|2016-02-08|Midwest|\n",
      "|       2|39.627781|-84.188354|Montgomery|   OH|          36.0|    Mostly Cloudy|   0|       0|       0|   0|             1|2016-02-08|Midwest|\n",
      "|       3| 40.10059|-82.925194|  Franklin|   OH|          37.9|       Light Rain|   0|       0|       0|   0|             0|2016-02-08|Midwest|\n",
      "|       2|39.758274|-84.230507|Montgomery|   OH|          34.0|         Overcast|   0|       0|       0|   0|             0|2016-02-08|Midwest|\n",
      "|       3|39.770382|-84.194901|Montgomery|   OH|          34.0|         Overcast|   0|       0|       0|   0|             0|2016-02-08|Midwest|\n",
      "|       2|39.778061|-84.172005|Montgomery|   OH|          33.3|    Mostly Cloudy|   0|       0|       0|   0|             0|2016-02-08|Midwest|\n",
      "|       3| 40.10059|-82.925194|  Franklin|   OH|          37.4|       Light Rain|   0|       0|       0|   0|             0|2016-02-08|Midwest|\n",
      "|       3|39.952812|-83.119293|  Franklin|   OH|          35.6|             Rain|   0|       1|       1|   0|             0|2016-02-08|Midwest|\n",
      "|       3|39.932709| -82.83091|  Franklin|   OH|          37.4|       Light Rain|   0|       0|       0|   0|             0|2016-02-08|Midwest|\n",
      "|       2|39.737633|-84.149933|Montgomery|   OH|          33.8|         Overcast|   0|       0|       0|   0|             0|2016-02-08|Midwest|\n",
      "|       2| 39.79076|-84.241547|Montgomery|   OH|          36.0|    Mostly Cloudy|   0|       0|       0|   0|             1|2016-02-08|Midwest|\n",
      "|       2|39.972038|-82.913521|  Franklin|   OH|          37.4|       Light Rain|   0|       0|       0|   0|             1|2016-02-08|Midwest|\n",
      "|       2|39.745888| -84.17041|Montgomery|   OH|          33.8|         Overcast|   0|       0|       0|   0|             0|2016-02-08|Midwest|\n",
      "|       2|39.748329|-84.224007|Montgomery|   OH|          35.6|    Mostly Cloudy|   0|       0|       0|   0|             0|2016-02-08|Midwest|\n",
      "|       2|39.752174|-84.239952|Montgomery|   OH|          36.0|    Mostly Cloudy|   0|       0|       0|   0|             0|2016-02-08|Midwest|\n",
      "|       2|39.740669|-84.184135|Montgomery|   OH|          37.4|         Overcast|   0|       0|       1|   0|             1|2016-02-08|Midwest|\n",
      "|       2|39.790703|-84.244461|Montgomery|   OH|          36.0|    Mostly Cloudy|   0|       0|       0|   0|             0|2016-02-08|Midwest|\n",
      "+--------+---------+----------+----------+-----+--------------+-----------------+----+--------+--------+----+--------------+----------+-------+\n",
      "only showing top 20 rows"
     ]
    }
   ],
   "source": [
    "df_traffic_2.show()"
   ]
  },
  {
   "cell_type": "code",
   "execution_count": 20,
   "metadata": {},
   "outputs": [
    {
     "data": {
      "application/vnd.jupyter.widget-view+json": {
       "model_id": "3fd3af49d02945cca8b108e2f422407c",
       "version_major": 2,
       "version_minor": 0
      },
      "text/plain": [
       "VBox()"
      ]
     },
     "metadata": {},
     "output_type": "display_data"
    },
    {
     "data": {
      "application/vnd.jupyter.widget-view+json": {
       "model_id": "",
       "version_major": 2,
       "version_minor": 0
      },
      "text/plain": [
       "FloatProgress(value=0.0, bar_style='info', description='Progress:', layout=Layout(height='25px', width='50%'),…"
      ]
     },
     "metadata": {},
     "output_type": "display_data"
    }
   ],
   "source": [
    "#REplacing null values for weather condition with mode\n",
    "df_traffic_2 = df_traffic_2.fillna({'Weather_Condition':'Fair'})"
   ]
  },
  {
   "cell_type": "code",
   "execution_count": 21,
   "metadata": {},
   "outputs": [
    {
     "data": {
      "application/vnd.jupyter.widget-view+json": {
       "model_id": "0468e833781741f5920a10bc4dfc64ce",
       "version_major": 2,
       "version_minor": 0
      },
      "text/plain": [
       "VBox()"
      ]
     },
     "metadata": {},
     "output_type": "display_data"
    },
    {
     "data": {
      "application/vnd.jupyter.widget-view+json": {
       "model_id": "",
       "version_major": 2,
       "version_minor": 0
      },
      "text/plain": [
       "FloatProgress(value=0.0, bar_style='info', description='Progress:', layout=Layout(height='25px', width='50%'),…"
      ]
     },
     "metadata": {},
     "output_type": "display_data"
    }
   ],
   "source": [
    "#Replacing null values for temperature with mean\n",
    "df_traffic_2 = df_traffic_2.fillna({'Temperature(F)':50.00})"
   ]
  },
  {
   "cell_type": "code",
   "execution_count": 22,
   "metadata": {
    "scrolled": true
   },
   "outputs": [
    {
     "data": {
      "application/vnd.jupyter.widget-view+json": {
       "model_id": "b3512404924a4c479878a675a72ebaae",
       "version_major": 2,
       "version_minor": 0
      },
      "text/plain": [
       "VBox()"
      ]
     },
     "metadata": {},
     "output_type": "display_data"
    },
    {
     "data": {
      "application/vnd.jupyter.widget-view+json": {
       "model_id": "",
       "version_major": 2,
       "version_minor": 0
      },
      "text/plain": [
       "FloatProgress(value=0.0, bar_style='info', description='Progress:', layout=Layout(height='25px', width='50%'),…"
      ]
     },
     "metadata": {},
     "output_type": "display_data"
    },
    {
     "name": "stdout",
     "output_type": "stream",
     "text": [
      "+--------+---------+---------+------+-----+--------------+-----------------+----+--------+--------+----+--------------+--------+------+\n",
      "|Severity|Start_Lat|Start_Lng|County|State|Temperature(F)|Weather_Condition|Bump|Junction|Crossing|Stop|Traffic_Signal|Acc_date|Region|\n",
      "+--------+---------+---------+------+-----+--------------+-----------------+----+--------+--------+----+--------------+--------+------+\n",
      "|       0|        0|        0|     0|    0|             0|                0|   0|       0|       0|   0|             0|       0|     0|\n",
      "+--------+---------+---------+------+-----+--------------+-----------------+----+--------+--------+----+--------------+--------+------+"
     ]
    }
   ],
   "source": [
    "df_traffic_2.select([count(when(col(c).isNull(), c)).alias(c) for c in df_traffic_2.columns]).show()"
   ]
  },
  {
   "cell_type": "code",
   "execution_count": 36,
   "metadata": {},
   "outputs": [
    {
     "data": {
      "application/vnd.jupyter.widget-view+json": {
       "model_id": "556ee863005b4cb0a25de3908b51bc4a",
       "version_major": 2,
       "version_minor": 0
      },
      "text/plain": [
       "VBox()"
      ]
     },
     "metadata": {},
     "output_type": "display_data"
    },
    {
     "data": {
      "application/vnd.jupyter.widget-view+json": {
       "model_id": "",
       "version_major": 2,
       "version_minor": 0
      },
      "text/plain": [
       "FloatProgress(value=0.0, bar_style='info', description='Progress:', layout=Layout(height='25px', width='50%'),…"
      ]
     },
     "metadata": {},
     "output_type": "display_data"
    }
   ],
   "source": [
    "df1_traffic.coalesce(1).write.option(\"header\",\"true\").csv('s3://team036vsix/Traffic_final_full_0328.csv')\n"
   ]
  },
  {
   "cell_type": "code",
   "execution_count": 2,
   "metadata": {},
   "outputs": [
    {
     "data": {
      "application/vnd.jupyter.widget-view+json": {
       "model_id": "b7578e7045744f57be104c77d2dbdc64",
       "version_major": 2,
       "version_minor": 0
      },
      "text/plain": [
       "VBox()"
      ]
     },
     "metadata": {},
     "output_type": "display_data"
    },
    {
     "data": {
      "application/vnd.jupyter.widget-view+json": {
       "model_id": "",
       "version_major": 2,
       "version_minor": 0
      },
      "text/plain": [
       "FloatProgress(value=0.0, bar_style='info', description='Progress:', layout=Layout(height='25px', width='50%'),…"
      ]
     },
     "metadata": {},
     "output_type": "display_data"
    }
   ],
   "source": [
    "df1_traffic= spark.read.csv('s3://team036vsix/Traffic_final.csv/', header=True, inferSchema=True)"
   ]
  },
  {
   "cell_type": "code",
   "execution_count": 3,
   "metadata": {},
   "outputs": [
    {
     "data": {
      "application/vnd.jupyter.widget-view+json": {
       "model_id": "420a5ceedc9c4bb595fb34ed29594a7b",
       "version_major": 2,
       "version_minor": 0
      },
      "text/plain": [
       "VBox()"
      ]
     },
     "metadata": {},
     "output_type": "display_data"
    },
    {
     "data": {
      "application/vnd.jupyter.widget-view+json": {
       "model_id": "",
       "version_major": 2,
       "version_minor": 0
      },
      "text/plain": [
       "FloatProgress(value=0.0, bar_style='info', description='Progress:', layout=Layout(height='25px', width='50%'),…"
      ]
     },
     "metadata": {},
     "output_type": "display_data"
    },
    {
     "name": "stdout",
     "output_type": "stream",
     "text": [
      "+--------+---------+----------+------+-----+--------------+-----------------+----+--------+--------+----+--------------+-------------------+------+\n",
      "|Severity|Start_Lat| Start_Lng|County|State|Temperature(F)|Weather_Condition|Bump|Junction|Crossing|Stop|Traffic_Signal|           Acc_date|Region|\n",
      "+--------+---------+----------+------+-----+--------------+-----------------+----+--------+--------+----+--------------+-------------------+------+\n",
      "|       3|32.792976|-96.727493|Dallas|   TX|          37.0|         Overcast|   0|       0|       0|   0|             0|2017-12-28 00:00:00| South|\n",
      "|       2|35.813446| -96.48568| Creek|   OK|          29.1|         Overcast|   0|       0|       0|   0|             0|2017-12-28 00:00:00| South|\n",
      "+--------+---------+----------+------+-----+--------------+-----------------+----+--------+--------+----+--------------+-------------------+------+\n",
      "only showing top 2 rows"
     ]
    }
   ],
   "source": [
    "df1_traffic.show(2)"
   ]
  },
  {
   "cell_type": "code",
   "execution_count": 4,
   "metadata": {},
   "outputs": [
    {
     "data": {
      "application/vnd.jupyter.widget-view+json": {
       "model_id": "39bcc0d90b2b431da0476f3d3be9d201",
       "version_major": 2,
       "version_minor": 0
      },
      "text/plain": [
       "VBox()"
      ]
     },
     "metadata": {},
     "output_type": "display_data"
    },
    {
     "data": {
      "application/vnd.jupyter.widget-view+json": {
       "model_id": "",
       "version_major": 2,
       "version_minor": 0
      },
      "text/plain": [
       "FloatProgress(value=0.0, bar_style='info', description='Progress:', layout=Layout(height='25px', width='50%'),…"
      ]
     },
     "metadata": {},
     "output_type": "display_data"
    },
    {
     "name": "stdout",
     "output_type": "stream",
     "text": [
      "4232541"
     ]
    }
   ],
   "source": [
    "df1_traffic.count()"
   ]
  },
  {
   "cell_type": "code",
   "execution_count": 5,
   "metadata": {},
   "outputs": [
    {
     "data": {
      "application/vnd.jupyter.widget-view+json": {
       "model_id": "cbd5461bdd804471b44ed9987eecc909",
       "version_major": 2,
       "version_minor": 0
      },
      "text/plain": [
       "VBox()"
      ]
     },
     "metadata": {},
     "output_type": "display_data"
    },
    {
     "data": {
      "application/vnd.jupyter.widget-view+json": {
       "model_id": "",
       "version_major": 2,
       "version_minor": 0
      },
      "text/plain": [
       "FloatProgress(value=0.0, bar_style='info', description='Progress:', layout=Layout(height='25px', width='50%'),…"
      ]
     },
     "metadata": {},
     "output_type": "display_data"
    },
    {
     "name": "stdout",
     "output_type": "stream",
     "text": [
      "+--------+---------+---------+------+-----+--------------+-----------------+----+--------+--------+----+--------------+--------+------+\n",
      "|Severity|Start_Lat|Start_Lng|County|State|Temperature(F)|Weather_Condition|Bump|Junction|Crossing|Stop|Traffic_Signal|Acc_date|Region|\n",
      "+--------+---------+---------+------+-----+--------------+-----------------+----+--------+--------+----+--------------+--------+------+\n",
      "|       0|        0|        0|     0|    0|             0|                0|   0|       0|       0|   0|             0|       0|     0|\n",
      "+--------+---------+---------+------+-----+--------------+-----------------+----+--------+--------+----+--------------+--------+------+"
     ]
    }
   ],
   "source": [
    "df1_traffic.select([count(when(col(c).isNull(), c)).alias(c) for c in df1_traffic.columns]).show()"
   ]
  },
  {
   "cell_type": "markdown",
   "metadata": {},
   "source": [
    "## PART 2"
   ]
  },
  {
   "cell_type": "markdown",
   "metadata": {},
   "source": [
    "* Below is the code used for combining of COVID and Traffic Accident Dataset\n",
    "* As COVID started in the beginning of 2020, we combined the both datasets only for the year 2020"
   ]
  },
  {
   "cell_type": "code",
   "execution_count": 69,
   "metadata": {},
   "outputs": [
    {
     "data": {
      "application/vnd.jupyter.widget-view+json": {
       "model_id": "d10472abe8964961a649f09b63f3d203",
       "version_major": 2,
       "version_minor": 0
      },
      "text/plain": [
       "VBox()"
      ]
     },
     "metadata": {},
     "output_type": "display_data"
    },
    {
     "data": {
      "application/vnd.jupyter.widget-view+json": {
       "model_id": "",
       "version_major": 2,
       "version_minor": 0
      },
      "text/plain": [
       "FloatProgress(value=0.0, bar_style='info', description='Progress:', layout=Layout(height='25px', width='50%'),…"
      ]
     },
     "metadata": {},
     "output_type": "display_data"
    }
   ],
   "source": [
    "# Reading the cleaned COVID dataset into a dataframe\n",
    "df1_covid= spark.read.csv('s3://team036vsix/new_covid_counts.csv', header=True, inferSchema=True)#s3://team036vsix/new_covid_counts.csv"
   ]
  },
  {
   "cell_type": "code",
   "execution_count": 71,
   "metadata": {},
   "outputs": [
    {
     "data": {
      "application/vnd.jupyter.widget-view+json": {
       "model_id": "fe6ca036affa4d3e83255f99a911b72e",
       "version_major": 2,
       "version_minor": 0
      },
      "text/plain": [
       "VBox()"
      ]
     },
     "metadata": {},
     "output_type": "display_data"
    },
    {
     "data": {
      "application/vnd.jupyter.widget-view+json": {
       "model_id": "",
       "version_major": 2,
       "version_minor": 0
      },
      "text/plain": [
       "FloatProgress(value=0.0, bar_style='info', description='Progress:', layout=Layout(height='25px', width='50%'),…"
      ]
     },
     "metadata": {},
     "output_type": "display_data"
    }
   ],
   "source": [
    "# Modifying the Date column\n",
    "df1_covid=df1_covid.withColumn('Covid_date',to_date(col(\"Date\"),\"yyyy-MM-dd\"))#.drop('Date','countyFIPS','StateFIPS')\n"
   ]
  },
  {
   "cell_type": "code",
   "execution_count": 72,
   "metadata": {},
   "outputs": [
    {
     "data": {
      "application/vnd.jupyter.widget-view+json": {
       "model_id": "60f7c4ab6f11417ba27c21226670d363",
       "version_major": 2,
       "version_minor": 0
      },
      "text/plain": [
       "VBox()"
      ]
     },
     "metadata": {},
     "output_type": "display_data"
    },
    {
     "data": {
      "application/vnd.jupyter.widget-view+json": {
       "model_id": "",
       "version_major": 2,
       "version_minor": 0
      },
      "text/plain": [
       "FloatProgress(value=0.0, bar_style='info', description='Progress:', layout=Layout(height='25px', width='50%'),…"
      ]
     },
     "metadata": {},
     "output_type": "display_data"
    }
   ],
   "source": [
    "df1_covid=df1_covid.drop('Date')"
   ]
  },
  {
   "cell_type": "code",
   "execution_count": 73,
   "metadata": {},
   "outputs": [
    {
     "data": {
      "application/vnd.jupyter.widget-view+json": {
       "model_id": "9db2031bbb6b492aa4eea4b75f42076e",
       "version_major": 2,
       "version_minor": 0
      },
      "text/plain": [
       "VBox()"
      ]
     },
     "metadata": {},
     "output_type": "display_data"
    },
    {
     "data": {
      "application/vnd.jupyter.widget-view+json": {
       "model_id": "",
       "version_major": 2,
       "version_minor": 0
      },
      "text/plain": [
       "FloatProgress(value=0.0, bar_style='info', description='Progress:', layout=Layout(height='25px', width='50%'),…"
      ]
     },
     "metadata": {},
     "output_type": "display_data"
    },
    {
     "name": "stdout",
     "output_type": "stream",
     "text": [
      "+----------+-----+-----+----------+\n",
      "|CountyName|State|Count|Covid_date|\n",
      "+----------+-----+-----+----------+\n",
      "| Abbeville|   SC|    0|2020-01-01|\n",
      "| Abbeville|   SC|    0|2020-01-02|\n",
      "| Abbeville|   SC|    0|2020-01-03|\n",
      "| Abbeville|   SC|    0|2020-01-04|\n",
      "| Abbeville|   SC|    0|2020-01-05|\n",
      "+----------+-----+-----+----------+\n",
      "only showing top 5 rows"
     ]
    }
   ],
   "source": [
    "df1_covid.show(5)"
   ]
  },
  {
   "cell_type": "code",
   "execution_count": 12,
   "metadata": {},
   "outputs": [
    {
     "data": {
      "application/vnd.jupyter.widget-view+json": {
       "model_id": "d6f2a819c6cd473cb2591537d18985db",
       "version_major": 2,
       "version_minor": 0
      },
      "text/plain": [
       "VBox()"
      ]
     },
     "metadata": {},
     "output_type": "display_data"
    },
    {
     "data": {
      "application/vnd.jupyter.widget-view+json": {
       "model_id": "",
       "version_major": 2,
       "version_minor": 0
      },
      "text/plain": [
       "FloatProgress(value=0.0, bar_style='info', description='Progress:', layout=Layout(height='25px', width='50%'),…"
      ]
     },
     "metadata": {},
     "output_type": "display_data"
    },
    {
     "name": "stdout",
     "output_type": "stream",
     "text": [
      "root\n",
      " |-- CountyName: string (nullable = true)\n",
      " |-- State: string (nullable = true)\n",
      " |-- Count: integer (nullable = true)\n",
      " |-- Covid_date: date (nullable = true)"
     ]
    }
   ],
   "source": [
    "df1_covid.printSchema()"
   ]
  },
  {
   "cell_type": "code",
   "execution_count": 74,
   "metadata": {},
   "outputs": [
    {
     "data": {
      "application/vnd.jupyter.widget-view+json": {
       "model_id": "eef121a4b3c84e1f971a40e6d89a086f",
       "version_major": 2,
       "version_minor": 0
      },
      "text/plain": [
       "VBox()"
      ]
     },
     "metadata": {},
     "output_type": "display_data"
    },
    {
     "data": {
      "application/vnd.jupyter.widget-view+json": {
       "model_id": "",
       "version_major": 2,
       "version_minor": 0
      },
      "text/plain": [
       "FloatProgress(value=0.0, bar_style='info', description='Progress:', layout=Layout(height='25px', width='50%'),…"
      ]
     },
     "metadata": {},
     "output_type": "display_data"
    }
   ],
   "source": [
    "# Filtering the COVID dataset for 2020 data for combining\n",
    "df1_covid_filt=df1_covid.filter(col('Covid_date')<='2020-12-31')"
   ]
  },
  {
   "cell_type": "code",
   "execution_count": 75,
   "metadata": {},
   "outputs": [
    {
     "data": {
      "application/vnd.jupyter.widget-view+json": {
       "model_id": "576a3d6a45de4a5db00bbb31ecc39f5a",
       "version_major": 2,
       "version_minor": 0
      },
      "text/plain": [
       "VBox()"
      ]
     },
     "metadata": {},
     "output_type": "display_data"
    },
    {
     "data": {
      "application/vnd.jupyter.widget-view+json": {
       "model_id": "",
       "version_major": 2,
       "version_minor": 0
      },
      "text/plain": [
       "FloatProgress(value=0.0, bar_style='info', description='Progress:', layout=Layout(height='25px', width='50%'),…"
      ]
     },
     "metadata": {},
     "output_type": "display_data"
    },
    {
     "name": "stdout",
     "output_type": "stream",
     "text": [
      "+----------+-----+-----+----------+\n",
      "|CountyName|State|Count|Covid_date|\n",
      "+----------+-----+-----+----------+\n",
      "| Abbeville|   SC|    0|2020-01-01|\n",
      "| Abbeville|   SC|    0|2020-01-02|\n",
      "| Abbeville|   SC|    0|2020-01-03|\n",
      "| Abbeville|   SC|    0|2020-01-04|\n",
      "| Abbeville|   SC|    0|2020-01-05|\n",
      "+----------+-----+-----+----------+\n",
      "only showing top 5 rows"
     ]
    }
   ],
   "source": [
    "df1_covid_filt.show(5)"
   ]
  },
  {
   "cell_type": "code",
   "execution_count": 13,
   "metadata": {},
   "outputs": [
    {
     "data": {
      "application/vnd.jupyter.widget-view+json": {
       "model_id": "c3198dfc6b2a4566bc6277fcd79c7f8e",
       "version_major": 2,
       "version_minor": 0
      },
      "text/plain": [
       "VBox()"
      ]
     },
     "metadata": {},
     "output_type": "display_data"
    },
    {
     "data": {
      "application/vnd.jupyter.widget-view+json": {
       "model_id": "",
       "version_major": 2,
       "version_minor": 0
      },
      "text/plain": [
       "FloatProgress(value=0.0, bar_style='info', description='Progress:', layout=Layout(height='25px', width='50%'),…"
      ]
     },
     "metadata": {},
     "output_type": "display_data"
    }
   ],
   "source": [
    "# Filtering the traffic accident dataset for the year 2020\n",
    "df1_traffic_filt= df1_traffic.filter(col('Acc_date')>='2020-01-01')"
   ]
  },
  {
   "cell_type": "code",
   "execution_count": 14,
   "metadata": {},
   "outputs": [
    {
     "data": {
      "application/vnd.jupyter.widget-view+json": {
       "model_id": "fb22a4efc8bd4a1e9fac4d52053ac2d5",
       "version_major": 2,
       "version_minor": 0
      },
      "text/plain": [
       "VBox()"
      ]
     },
     "metadata": {},
     "output_type": "display_data"
    },
    {
     "data": {
      "application/vnd.jupyter.widget-view+json": {
       "model_id": "",
       "version_major": 2,
       "version_minor": 0
      },
      "text/plain": [
       "FloatProgress(value=0.0, bar_style='info', description='Progress:', layout=Layout(height='25px', width='50%'),…"
      ]
     },
     "metadata": {},
     "output_type": "display_data"
    },
    {
     "name": "stdout",
     "output_type": "stream",
     "text": [
      "root\n",
      " |-- Severity: integer (nullable = true)\n",
      " |-- Start_Lat: double (nullable = true)\n",
      " |-- Start_Lng: double (nullable = true)\n",
      " |-- County: string (nullable = true)\n",
      " |-- State: string (nullable = true)\n",
      " |-- Temperature(F): double (nullable = true)\n",
      " |-- Weather_Condition: string (nullable = true)\n",
      " |-- Bump: integer (nullable = true)\n",
      " |-- Junction: integer (nullable = true)\n",
      " |-- Crossing: integer (nullable = true)\n",
      " |-- Stop: integer (nullable = true)\n",
      " |-- Traffic_Signal: integer (nullable = true)\n",
      " |-- Acc_date: timestamp (nullable = true)\n",
      " |-- Region: string (nullable = true)"
     ]
    }
   ],
   "source": [
    "df1_traffic_filt.printSchema()"
   ]
  },
  {
   "cell_type": "markdown",
   "metadata": {},
   "source": [
    "* The following code is to 'replace' the County names in the accident dataset so that it can be merged with the COVID dataset"
   ]
  },
  {
   "cell_type": "code",
   "execution_count": 6,
   "metadata": {},
   "outputs": [
    {
     "data": {
      "application/vnd.jupyter.widget-view+json": {
       "model_id": "f4087286ff27477b9dca5fe2e1210b46",
       "version_major": 2,
       "version_minor": 0
      },
      "text/plain": [
       "VBox()"
      ]
     },
     "metadata": {},
     "output_type": "display_data"
    },
    {
     "data": {
      "application/vnd.jupyter.widget-view+json": {
       "model_id": "",
       "version_major": 2,
       "version_minor": 0
      },
      "text/plain": [
       "FloatProgress(value=0.0, bar_style='info', description='Progress:', layout=Layout(height='25px', width='50%'),…"
      ]
     },
     "metadata": {},
     "output_type": "display_data"
    }
   ],
   "source": [
    "# Replace-1\n",
    "df1_traffic=df1_traffic.withColumn('County', regexp_replace('County','Macon-Bibb County','Macon'))"
   ]
  },
  {
   "cell_type": "code",
   "execution_count": 9,
   "metadata": {},
   "outputs": [
    {
     "data": {
      "application/vnd.jupyter.widget-view+json": {
       "model_id": "f49916e1daf54ee0a91e995f73b63b74",
       "version_major": 2,
       "version_minor": 0
      },
      "text/plain": [
       "VBox()"
      ]
     },
     "metadata": {},
     "output_type": "display_data"
    },
    {
     "data": {
      "application/vnd.jupyter.widget-view+json": {
       "model_id": "",
       "version_major": 2,
       "version_minor": 0
      },
      "text/plain": [
       "FloatProgress(value=0.0, bar_style='info', description='Progress:', layout=Layout(height='25px', width='50%'),…"
      ]
     },
     "metadata": {},
     "output_type": "display_data"
    }
   ],
   "source": [
    "#Replace-2\n",
    "df1_traffic=df1_traffic.withColumn('County', regexp_replace('County','Baltimore County','Baltimore'))\n",
    "#filter(col('State')=='MD').show()#\\\n",
    "#.withColumn('County', regexp_replace('County','Macon-Bibb County','Macon')).show()"
   ]
  },
  {
   "cell_type": "code",
   "execution_count": 8,
   "metadata": {},
   "outputs": [
    {
     "data": {
      "application/vnd.jupyter.widget-view+json": {
       "model_id": "b151d5ca85894dad8f2f575bebc836cc",
       "version_major": 2,
       "version_minor": 0
      },
      "text/plain": [
       "VBox()"
      ]
     },
     "metadata": {},
     "output_type": "display_data"
    },
    {
     "data": {
      "application/vnd.jupyter.widget-view+json": {
       "model_id": "",
       "version_major": 2,
       "version_minor": 0
      },
      "text/plain": [
       "FloatProgress(value=0.0, bar_style='info', description='Progress:', layout=Layout(height='25px', width='50%'),…"
      ]
     },
     "metadata": {},
     "output_type": "display_data"
    }
   ],
   "source": [
    "#Replace-3\n",
    "df1_traffic=df1_traffic.withColumn('County', regexp_replace('County','St. Louis County','Saint Louis'))\n",
    "#df1_traffic_filt.filter(col('State')=='MO').show()#\\\n"
   ]
  },
  {
   "cell_type": "code",
   "execution_count": 10,
   "metadata": {},
   "outputs": [
    {
     "data": {
      "application/vnd.jupyter.widget-view+json": {
       "model_id": "df0b935b92b0414eb870f8046bd59410",
       "version_major": 2,
       "version_minor": 0
      },
      "text/plain": [
       "VBox()"
      ]
     },
     "metadata": {},
     "output_type": "display_data"
    },
    {
     "data": {
      "application/vnd.jupyter.widget-view+json": {
       "model_id": "",
       "version_major": 2,
       "version_minor": 0
      },
      "text/plain": [
       "FloatProgress(value=0.0, bar_style='info', description='Progress:', layout=Layout(height='25px', width='50%'),…"
      ]
     },
     "metadata": {},
     "output_type": "display_data"
    }
   ],
   "source": [
    "#Replace-4\n",
    "df1_traffic=df1_traffic.withColumn('County', regexp_replace('County','Doña Ana','Dona Ana'))\n",
    "#df1_traffic_filt.filter(col('State')=='NM').show(100)#\\"
   ]
  },
  {
   "cell_type": "code",
   "execution_count": 11,
   "metadata": {},
   "outputs": [
    {
     "data": {
      "application/vnd.jupyter.widget-view+json": {
       "model_id": "45a1a8641f3c47ac8e4bb91980e83fdd",
       "version_major": 2,
       "version_minor": 0
      },
      "text/plain": [
       "VBox()"
      ]
     },
     "metadata": {},
     "output_type": "display_data"
    },
    {
     "data": {
      "application/vnd.jupyter.widget-view+json": {
       "model_id": "",
       "version_major": 2,
       "version_minor": 0
      },
      "text/plain": [
       "FloatProgress(value=0.0, bar_style='info', description='Progress:', layout=Layout(height='25px', width='50%'),…"
      ]
     },
     "metadata": {},
     "output_type": "display_data"
    }
   ],
   "source": [
    "#Replace-5\n",
    "df1_traffic=df1_traffic.withColumn('County', regexp_replace('County','Bedford County','Bedford'))\n",
    "#df1_traffic_filt.filter(col('State')=='VA').show(100)#\\"
   ]
  },
  {
   "cell_type": "code",
   "execution_count": 45,
   "metadata": {},
   "outputs": [
    {
     "data": {
      "application/vnd.jupyter.widget-view+json": {
       "model_id": "0fe8530d677b4213aa260b844a4cdb12",
       "version_major": 2,
       "version_minor": 0
      },
      "text/plain": [
       "VBox()"
      ]
     },
     "metadata": {},
     "output_type": "display_data"
    },
    {
     "data": {
      "application/vnd.jupyter.widget-view+json": {
       "model_id": "",
       "version_major": 2,
       "version_minor": 0
      },
      "text/plain": [
       "FloatProgress(value=0.0, bar_style='info', description='Progress:', layout=Layout(height='25px', width='50%'),…"
      ]
     },
     "metadata": {},
     "output_type": "display_data"
    }
   ],
   "source": [
    "#Replace-6\n",
    "df1_traffic_filt=df1_traffic_filt.withColumn('County', regexp_replace('County','Suffolk','Suffolk City'))\n",
    "#df1_traffic_filt.filter(col('State')=='VA').show(100)#\\"
   ]
  },
  {
   "cell_type": "code",
   "execution_count": 12,
   "metadata": {},
   "outputs": [
    {
     "data": {
      "application/vnd.jupyter.widget-view+json": {
       "model_id": "8e408a87567e4b63b4d7415f5b94f4bd",
       "version_major": 2,
       "version_minor": 0
      },
      "text/plain": [
       "VBox()"
      ]
     },
     "metadata": {},
     "output_type": "display_data"
    },
    {
     "data": {
      "application/vnd.jupyter.widget-view+json": {
       "model_id": "",
       "version_major": 2,
       "version_minor": 0
      },
      "text/plain": [
       "FloatProgress(value=0.0, bar_style='info', description='Progress:', layout=Layout(height='25px', width='50%'),…"
      ]
     },
     "metadata": {},
     "output_type": "display_data"
    }
   ],
   "source": [
    "#Replace-7\n",
    "df1_traffic=df1_traffic.withColumn('County', regexp_replace('County','Franklin County','Franklin'))\n",
    "#df1_traffic_filt.filter(col('State')=='VA').show(100)#\\"
   ]
  },
  {
   "cell_type": "code",
   "execution_count": 13,
   "metadata": {},
   "outputs": [
    {
     "data": {
      "application/vnd.jupyter.widget-view+json": {
       "model_id": "284b8c422c6844bdae71ee5077749e4b",
       "version_major": 2,
       "version_minor": 0
      },
      "text/plain": [
       "VBox()"
      ]
     },
     "metadata": {},
     "output_type": "display_data"
    },
    {
     "data": {
      "application/vnd.jupyter.widget-view+json": {
       "model_id": "",
       "version_major": 2,
       "version_minor": 0
      },
      "text/plain": [
       "FloatProgress(value=0.0, bar_style='info', description='Progress:', layout=Layout(height='25px', width='50%'),…"
      ]
     },
     "metadata": {},
     "output_type": "display_data"
    }
   ],
   "source": [
    "#Replace-8\n",
    "df1_traffic=df1_traffic.withColumn('County', regexp_replace('County','De Soto','DeSoto'))\n",
    "#df1_traffic_filt.filter(col('State')=='VA').show(100)#\\"
   ]
  },
  {
   "cell_type": "code",
   "execution_count": 14,
   "metadata": {},
   "outputs": [
    {
     "data": {
      "application/vnd.jupyter.widget-view+json": {
       "model_id": "53dc8c672d064dd2b1cbf25b4a69ba3a",
       "version_major": 2,
       "version_minor": 0
      },
      "text/plain": [
       "VBox()"
      ]
     },
     "metadata": {},
     "output_type": "display_data"
    },
    {
     "data": {
      "application/vnd.jupyter.widget-view+json": {
       "model_id": "",
       "version_major": 2,
       "version_minor": 0
      },
      "text/plain": [
       "FloatProgress(value=0.0, bar_style='info', description='Progress:', layout=Layout(height='25px', width='50%'),…"
      ]
     },
     "metadata": {},
     "output_type": "display_data"
    }
   ],
   "source": [
    "#Replace-9\n",
    "df1_traffic=df1_traffic.withColumn('County', regexp_replace('County','Dekalb','DeKalb'))\n",
    "#df1_traffic_filt.filter(col('State')=='VA').show(100)#\\"
   ]
  },
  {
   "cell_type": "code",
   "execution_count": 15,
   "metadata": {},
   "outputs": [
    {
     "data": {
      "application/vnd.jupyter.widget-view+json": {
       "model_id": "6158a7585eb147768579628410bbd9a6",
       "version_major": 2,
       "version_minor": 0
      },
      "text/plain": [
       "VBox()"
      ]
     },
     "metadata": {},
     "output_type": "display_data"
    },
    {
     "data": {
      "application/vnd.jupyter.widget-view+json": {
       "model_id": "",
       "version_major": 2,
       "version_minor": 0
      },
      "text/plain": [
       "FloatProgress(value=0.0, bar_style='info', description='Progress:', layout=Layout(height='25px', width='50%'),…"
      ]
     },
     "metadata": {},
     "output_type": "display_data"
    }
   ],
   "source": [
    "#Replace-10\n",
    "df1_traffic=df1_traffic.withColumn('County', regexp_replace('County','Roanoke County','Roanoke'))\n",
    "#df1_traffic_filt.filter(col('State')=='VA').show(100)#\\"
   ]
  },
  {
   "cell_type": "code",
   "execution_count": 16,
   "metadata": {},
   "outputs": [
    {
     "data": {
      "application/vnd.jupyter.widget-view+json": {
       "model_id": "75016e15d28b4919acfba71fdb0beab0",
       "version_major": 2,
       "version_minor": 0
      },
      "text/plain": [
       "VBox()"
      ]
     },
     "metadata": {},
     "output_type": "display_data"
    },
    {
     "data": {
      "application/vnd.jupyter.widget-view+json": {
       "model_id": "",
       "version_major": 2,
       "version_minor": 0
      },
      "text/plain": [
       "FloatProgress(value=0.0, bar_style='info', description='Progress:', layout=Layout(height='25px', width='50%'),…"
      ]
     },
     "metadata": {},
     "output_type": "display_data"
    }
   ],
   "source": [
    "#Replace-11\n",
    "df1_traffic=df1_traffic.withColumn('County', regexp_replace('County','Dupage','DuPage'))\n",
    "#df1_traffic_filt.filter(col('State')=='VA').show(100)#\\"
   ]
  },
  {
   "cell_type": "code",
   "execution_count": 17,
   "metadata": {},
   "outputs": [
    {
     "data": {
      "application/vnd.jupyter.widget-view+json": {
       "model_id": "10ca3450aba741528a0fd590c70dff6d",
       "version_major": 2,
       "version_minor": 0
      },
      "text/plain": [
       "VBox()"
      ]
     },
     "metadata": {},
     "output_type": "display_data"
    },
    {
     "data": {
      "application/vnd.jupyter.widget-view+json": {
       "model_id": "",
       "version_major": 2,
       "version_minor": 0
      },
      "text/plain": [
       "FloatProgress(value=0.0, bar_style='info', description='Progress:', layout=Layout(height='25px', width='50%'),…"
      ]
     },
     "metadata": {},
     "output_type": "display_data"
    }
   ],
   "source": [
    "#Replace-12\n",
    "df1_traffic=df1_traffic.withColumn('County', regexp_replace('County','Mchenry','McHenry'))\n",
    "#df1_traffic_filt.filter(col('State')=='VA').show(100)#\\"
   ]
  },
  {
   "cell_type": "code",
   "execution_count": 18,
   "metadata": {},
   "outputs": [
    {
     "data": {
      "application/vnd.jupyter.widget-view+json": {
       "model_id": "4e4800f82c3b4869a0b5720ba959166b",
       "version_major": 2,
       "version_minor": 0
      },
      "text/plain": [
       "VBox()"
      ]
     },
     "metadata": {},
     "output_type": "display_data"
    },
    {
     "data": {
      "application/vnd.jupyter.widget-view+json": {
       "model_id": "",
       "version_major": 2,
       "version_minor": 0
      },
      "text/plain": [
       "FloatProgress(value=0.0, bar_style='info', description='Progress:', layout=Layout(height='25px', width='50%'),…"
      ]
     },
     "metadata": {},
     "output_type": "display_data"
    }
   ],
   "source": [
    "#Replace-13\n",
    "df1_traffic=df1_traffic.withColumn('County', regexp_replace('County','St. Tammany','Saint Tammany'))\n",
    "#df1_traffic_filt.filter(col('State')=='VA').show(100)#\\"
   ]
  },
  {
   "cell_type": "code",
   "execution_count": 19,
   "metadata": {},
   "outputs": [
    {
     "data": {
      "application/vnd.jupyter.widget-view+json": {
       "model_id": "0210cbeda288466081d5f738609f34c1",
       "version_major": 2,
       "version_minor": 0
      },
      "text/plain": [
       "VBox()"
      ]
     },
     "metadata": {},
     "output_type": "display_data"
    },
    {
     "data": {
      "application/vnd.jupyter.widget-view+json": {
       "model_id": "",
       "version_major": 2,
       "version_minor": 0
      },
      "text/plain": [
       "FloatProgress(value=0.0, bar_style='info', description='Progress:', layout=Layout(height='25px', width='50%'),…"
      ]
     },
     "metadata": {},
     "output_type": "display_data"
    }
   ],
   "source": [
    "#Replace-14\n",
    "df1_traffic=df1_traffic.withColumn('County', regexp_replace('County',\"Prince George's\",'Prince Georges'))\n",
    "#df1_traffic_filt.filter(col('State')=='VA').show(100)#\\"
   ]
  },
  {
   "cell_type": "code",
   "execution_count": 20,
   "metadata": {},
   "outputs": [
    {
     "data": {
      "application/vnd.jupyter.widget-view+json": {
       "model_id": "e8f413c7b35541d3abc4a098ac50ed79",
       "version_major": 2,
       "version_minor": 0
      },
      "text/plain": [
       "VBox()"
      ]
     },
     "metadata": {},
     "output_type": "display_data"
    },
    {
     "data": {
      "application/vnd.jupyter.widget-view+json": {
       "model_id": "",
       "version_major": 2,
       "version_minor": 0
      },
      "text/plain": [
       "FloatProgress(value=0.0, bar_style='info', description='Progress:', layout=Layout(height='25px', width='50%'),…"
      ]
     },
     "metadata": {},
     "output_type": "display_data"
    }
   ],
   "source": [
    "#Replace-15\n",
    "df1_traffic=df1_traffic.withColumn('County', regexp_replace('County',\"St. Joseph\",'Saint Joseph'))\n",
    "#df1_traffic_filt.filter(col('State')=='VA').show(100)#\\"
   ]
  },
  {
   "cell_type": "code",
   "execution_count": 21,
   "metadata": {},
   "outputs": [
    {
     "data": {
      "application/vnd.jupyter.widget-view+json": {
       "model_id": "fbc7fbb09ff74bee8f275536a4e414de",
       "version_major": 2,
       "version_minor": 0
      },
      "text/plain": [
       "VBox()"
      ]
     },
     "metadata": {},
     "output_type": "display_data"
    },
    {
     "data": {
      "application/vnd.jupyter.widget-view+json": {
       "model_id": "",
       "version_major": 2,
       "version_minor": 0
      },
      "text/plain": [
       "FloatProgress(value=0.0, bar_style='info', description='Progress:', layout=Layout(height='25px', width='50%'),…"
      ]
     },
     "metadata": {},
     "output_type": "display_data"
    }
   ],
   "source": [
    "#Replace-16\n",
    "df1_traffic=df1_traffic.withColumn('County', regexp_replace('County',\"Mcclain\",'McClain'))\n",
    "#df1_traffic_filt.filter(col('State')=='VA').show(100)#\\"
   ]
  },
  {
   "cell_type": "code",
   "execution_count": 22,
   "metadata": {},
   "outputs": [
    {
     "data": {
      "application/vnd.jupyter.widget-view+json": {
       "model_id": "3148a485037b4cc98ba4e5305d93f913",
       "version_major": 2,
       "version_minor": 0
      },
      "text/plain": [
       "VBox()"
      ]
     },
     "metadata": {},
     "output_type": "display_data"
    },
    {
     "data": {
      "application/vnd.jupyter.widget-view+json": {
       "model_id": "",
       "version_major": 2,
       "version_minor": 0
      },
      "text/plain": [
       "FloatProgress(value=0.0, bar_style='info', description='Progress:', layout=Layout(height='25px', width='50%'),…"
      ]
     },
     "metadata": {},
     "output_type": "display_data"
    }
   ],
   "source": [
    "#Replace-17\n",
    "df1_traffic=df1_traffic.withColumn('County', regexp_replace('County',\"Mckean\",'McKean'))\n",
    "#df1_traffic_filt.filter(col('State')=='VA').show(100)#\\"
   ]
  },
  {
   "cell_type": "code",
   "execution_count": 23,
   "metadata": {},
   "outputs": [
    {
     "data": {
      "application/vnd.jupyter.widget-view+json": {
       "model_id": "ae359c0d29f34733b4a0ca1f99eebe21",
       "version_major": 2,
       "version_minor": 0
      },
      "text/plain": [
       "VBox()"
      ]
     },
     "metadata": {},
     "output_type": "display_data"
    },
    {
     "data": {
      "application/vnd.jupyter.widget-view+json": {
       "model_id": "",
       "version_major": 2,
       "version_minor": 0
      },
      "text/plain": [
       "FloatProgress(value=0.0, bar_style='info', description='Progress:', layout=Layout(height='25px', width='50%'),…"
      ]
     },
     "metadata": {},
     "output_type": "display_data"
    }
   ],
   "source": [
    "#Replace-18\n",
    "df1_traffic=df1_traffic.withColumn('County', regexp_replace('County',\"Mccormick\",'McCormick'))\n",
    "#df1_traffic_filt.filter(col('State')=='VA').show(100)#\\"
   ]
  },
  {
   "cell_type": "code",
   "execution_count": 35,
   "metadata": {},
   "outputs": [
    {
     "data": {
      "application/vnd.jupyter.widget-view+json": {
       "model_id": "fca915fd9082457785769ca7af0e4fad",
       "version_major": 2,
       "version_minor": 0
      },
      "text/plain": [
       "VBox()"
      ]
     },
     "metadata": {},
     "output_type": "display_data"
    },
    {
     "data": {
      "application/vnd.jupyter.widget-view+json": {
       "model_id": "",
       "version_major": 2,
       "version_minor": 0
      },
      "text/plain": [
       "FloatProgress(value=0.0, bar_style='info', description='Progress:', layout=Layout(height='25px', width='50%'),…"
      ]
     },
     "metadata": {},
     "output_type": "display_data"
    },
    {
     "name": "stdout",
     "output_type": "stream",
     "text": [
      "+--------+---------+----------+------------+-----+--------------+----------------------------+----+--------+--------+----+--------------+-------------------+------+\n",
      "|Severity|Start_Lat|Start_Lng |County      |State|Temperature(F)|Weather_Condition           |Bump|Junction|Crossing|Stop|Traffic_Signal|Acc_date           |Region|\n",
      "+--------+---------+----------+------------+-----+--------------+----------------------------+----+--------+--------+----+--------------+-------------------+------+\n",
      "|3       |38.951481|-77.196762|Fairfax     |VA   |21.0          |Overcast                    |0   |0       |0       |0   |0             |2017-12-29 00:00:00|South |\n",
      "|3       |38.908432|-77.216652|Fairfax     |VA   |21.0          |Overcast                    |0   |0       |0       |0   |0             |2017-12-29 00:00:00|South |\n",
      "|3       |38.910229|-77.217476|Fairfax     |VA   |28.9          |Mostly Cloudy               |0   |0       |0       |0   |0             |2017-12-29 00:00:00|South |\n",
      "|3       |38.887333|-77.219299|Fairfax     |VA   |28.9          |Mostly Cloudy               |0   |1       |0       |0   |0             |2017-12-29 00:00:00|South |\n",
      "|3       |38.705708|-77.223488|Fairfax     |VA   |31.3          |Partly Cloudy               |0   |0       |0       |0   |0             |2017-12-29 00:00:00|South |\n",
      "|3       |38.91098 |-77.217545|Fairfax     |VA   |30.9          |Mostly Cloudy               |0   |0       |0       |0   |0             |2017-12-29 00:00:00|South |\n",
      "|2       |38.884277|-77.405762|Fairfax     |VA   |30.0          |Scattered Clouds            |0   |0       |1       |0   |1             |2017-12-29 00:00:00|South |\n",
      "|3       |38.910751|-77.218048|Fairfax     |VA   |25.0          |Scattered Clouds            |0   |0       |0       |0   |0             |2017-12-29 00:00:00|South |\n",
      "|3       |38.953381|-77.194901|Fairfax     |VA   |53.1          |Scattered Clouds            |0   |0       |0       |0   |0             |2017-11-17 00:00:00|South |\n",
      "|3       |38.910366|-77.217628|Fairfax     |VA   |52.0          |Mostly Cloudy               |0   |0       |0       |0   |0             |2017-11-17 00:00:00|South |\n",
      "|3       |38.86573 |-77.220398|Fairfax     |VA   |52.0          |Mostly Cloudy               |0   |0       |0       |0   |0             |2017-11-17 00:00:00|South |\n",
      "|3       |38.86573 |-77.220398|Fairfax     |VA   |50.0          |Scattered Clouds            |0   |0       |0       |0   |0             |2017-11-17 00:00:00|South |\n",
      "|3       |38.91029 |-77.217628|Fairfax     |VA   |50.0          |Scattered Clouds            |0   |0       |0       |0   |0             |2017-11-17 00:00:00|South |\n",
      "|3       |38.846703|-77.432205|Fairfax     |VA   |37.0          |Partly Cloudy               |0   |1       |0       |0   |0             |2017-11-17 00:00:00|South |\n",
      "|3       |38.79126 |-77.174568|Fairfax     |VA   |38.5          |Clear                       |0   |0       |0       |0   |0             |2017-11-17 00:00:00|South |\n",
      "|3       |38.86573 |-77.220398|Fairfax     |VA   |43.0          |Scattered Clouds            |0   |0       |0       |0   |0             |2017-11-17 00:00:00|South |\n",
      "|3       |38.954643|-77.193748|Fairfax     |VA   |43.0          |Scattered Clouds            |0   |0       |0       |0   |0             |2017-11-17 00:00:00|South |\n",
      "|3       |38.877308|-77.275208|Fairfax     |VA   |35.8          |Clear                       |0   |0       |0       |0   |0             |2017-11-17 00:00:00|South |\n",
      "|3       |38.705215|-77.22406 |Fairfax     |VA   |35.8          |Clear                       |0   |0       |0       |0   |0             |2017-11-17 00:00:00|South |\n",
      "|3       |38.854649|-77.388481|Fairfax     |VA   |35.1          |Partly Cloudy               |0   |0       |0       |0   |0             |2017-11-17 00:00:00|South |\n",
      "|3       |38.878574|-77.267174|Fairfax     |VA   |60.1          |Overcast                    |0   |0       |0       |0   |0             |2017-11-18 00:00:00|South |\n",
      "|3       |38.846703|-77.432205|Fairfax     |VA   |36.0          |Clear                       |0   |1       |0       |0   |0             |2017-11-20 00:00:00|South |\n",
      "|3       |38.851746|-77.402771|Fairfax     |VA   |36.0          |Partly Cloudy               |0   |0       |1       |0   |1             |2017-11-20 00:00:00|South |\n",
      "|3       |38.740044|-77.18985 |Fairfax     |VA   |37.2          |Clear                       |0   |0       |0       |0   |0             |2017-11-20 00:00:00|South |\n",
      "|3       |38.851746|-77.402771|Fairfax     |VA   |36.0          |Partly Cloudy               |0   |0       |1       |0   |1             |2017-11-20 00:00:00|South |\n",
      "|3       |38.676903|-77.229668|Fairfax     |VA   |52.5          |Clear                       |0   |0       |0       |0   |0             |2017-11-20 00:00:00|South |\n",
      "|3       |38.854092|-77.22039 |Fairfax     |VA   |52.9          |Clear                       |0   |0       |0       |0   |1             |2017-11-20 00:00:00|South |\n",
      "|3       |38.676231|-77.23661 |Fairfax     |VA   |52.3          |Clear                       |0   |0       |0       |0   |0             |2017-11-20 00:00:00|South |\n",
      "|3       |38.86573 |-77.220398|Fairfax     |VA   |50.0          |Partly Cloudy               |0   |0       |0       |0   |0             |2017-11-20 00:00:00|South |\n",
      "|3       |38.868732|-77.308899|Fairfax     |VA   |44.1          |Partly Cloudy               |0   |0       |0       |0   |0             |2017-11-20 00:00:00|South |\n",
      "|3       |38.796246|-77.135559|Fairfax     |VA   |37.4          |Clear                       |0   |1       |0       |0   |0             |2017-11-20 00:00:00|South |\n",
      "|3       |38.801548|-77.112083|Fairfax     |VA   |37.4          |Clear                       |0   |0       |0       |0   |1             |2017-11-20 00:00:00|South |\n",
      "|3       |38.790653|-77.172768|Fairfax     |VA   |37.4          |Clear                       |0   |0       |0       |0   |0             |2017-11-20 00:00:00|South |\n",
      "|3       |38.802006|-77.163635|Fairfax     |VA   |45.0          |Partly Cloudy               |0   |0       |0       |0   |0             |2017-11-20 00:00:00|South |\n",
      "|3       |38.791306|-77.17453 |Fairfax     |VA   |37.4          |Clear                       |0   |0       |0       |0   |0             |2017-11-20 00:00:00|South |\n",
      "|3       |38.799706|-77.166862|Fairfax     |VA   |37.4          |Clear                       |0   |0       |0       |0   |0             |2017-11-20 00:00:00|South |\n",
      "|3       |38.837128|-77.447281|Fairfax     |VA   |41.0          |Clear                       |0   |1       |0       |0   |0             |2017-11-20 00:00:00|South |\n",
      "|3       |38.868732|-77.308899|Fairfax     |VA   |34.0          |Scattered Clouds            |0   |0       |0       |0   |0             |2017-11-21 00:00:00|South |\n",
      "|3       |38.877411|-77.274788|Fairfax     |VA   |36.3          |Clear                       |0   |0       |0       |0   |0             |2017-11-21 00:00:00|South |\n",
      "|3       |38.740456|-77.189842|Fairfax     |VA   |36.3          |Clear                       |0   |1       |0       |0   |0             |2017-11-21 00:00:00|South |\n",
      "|3       |38.740456|-77.189842|Fairfax     |VA   |36.3          |Clear                       |0   |1       |0       |0   |0             |2017-11-21 00:00:00|South |\n",
      "|3       |38.886051|-77.222115|Fairfax     |VA   |42.1          |Scattered Clouds            |0   |0       |0       |0   |0             |2017-11-21 00:00:00|South |\n",
      "|2       |38.78418 |-77.073349|Fairfax     |VA   |50.0          |Mostly Cloudy               |0   |0       |0       |0   |0             |2017-11-21 00:00:00|South |\n",
      "|3       |38.676231|-77.23661 |Fairfax     |VA   |57.7          |Clear                       |0   |0       |0       |0   |0             |2017-11-21 00:00:00|South |\n",
      "|2       |38.910042|-77.470467|Fairfax     |VA   |57.9          |Mostly Cloudy               |0   |0       |1       |0   |1             |2017-11-21 00:00:00|South |\n",
      "|3       |38.878574|-77.267174|Fairfax     |VA   |57.9          |Mostly Cloudy               |0   |0       |0       |0   |0             |2017-11-21 00:00:00|South |\n",
      "|3       |38.886051|-77.222115|Fairfax     |VA   |61.0          |Overcast                    |0   |0       |0       |0   |0             |2017-11-21 00:00:00|South |\n",
      "|3       |38.954506|-77.193832|Fairfax     |VA   |61.0          |Mostly Cloudy               |0   |0       |0       |0   |0             |2017-11-21 00:00:00|South |\n",
      "|3       |38.740456|-77.189842|Fairfax     |VA   |61.7          |Clear                       |0   |1       |0       |0   |0             |2017-11-21 00:00:00|South |\n",
      "|3       |38.910515|-77.217644|Fairfax     |VA   |61.0          |Mostly Cloudy               |0   |0       |0       |0   |0             |2017-11-21 00:00:00|South |\n",
      "|3       |38.749302|-77.184998|Fairfax     |VA   |58.3          |Clear                       |0   |0       |0       |0   |0             |2017-11-21 00:00:00|South |\n",
      "|3       |38.964493|-77.18161 |Fairfax     |VA   |57.0          |Mostly Cloudy               |0   |0       |0       |0   |0             |2017-11-21 00:00:00|South |\n",
      "|3       |38.931431|-77.210838|Fairfax     |VA   |57.0          |Mostly Cloudy               |0   |0       |0       |0   |0             |2017-11-21 00:00:00|South |\n",
      "|3       |38.796318|-77.134941|Fairfax     |VA   |57.0          |Scattered Clouds            |0   |0       |0       |0   |0             |2017-11-21 00:00:00|South |\n",
      "|3       |38.801548|-77.112083|Fairfax     |VA   |54.7          |Partly Cloudy               |0   |0       |0       |0   |1             |2017-11-21 00:00:00|South |\n",
      "|3       |38.86573 |-77.220398|Fairfax     |VA   |52.0          |Mostly Cloudy               |0   |0       |0       |0   |0             |2017-11-21 00:00:00|South |\n",
      "|3       |38.833935|-77.217789|Fairfax     |VA   |48.2          |Mostly Cloudy               |0   |0       |0       |0   |0             |2017-11-22 00:00:00|South |\n",
      "|3       |38.884884|-77.222542|Fairfax     |VA   |46.9          |Mostly Cloudy               |0   |0       |0       |0   |0             |2017-11-22 00:00:00|South |\n",
      "|3       |38.675529|-77.236649|Fairfax     |VA   |57.7          |Clear                       |0   |0       |0       |0   |0             |2017-11-22 00:00:00|South |\n",
      "|3       |38.779617|-77.180466|Fairfax     |VA   |57.7          |Clear                       |0   |0       |0       |0   |0             |2017-11-22 00:00:00|South |\n",
      "|3       |38.885345|-77.221161|Fairfax     |VA   |50.0          |Partly Cloudy               |0   |0       |0       |0   |0             |2017-11-22 00:00:00|South |\n",
      "|3       |38.954506|-77.193832|Fairfax     |VA   |55.0          |Scattered Clouds            |0   |0       |0       |0   |0             |2017-11-22 00:00:00|South |\n",
      "|3       |38.802387|-77.163666|Fairfax     |VA   |50.0          |Scattered Clouds            |0   |0       |0       |0   |0             |2017-11-22 00:00:00|South |\n",
      "|2       |38.79184 |-77.136986|Fairfax     |VA   |47.5          |Overcast                    |0   |0       |0       |0   |1             |2017-11-22 00:00:00|South |\n",
      "|3       |38.801548|-77.112083|Fairfax     |VA   |47.5          |Overcast                    |0   |0       |0       |0   |1             |2017-11-22 00:00:00|South |\n",
      "|3       |38.862522|-77.344803|Fairfax     |VA   |42.1          |Scattered Clouds            |0   |0       |0       |0   |0             |2017-11-22 00:00:00|South |\n",
      "|3       |38.910229|-77.217476|Fairfax     |VA   |45.0          |Partly Cloudy               |0   |0       |0       |0   |0             |2017-11-22 00:00:00|South |\n",
      "|2       |38.846134|-77.432281|Fairfax     |VA   |42.1          |Scattered Clouds            |0   |0       |0       |0   |0             |2017-11-22 00:00:00|South |\n",
      "|3       |38.676231|-77.23661 |Fairfax     |VA   |37.2          |Clear                       |0   |0       |0       |0   |0             |2017-11-22 00:00:00|South |\n",
      "|3       |38.796902|-77.139008|Fairfax     |VA   |25.3          |Clear                       |0   |0       |0       |0   |0             |2017-11-23 00:00:00|South |\n",
      "|2       |38.880013|-77.394775|Fairfax     |VA   |37.0          |Partly Cloudy               |0   |0       |1       |0   |1             |2017-11-23 00:00:00|South |\n",
      "|3       |38.886051|-77.222115|Fairfax     |VA   |39.0          |Scattered Clouds            |0   |0       |0       |0   |0             |2017-11-23 00:00:00|South |\n",
      "|3       |38.796246|-77.135559|Fairfax     |VA   |42.6          |Clear                       |0   |1       |0       |0   |0             |2017-11-23 00:00:00|South |\n",
      "|3       |38.886051|-77.222115|Fairfax     |VA   |42.1          |Partly Cloudy               |0   |0       |0       |0   |0             |2017-11-23 00:00:00|South |\n",
      "|3       |38.868732|-77.308899|Fairfax     |VA   |37.9          |Partly Cloudy               |0   |0       |0       |0   |0             |2017-11-23 00:00:00|South |\n",
      "|3       |38.877411|-77.274788|Fairfax     |VA   |29.1          |Clear                       |0   |0       |0       |0   |0             |2017-11-23 00:00:00|South |\n",
      "|3       |38.800266|-77.078041|Fairfax     |VA   |37.0          |Clear                       |0   |0       |0       |0   |0             |2017-11-23 00:00:00|South |\n",
      "|3       |38.796535|-77.135185|Fairfax     |VA   |25.0          |Clear                       |0   |1       |0       |0   |0             |2017-11-24 00:00:00|South |\n",
      "|2       |38.846558|-77.377693|Fairfax     |VA   |34.0          |Clear                       |0   |0       |0       |0   |0             |2017-11-24 00:00:00|South |\n",
      "|3       |38.910725|-77.217659|Fairfax     |VA   |50.0          |Partly Cloudy               |0   |0       |0       |0   |0             |2017-11-24 00:00:00|South |\n",
      "|3       |38.910229|-77.217476|Fairfax     |VA   |53.1          |Partly Cloudy               |0   |0       |0       |0   |0             |2017-11-24 00:00:00|South |\n",
      "|3       |38.74012 |-77.190086|Fairfax     |VA   |42.8          |Clear                       |0   |0       |0       |0   |0             |2017-11-24 00:00:00|South |\n",
      "|3       |38.802006|-77.163635|Fairfax     |VA   |43.0          |Clear                       |0   |0       |0       |0   |0             |2017-11-24 00:00:00|South |\n",
      "|3       |38.812881|-77.220161|Fairfax     |VA   |56.5          |Clear                       |0   |0       |0       |0   |0             |2017-11-25 00:00:00|South |\n",
      "|3       |38.674934|-77.237846|Fairfax     |VA   |27.5          |Clear                       |0   |0       |0       |0   |0             |2017-11-27 00:00:00|South |\n",
      "|3       |38.86887 |-77.309135|Fairfax     |VA   |42.1          |Scattered Clouds            |0   |0       |0       |0   |0             |2017-11-27 00:00:00|South |\n",
      "|3       |38.963715|-77.182831|Fairfax     |VA   |61.0          |Partly Cloudy               |0   |0       |0       |0   |0             |2017-11-27 00:00:00|South |\n",
      "|3       |38.749302|-77.184998|Fairfax     |VA   |60.3          |Clear                       |0   |0       |0       |0   |0             |2017-11-27 00:00:00|South |\n",
      "|3       |38.796246|-77.135559|Fairfax     |VA   |60.6          |Clear                       |0   |1       |0       |0   |0             |2017-11-27 00:00:00|South |\n",
      "|2       |38.871277|-77.165611|Fairfax     |VA   |59.0          |Mostly Cloudy               |0   |0       |0       |0   |0             |2017-11-27 00:00:00|South |\n",
      "|3       |38.963715|-77.182831|Fairfax     |VA   |59.0          |Mostly Cloudy               |0   |0       |0       |0   |0             |2017-11-27 00:00:00|South |\n",
      "|3       |38.676243|-77.235512|Fairfax     |VA   |55.8          |Clear                       |0   |0       |0       |0   |0             |2017-11-27 00:00:00|South |\n",
      "|3       |38.85479 |-77.387733|Fairfax     |VA   |50.0          |Scattered Clouds            |0   |0       |0       |0   |0             |2017-11-27 00:00:00|South |\n",
      "|3       |38.749302|-77.184998|Fairfax     |VA   |55.8          |Clear                       |0   |0       |0       |0   |0             |2017-11-27 00:00:00|South |\n",
      "|3       |38.77441 |-77.182129|Fairfax     |VA   |43.5          |Clear                       |0   |1       |0       |0   |0             |2017-11-27 00:00:00|South |\n",
      "|3       |38.865376|-77.22039 |Fairfax     |VA   |52.0          |Scattered Clouds            |0   |0       |0       |0   |0             |2017-11-27 00:00:00|South |\n",
      "|3       |38.868984|-77.308479|Fairfax     |VA   |46.9          |Scattered Clouds            |0   |0       |0       |0   |0             |2017-11-27 00:00:00|South |\n",
      "|3       |38.854588|-77.388817|Fairfax     |VA   |46.9          |Scattered Clouds            |0   |0       |0       |0   |0             |2017-11-27 00:00:00|South |\n",
      "|3       |38.833622|-77.218185|Fairfax     |VA   |41.2          |Clear                       |0   |1       |0       |0   |0             |2017-11-27 00:00:00|South |\n",
      "|3       |38.705856|-77.223846|Fairfax     |VA   |41.2          |Clear                       |0   |0       |0       |0   |0             |2017-11-27 00:00:00|South |\n",
      "|3       |38.866043|-77.220253|Fairfax     |VA   |51.1          |Mostly Cloudy               |0   |0       |0       |0   |0             |2017-11-27 00:00:00|South |\n",
      "|3       |38.862301|-77.220215|Fairfax     |VA   |51.1          |Mostly Cloudy               |0   |0       |0       |0   |0             |2017-11-27 00:00:00|South |\n",
      "|3       |38.790867|-77.176155|Fairfax     |VA   |36.5          |Clear                       |0   |0       |0       |0   |0             |2017-11-27 00:00:00|South |\n",
      "|3       |38.853779|-77.220039|Fairfax     |VA   |35.2          |Clear                       |0   |0       |0       |0   |1             |2017-11-27 00:00:00|South |\n",
      "|2       |38.963219|-77.184494|Fairfax     |VA   |39.0          |Partly Cloudy               |0   |0       |0       |0   |0             |2017-11-28 00:00:00|South |\n",
      "|3       |38.833752|-77.217941|Fairfax     |VA   |30.2          |Clear                       |0   |0       |0       |0   |0             |2017-11-28 00:00:00|South |\n",
      "|3       |38.833752|-77.217941|Fairfax     |VA   |30.2          |Clear                       |0   |0       |0       |0   |0             |2017-11-28 00:00:00|South |\n",
      "|3       |38.854649|-77.388481|Fairfax     |VA   |30.9          |Scattered Clouds            |0   |0       |0       |0   |0             |2017-11-28 00:00:00|South |\n",
      "|2       |38.754585|-77.083473|Fairfax     |VA   |30.2          |Clear                       |0   |0       |0       |0   |1             |2017-11-28 00:00:00|South |\n",
      "|3       |38.791119|-77.163467|Fairfax     |VA   |31.6          |Clear                       |0   |1       |0       |0   |0             |2017-11-28 00:00:00|South |\n",
      "|3       |38.790867|-77.176155|Fairfax     |VA   |31.6          |Clear                       |0   |0       |0       |0   |0             |2017-11-28 00:00:00|South |\n",
      "|3       |38.846703|-77.432205|Fairfax     |VA   |32.0          |Partly Cloudy               |0   |1       |0       |0   |0             |2017-11-28 00:00:00|South |\n",
      "|3       |38.885212|-77.221542|Fairfax     |VA   |32.0          |Partly Cloudy               |0   |0       |0       |0   |0             |2017-11-28 00:00:00|South |\n",
      "|2       |38.907387|-77.457687|Fairfax     |VA   |43.0          |Clear                       |0   |0       |0       |0   |0             |2017-11-28 00:00:00|South |\n",
      "|3       |38.790867|-77.176155|Fairfax     |VA   |39.9          |Clear                       |0   |0       |0       |0   |0             |2017-11-28 00:00:00|South |\n",
      "|2       |38.835861|-77.179543|Fairfax     |VA   |53.8          |Clear                       |0   |0       |0       |0   |0             |2017-11-28 00:00:00|South |\n",
      "|2       |38.81189 |-77.186409|Fairfax     |VA   |53.8          |Clear                       |0   |0       |1       |0   |1             |2017-11-28 00:00:00|South |\n",
      "|3       |38.910229|-77.217476|Fairfax     |VA   |60.1          |Clear                       |0   |0       |0       |0   |0             |2017-11-28 00:00:00|South |\n",
      "|2       |38.838661|-77.43679 |Fairfax     |VA   |64.0          |Clear                       |0   |0       |1       |0   |1             |2017-11-28 00:00:00|South |\n",
      "|3       |38.886051|-77.222115|Fairfax     |VA   |53.1          |Clear                       |0   |0       |0       |0   |0             |2017-11-28 00:00:00|South |\n",
      "|3       |38.910202|-77.21804 |Fairfax     |VA   |52.0          |Clear                       |0   |1       |0       |0   |0             |2017-11-28 00:00:00|South |\n",
      "|3       |38.911942|-77.21801 |Fairfax     |VA   |50.0          |Clear                       |0   |0       |0       |0   |0             |2017-11-28 00:00:00|South |\n",
      "|3       |38.868732|-77.308899|Fairfax     |VA   |50.0          |Clear                       |0   |0       |0       |0   |0             |2017-11-28 00:00:00|South |\n",
      "|2       |38.827671|-77.436378|Fairfax     |VA   |27.0          |Clear                       |0   |0       |1       |0   |1             |2017-11-29 00:00:00|South |\n",
      "|2       |38.84779 |-77.122971|Fairfax     |VA   |43.0          |Clear                       |0   |0       |0       |0   |0             |2017-11-29 00:00:00|South |\n",
      "|3       |38.96389 |-77.182953|Fairfax     |VA   |43.0          |Clear                       |0   |0       |0       |0   |0             |2017-11-29 00:00:00|South |\n",
      "|3       |38.963902|-77.18293 |Fairfax     |VA   |43.0          |Clear                       |0   |0       |0       |0   |0             |2017-11-29 00:00:00|South |\n",
      "|3       |38.963898|-77.182945|Fairfax     |VA   |43.0          |Clear                       |0   |0       |0       |0   |0             |2017-11-29 00:00:00|South |\n",
      "|3       |38.801548|-77.112083|Fairfax     |VA   |34.3          |Clear                       |0   |0       |0       |0   |1             |2017-11-29 00:00:00|South |\n",
      "|2       |38.875515|-77.408554|Fairfax     |VA   |37.9          |Clear                       |0   |0       |1       |0   |1             |2017-11-29 00:00:00|South |\n",
      "|3       |38.846703|-77.432205|Fairfax     |VA   |66.9          |Scattered Clouds            |0   |1       |0       |0   |0             |2017-11-29 00:00:00|South |\n",
      "|3       |38.705372|-77.224007|Fairfax     |VA   |68.9          |Clear                       |0   |0       |0       |0   |0             |2017-11-29 00:00:00|South |\n",
      "|3       |38.88501 |-77.222137|Fairfax     |VA   |57.9          |Partly Cloudy               |0   |1       |0       |0   |0             |2017-11-29 00:00:00|South |\n",
      "|3       |38.92223 |-77.215134|Fairfax     |VA   |59.0          |Partly Cloudy               |0   |0       |0       |0   |0             |2017-11-29 00:00:00|South |\n",
      "|3       |38.705372|-77.224007|Fairfax     |VA   |54.7          |Clear                       |0   |0       |0       |0   |0             |2017-11-29 00:00:00|South |\n",
      "|3       |38.877411|-77.274788|Fairfax     |VA   |54.7          |Clear                       |0   |0       |0       |0   |0             |2017-11-29 00:00:00|South |\n",
      "|3       |38.811234|-77.217621|Fairfax     |VA   |54.7          |Clear                       |0   |0       |0       |0   |0             |2017-11-29 00:00:00|South |\n",
      "|3       |38.908253|-77.217476|Fairfax     |VA   |66.0          |Overcast                    |0   |0       |0       |0   |0             |2017-10-13 00:00:00|South |\n",
      "|3       |38.854649|-77.388481|Fairfax     |VA   |63.0          |Overcast                    |0   |0       |0       |0   |0             |2017-10-13 00:00:00|South |\n",
      "|2       |38.947765|-77.303696|Fairfax     |VA   |71.1          |Mostly Cloudy               |0   |0       |0       |0   |0             |2017-08-31 00:00:00|South |\n",
      "|3       |38.795879|-77.137871|Fairfax     |VA   |72.0          |Clear                       |0   |0       |0       |0   |0             |2017-08-31 00:00:00|South |\n",
      "|3       |38.846771|-77.431839|Fairfax     |VA   |71.1          |Mostly Cloudy               |0   |1       |0       |0   |0             |2017-08-31 00:00:00|South |\n",
      "|2       |38.716923|-77.132668|Fairfax     |VA   |77.5          |Clear                       |0   |0       |0       |0   |1             |2017-08-31 00:00:00|South |\n",
      "|2       |38.811478|-77.210129|Fairfax     |VA   |77.5          |Clear                       |0   |0       |0       |0   |1             |2017-08-31 00:00:00|South |\n",
      "|2       |38.81353 |-77.447052|Fairfax     |VA   |80.1          |Clear                       |0   |0       |0       |0   |0             |2017-08-31 00:00:00|South |\n",
      "|3       |38.903019|-77.216232|Fairfax     |VA   |82.9          |Mostly Cloudy               |0   |0       |0       |0   |0             |2017-08-31 00:00:00|South |\n",
      "|3       |38.963531|-77.18322 |Fairfax     |VA   |82.9          |Mostly Cloudy               |0   |0       |0       |0   |0             |2017-08-31 00:00:00|South |\n",
      "|3       |38.850964|-77.408852|Fairfax     |VA   |81.0          |Mostly Cloudy               |0   |0       |0       |0   |0             |2017-08-31 00:00:00|South |\n",
      "|3       |38.846703|-77.432205|Fairfax     |VA   |77.0          |Mostly Cloudy               |0   |1       |0       |0   |0             |2017-08-31 00:00:00|South |\n",
      "|2       |38.76601 |-77.124031|Fairfax     |VA   |68.4          |Partly Cloudy               |0   |0       |0       |0   |1             |2017-09-01 00:00:00|South |\n",
      "|3       |38.778873|-77.180702|Fairfax     |VA   |63.3          |Scattered Clouds            |0   |0       |0       |0   |0             |2017-09-01 00:00:00|South |\n",
      "|3       |38.886166|-77.220261|Fairfax     |VA   |57.0          |Rain                        |0   |0       |0       |0   |0             |2017-09-02 00:00:00|South |\n",
      "|3       |38.801548|-77.112083|Fairfax     |VA   |57.2          |Heavy Rain                  |0   |0       |0       |0   |1             |2017-09-02 00:00:00|South |\n",
      "|3       |38.877411|-77.274788|Fairfax     |VA   |57.2          |Light Rain                  |0   |0       |0       |0   |0             |2017-09-02 00:00:00|South |\n",
      "|3       |38.910229|-77.217476|Fairfax     |VA   |61.0          |Light Rain                  |0   |0       |0       |0   |0             |2017-09-02 00:00:00|South |\n",
      "|2       |38.789944|-77.064095|Fairfax     |VA   |66.0          |Overcast                    |0   |0       |0       |0   |0             |2017-09-03 00:00:00|South |\n",
      "|3       |38.910625|-77.217651|Fairfax     |VA   |73.9          |Mostly Cloudy               |0   |0       |0       |0   |0             |2017-09-03 00:00:00|South |\n",
      "|3       |38.705372|-77.224007|Fairfax     |VA   |75.2          |Mostly Cloudy               |0   |0       |0       |0   |0             |2017-09-03 00:00:00|South |\n",
      "|3       |38.878574|-77.267174|Fairfax     |VA   |77.0          |Scattered Clouds            |0   |0       |0       |0   |0             |2017-09-03 00:00:00|South |\n",
      "|3       |38.740963|-77.189522|Fairfax     |VA   |55.4          |Clear                       |0   |0       |0       |0   |0             |2017-09-04 00:00:00|South |\n",
      "|3       |38.973927|-77.303871|Fairfax     |VA   |57.0          |Clear                       |0   |0       |0       |0   |1             |2017-09-04 00:00:00|South |\n",
      "|2       |38.815853|-77.321426|Fairfax     |VA   |79.0          |Scattered Clouds            |0   |0       |0       |0   |1             |2017-09-04 00:00:00|South |\n",
      "|3       |38.910229|-77.217476|Fairfax     |VA   |81.0          |Scattered Clouds            |0   |0       |0       |0   |0             |2017-09-04 00:00:00|South |\n",
      "|3       |38.883213|-77.223846|Fairfax     |VA   |81.0          |Partly Cloudy               |0   |0       |0       |0   |0             |2017-09-04 00:00:00|South |\n",
      "|2       |38.873676|-77.236427|Fairfax     |VA   |74.1          |Clear                       |0   |0       |1       |0   |0             |2017-09-04 00:00:00|South |\n",
      "|2       |38.856499|-77.371681|Fairfax     |VA   |72.0          |Clear                       |0   |0       |0       |0   |1             |2017-09-04 00:00:00|South |\n",
      "|2       |38.811447|-77.325249|Fairfax     |VA   |70.2          |Scattered Clouds            |0   |0       |1       |0   |0             |2017-09-05 00:00:00|South |\n",
      "|2       |38.740456|-77.189842|Fairfax     |VA   |70.2          |Scattered Clouds            |0   |1       |0       |0   |0             |2017-09-05 00:00:00|South |\n",
      "|2       |38.811447|-77.325249|Fairfax     |VA   |70.2          |Scattered Clouds            |0   |0       |1       |0   |0             |2017-09-05 00:00:00|South |\n",
      "|2       |38.91095 |-77.421661|Fairfax     |VA   |66.9          |Mostly Cloudy               |0   |0       |1       |0   |1             |2017-09-05 00:00:00|South |\n",
      "|3       |38.932632|-77.212723|Fairfax     |VA   |71.1          |Scattered Clouds            |0   |1       |0       |0   |0             |2017-09-05 00:00:00|South |\n",
      "|3       |38.872303|-77.291397|Fairfax     |VA   |78.1          |Mostly Cloudy               |0   |0       |0       |0   |0             |2017-09-05 00:00:00|South |\n",
      "|3       |38.868732|-77.308899|Fairfax     |VA   |81.0          |Mostly Cloudy               |0   |0       |0       |0   |0             |2017-09-05 00:00:00|South |\n",
      "|3       |38.705372|-77.224007|Fairfax     |VA   |85.3          |Clear                       |0   |0       |0       |0   |0             |2017-09-05 00:00:00|South |\n",
      "|3       |38.882881|-77.230072|Fairfax     |VA   |84.6          |Clear                       |0   |0       |0       |0   |0             |2017-09-05 00:00:00|South |\n",
      "|3       |38.802006|-77.163635|Fairfax     |VA   |86.0          |Scattered Clouds            |0   |0       |0       |0   |0             |2017-09-05 00:00:00|South |\n",
      "|3       |38.801243|-77.086754|Fairfax     |VA   |78.1          |Overcast                    |0   |0       |0       |0   |0             |2017-09-05 00:00:00|South |\n",
      "|3       |38.921947|-77.215805|Fairfax     |VA   |69.1          |Light Rain                  |0   |0       |0       |0   |0             |2017-09-05 00:00:00|South |\n",
      "|2       |38.862053|-77.386887|Fairfax     |VA   |68.0          |Overcast                    |0   |0       |1       |0   |1             |2017-09-05 00:00:00|South |\n",
      "|3       |38.954506|-77.193832|Fairfax     |VA   |70.0          |Light Rain                  |0   |0       |0       |0   |0             |2017-09-05 00:00:00|South |\n",
      "|3       |38.911587|-77.216286|Fairfax     |VA   |70.0          |Light Rain                  |0   |0       |0       |0   |0             |2017-09-05 00:00:00|South |\n",
      "|3       |38.791   |-77.176064|Fairfax     |VA   |68.0          |Partly Cloudy               |0   |0       |0       |0   |0             |2017-09-06 00:00:00|South |\n",
      "|3       |38.885681|-77.221939|Fairfax     |VA   |70.0          |Overcast                    |0   |0       |0       |0   |0             |2017-09-06 00:00:00|South |\n",
      "|2       |38.9636  |-77.180153|Fairfax     |VA   |70.0          |Overcast                    |0   |0       |0       |0   |0             |2017-09-06 00:00:00|South |\n",
      "|3       |38.868732|-77.308899|Fairfax     |VA   |64.0          |Overcast                    |0   |0       |0       |0   |0             |2017-09-06 00:00:00|South |\n",
      "|2       |38.796455|-77.336647|Fairfax     |VA   |68.0          |Mostly Cloudy               |0   |0       |1       |0   |1             |2017-09-06 00:00:00|South |\n",
      "|3       |38.868912|-77.307907|Fairfax     |VA   |64.0          |Overcast                    |0   |0       |0       |0   |0             |2017-09-06 00:00:00|South |\n",
      "|2       |38.822781|-77.163452|Fairfax     |VA   |66.9          |Overcast                    |0   |0       |0       |0   |1             |2017-09-06 00:00:00|South |\n",
      "|3       |38.963818|-77.182632|Fairfax     |VA   |66.9          |Overcast                    |0   |0       |0       |0   |0             |2017-09-06 00:00:00|South |\n",
      "|3       |38.909248|-77.217514|Fairfax     |VA   |66.9          |Light Rain                  |0   |0       |0       |0   |0             |2017-09-06 00:00:00|South |\n",
      "|3       |38.676231|-77.23661 |Fairfax     |VA   |62.6          |Light Rain                  |0   |0       |0       |0   |0             |2017-09-06 00:00:00|South |\n",
      "|3       |38.878574|-77.267174|Fairfax     |VA   |62.1          |Light Rain                  |0   |0       |0       |0   |0             |2017-09-06 00:00:00|South |\n",
      "|2       |38.910042|-77.470467|Fairfax     |VA   |62.1          |Rain                        |0   |0       |1       |0   |1             |2017-09-06 00:00:00|South |\n",
      "|3       |38.790443|-77.170563|Fairfax     |VA   |62.6          |Light Rain                  |0   |0       |0       |0   |0             |2017-09-06 00:00:00|South |\n",
      "|3       |38.877411|-77.274788|Fairfax     |VA   |62.6          |Light Rain                  |0   |0       |0       |0   |0             |2017-09-06 00:00:00|South |\n",
      "|3       |38.882839|-77.230202|Fairfax     |VA   |62.6          |Clear                       |0   |0       |0       |0   |0             |2017-09-06 00:00:00|South |\n",
      "|3       |38.802006|-77.163635|Fairfax     |VA   |63.0          |Light Rain                  |0   |0       |0       |0   |0             |2017-09-06 00:00:00|South |\n",
      "|3       |38.737774|-77.191116|Fairfax     |VA   |62.6          |Light Rain                  |0   |0       |0       |0   |0             |2017-09-06 00:00:00|South |\n",
      "|3       |38.77441 |-77.182129|Fairfax     |VA   |62.6          |Light Rain                  |0   |1       |0       |0   |0             |2017-09-06 00:00:00|South |\n",
      "|3       |38.811226|-77.218185|Fairfax     |VA   |62.6          |Light Rain                  |0   |0       |0       |0   |0             |2017-09-06 00:00:00|South |\n",
      "|3       |38.846771|-77.431854|Fairfax     |VA   |55.0          |Overcast                    |0   |1       |0       |0   |0             |2017-09-07 00:00:00|South |\n",
      "|3       |38.811226|-77.218185|Fairfax     |VA   |58.6          |Scattered Clouds            |0   |0       |0       |0   |0             |2017-09-07 00:00:00|South |\n",
      "|3       |38.846478|-77.431763|Fairfax     |VA   |57.0          |Overcast                    |0   |0       |0       |0   |0             |2017-09-07 00:00:00|South |\n",
      "|3       |38.853127|-77.387711|Fairfax     |VA   |55.9          |Partly Cloudy               |0   |0       |0       |0   |0             |2017-09-07 00:00:00|South |\n",
      "|3       |38.861786|-77.347191|Fairfax     |VA   |55.9          |Partly Cloudy               |0   |0       |0       |0   |0             |2017-09-07 00:00:00|South |\n",
      "|3       |38.705372|-77.224007|Fairfax     |VA   |65.8          |Clear                       |0   |0       |0       |0   |0             |2017-09-07 00:00:00|South |\n",
      "|3       |38.800106|-77.206673|Fairfax     |VA   |65.8          |Clear                       |0   |0       |0       |0   |0             |2017-09-07 00:00:00|South |\n",
      "|3       |38.811192|-77.2174  |Fairfax     |VA   |68.7          |Clear                       |0   |0       |0       |0   |0             |2017-09-07 00:00:00|South |\n",
      "|2       |38.766949|-77.314133|Fairfax     |VA   |71.2          |Clear                       |0   |0       |0       |0   |1             |2017-09-07 00:00:00|South |\n",
      "|2       |38.790939|-77.060577|Fairfax     |VA   |73.0          |Scattered Clouds            |0   |0       |0       |0   |1             |2017-09-07 00:00:00|South |\n",
      "|2       |38.710304|-77.065254|Fairfax     |VA   |73.0          |Clear                       |0   |0       |0       |0   |0             |2017-09-07 00:00:00|South |\n",
      "|3       |38.728062|-77.200401|Fairfax     |VA   |73.0          |Clear                       |0   |0       |0       |0   |0             |2017-09-07 00:00:00|South |\n",
      "|3       |38.886051|-77.222115|Fairfax     |VA   |73.9          |Scattered Clouds            |0   |0       |0       |0   |0             |2017-09-07 00:00:00|South |\n",
      "|3       |38.854092|-77.22039 |Fairfax     |VA   |73.0          |Clear                       |0   |0       |0       |0   |1             |2017-09-07 00:00:00|South |\n",
      "|3       |38.705372|-77.224007|Fairfax     |VA   |73.0          |Clear                       |0   |0       |0       |0   |0             |2017-09-07 00:00:00|South |\n",
      "|3       |38.846478|-77.433311|Fairfax     |VA   |69.1          |Overcast                    |0   |0       |0       |0   |0             |2017-09-07 00:00:00|South |\n",
      "|3       |38.886051|-77.222115|Fairfax     |VA   |73.9          |Scattered Clouds            |0   |0       |0       |0   |0             |2017-09-07 00:00:00|South |\n",
      "|3       |38.705372|-77.224007|Fairfax     |VA   |73.0          |Clear                       |0   |0       |0       |0   |0             |2017-09-07 00:00:00|South |\n",
      "|3       |38.77441 |-77.182129|Fairfax     |VA   |72.0          |Clear                       |0   |1       |0       |0   |0             |2017-09-07 00:00:00|South |\n",
      "|3       |38.741028|-77.190163|Fairfax     |VA   |69.8          |Clear                       |0   |1       |0       |0   |0             |2017-09-07 00:00:00|South |\n",
      "|3       |38.888714|-77.214172|Fairfax     |VA   |71.1          |Partly Cloudy               |0   |0       |0       |0   |0             |2017-09-07 00:00:00|South |\n",
      "|3       |38.796246|-77.135559|Fairfax     |VA   |69.8          |Clear                       |0   |1       |0       |0   |0             |2017-09-07 00:00:00|South |\n",
      "|3       |38.776901|-77.180588|Fairfax     |VA   |60.3          |Clear                       |0   |0       |0       |0   |0             |2017-09-07 00:00:00|South |\n",
      "|3       |38.886051|-77.222115|Fairfax     |VA   |66.0          |Clear                       |0   |0       |0       |0   |0             |2017-09-07 00:00:00|South |\n",
      "|3       |38.689159|-77.227104|Fairfax     |VA   |70.7          |Clear                       |0   |0       |0       |0   |0             |2017-09-08 00:00:00|South |\n",
      "|3       |38.739147|-77.190781|Fairfax     |VA   |73.9          |Partly Cloudy               |0   |0       |0       |0   |0             |2017-09-08 00:00:00|South |\n",
      "|3       |38.854607|-77.388702|Fairfax     |VA   |73.9          |Mostly Cloudy               |0   |0       |0       |0   |0             |2017-09-08 00:00:00|South |\n",
      "|3       |38.802006|-77.163635|Fairfax     |VA   |73.9          |Mostly Cloudy               |0   |0       |0       |0   |0             |2017-09-08 00:00:00|South |\n",
      "|3       |38.884586|-77.225777|Fairfax     |VA   |73.9          |Mostly Cloudy               |0   |0       |0       |0   |0             |2017-09-08 00:00:00|South |\n",
      "|3       |38.910229|-77.217476|Fairfax     |VA   |73.9          |Mostly Cloudy               |0   |0       |0       |0   |0             |2017-09-08 00:00:00|South |\n",
      "|3       |38.802006|-77.163635|Fairfax     |VA   |72.0          |Mostly Cloudy               |0   |0       |0       |0   |0             |2017-09-08 00:00:00|South |\n",
      "|3       |38.800407|-77.078392|Fairfax     |VA   |72.0          |Mostly Cloudy               |0   |0       |0       |0   |0             |2017-09-08 00:00:00|South |\n",
      "|3       |38.749302|-77.184998|Fairfax     |VA   |57.0          |Clear                       |0   |0       |0       |0   |0             |2017-09-09 00:00:00|South |\n",
      "|3       |38.877411|-77.274788|Fairfax     |VA   |62.1          |Clear                       |0   |0       |0       |0   |0             |2017-09-09 00:00:00|South |\n",
      "|2       |38.967293|-77.291435|Fairfax     |VA   |63.0          |Scattered Clouds            |0   |0       |1       |0   |1             |2017-09-09 00:00:00|South |\n",
      "|3       |38.7295  |-77.107208|Fairfax     |VA   |69.4          |Mostly Cloudy               |0   |0       |0       |0   |1             |2017-09-09 00:00:00|South |\n",
      "|3       |38.705372|-77.224007|Fairfax     |VA   |69.4          |Mostly Cloudy               |0   |0       |0       |0   |0             |2017-09-09 00:00:00|South |\n",
      "|3       |38.810738|-77.250572|Fairfax     |VA   |71.8          |Scattered Clouds            |0   |0       |1       |0   |1             |2017-09-09 00:00:00|South |\n",
      "|2       |38.749165|-77.260704|Fairfax     |VA   |66.0          |Clear                       |0   |0       |0       |0   |0             |2017-09-10 00:00:00|South |\n",
      "|3       |38.88802 |-77.220695|Fairfax     |VA   |69.1          |Scattered Clouds            |0   |0       |0       |0   |0             |2017-09-10 00:00:00|South |\n",
      "|2       |38.928444|-77.241104|Fairfax     |VA   |51.1          |Partly Cloudy               |0   |0       |1       |0   |1             |2017-09-11 00:00:00|South |\n",
      "|3       |38.833225|-77.217987|Fairfax     |VA   |53.1          |Clear                       |0   |0       |0       |0   |0             |2017-09-11 00:00:00|South |\n",
      "|3       |38.910229|-77.217476|Fairfax     |VA   |62.1          |Mostly Cloudy               |0   |0       |0       |0   |0             |2017-09-11 00:00:00|South |\n",
      "|3       |38.964165|-77.182434|Fairfax     |VA   |73.0          |Mostly Cloudy               |0   |0       |0       |0   |0             |2017-09-11 00:00:00|South |\n",
      "|3       |38.801548|-77.112083|Fairfax     |VA   |70.7          |Clear                       |0   |0       |0       |0   |1             |2017-09-11 00:00:00|South |\n",
      "|2       |38.904808|-77.205437|Fairfax     |VA   |72.0          |Overcast                    |0   |0       |0       |0   |0             |2017-09-11 00:00:00|South |\n",
      "|3       |38.77441 |-77.182129|Fairfax     |VA   |67.8          |Clear                       |0   |1       |0       |0   |0             |2017-09-11 00:00:00|South |\n",
      "|2       |38.810642|-77.248848|Fairfax     |VA   |77.0          |Clear                       |0   |0       |1       |0   |1             |2017-09-12 00:00:00|South |\n",
      "|3       |38.877411|-77.274788|Fairfax     |VA   |77.9          |Clear                       |0   |0       |0       |0   |0             |2017-09-12 00:00:00|South |\n",
      "|3       |38.676231|-77.23661 |Fairfax     |VA   |77.9          |Clear                       |0   |0       |0       |0   |0             |2017-09-12 00:00:00|South |\n",
      "|3       |38.676231|-77.23661 |Fairfax     |VA   |77.2          |Clear                       |0   |0       |0       |0   |0             |2017-09-12 00:00:00|South |\n",
      "|3       |38.862522|-77.344803|Fairfax     |VA   |75.0          |Scattered Clouds            |0   |0       |0       |0   |0             |2017-09-12 00:00:00|South |\n",
      "|3       |38.707123|-77.223381|Fairfax     |VA   |75.7          |Clear                       |0   |0       |0       |0   |0             |2017-09-12 00:00:00|South |\n",
      "|3       |38.846626|-77.432579|Fairfax     |VA   |73.0          |Scattered Clouds            |0   |0       |0       |0   |0             |2017-09-12 00:00:00|South |\n",
      "|2       |38.797855|-77.080627|Fairfax     |VA   |73.0          |Mostly Cloudy               |0   |0       |1       |0   |1             |2017-09-12 00:00:00|South |\n",
      "|3       |38.77441 |-77.182129|Fairfax     |VA   |69.8          |Mostly Cloudy               |0   |1       |0       |0   |0             |2017-09-12 00:00:00|South |\n",
      "|3       |38.883938|-77.221451|Fairfax     |VA   |71.1          |Mostly Cloudy               |0   |0       |0       |0   |0             |2017-09-12 00:00:00|South |\n",
      "|3       |38.740387|-77.19014 |Fairfax     |VA   |75.2          |Mostly Cloudy               |0   |1       |0       |0   |0             |2017-09-13 00:00:00|South |\n",
      "|2       |38.774494|-77.09948 |Fairfax     |VA   |75.2          |Mostly Cloudy               |0   |0       |0       |0   |0             |2017-09-13 00:00:00|South |\n",
      "|2       |38.914585|-77.233292|Fairfax     |VA   |70.0          |Overcast                    |0   |0       |0       |0   |1             |2017-09-13 00:00:00|South |\n",
      "|3       |38.886051|-77.222115|Fairfax     |VA   |75.0          |Overcast                    |0   |0       |0       |0   |0             |2017-09-13 00:00:00|South |\n",
      "|3       |38.749302|-77.184998|Fairfax     |VA   |75.2          |Overcast                    |0   |0       |0       |0   |0             |2017-09-13 00:00:00|South |\n",
      "|3       |38.877411|-77.274788|Fairfax     |VA   |75.2          |Overcast                    |0   |0       |0       |0   |0             |2017-09-13 00:00:00|South |\n",
      "|3       |38.883907|-77.227409|Fairfax     |VA   |72.0          |Overcast                    |0   |0       |0       |0   |0             |2017-09-13 00:00:00|South |\n",
      "|3       |38.883087|-77.229492|Fairfax     |VA   |72.0          |Overcast                    |0   |0       |0       |0   |0             |2017-09-13 00:00:00|South |\n",
      "|3       |38.854298|-77.220398|Fairfax     |VA   |80.6          |Scattered Clouds            |0   |0       |0       |0   |0             |2017-09-13 00:00:00|South |\n",
      "|3       |38.811226|-77.218185|Fairfax     |VA   |79.9          |Partly Cloudy               |0   |0       |0       |0   |0             |2017-09-13 00:00:00|South |\n",
      "|3       |38.884972|-77.222252|Fairfax     |VA   |78.1          |Scattered Clouds            |0   |0       |0       |0   |0             |2017-09-13 00:00:00|South |\n",
      "|3       |38.901417|-77.188194|Fairfax     |VA   |80.1          |Scattered Clouds            |0   |0       |0       |0   |0             |2017-09-13 00:00:00|South |\n",
      "|3       |38.921947|-77.215805|Fairfax     |VA   |77.0          |Partly Cloudy               |0   |0       |0       |0   |0             |2017-09-13 00:00:00|South |\n",
      "|2       |38.923981|-77.210503|Fairfax     |VA   |77.0          |Partly Cloudy               |0   |0       |0       |0   |1             |2017-09-13 00:00:00|South |\n",
      "|3       |38.740826|-77.18985 |Fairfax     |VA   |69.8          |Clear                       |0   |1       |0       |0   |0             |2017-09-13 00:00:00|South |\n",
      "|3       |38.854359|-77.38842 |Fairfax     |VA   |66.9          |Clear                       |0   |0       |0       |0   |0             |2017-09-13 00:00:00|South |\n",
      "|3       |38.740456|-77.189842|Fairfax     |VA   |64.4          |Clear                       |0   |1       |0       |0   |0             |2017-09-13 00:00:00|South |\n",
      "|3       |38.837128|-77.447281|Fairfax     |VA   |72.0          |Mostly Cloudy               |0   |1       |0       |0   |0             |2017-09-14 00:00:00|South |\n",
      "|3       |38.814247|-77.479301|Fairfax     |VA   |78.1          |Partly Cloudy               |0   |0       |0       |0   |0             |2017-09-14 00:00:00|South |\n",
      "|3       |38.931473|-77.21154 |Fairfax     |VA   |82.0          |Mostly Cloudy               |0   |0       |0       |0   |0             |2017-09-14 00:00:00|South |\n",
      "|3       |38.854649|-77.388481|Fairfax     |VA   |78.1          |Mostly Cloudy               |0   |0       |0       |0   |0             |2017-09-14 00:00:00|South |\n",
      "|3       |38.862274|-77.346107|Fairfax     |VA   |79.0          |Mostly Cloudy               |0   |0       |0       |0   |0             |2017-09-14 00:00:00|South |\n",
      "|3       |38.854649|-77.388481|Fairfax     |VA   |78.1          |Mostly Cloudy               |0   |0       |0       |0   |0             |2017-09-14 00:00:00|South |\n",
      "|3       |38.802006|-77.163635|Fairfax     |VA   |79.0          |Mostly Cloudy               |0   |0       |0       |0   |0             |2017-09-14 00:00:00|South |\n",
      "|3       |38.887699|-77.216034|Fairfax     |VA   |79.0          |Mostly Cloudy               |0   |0       |0       |0   |0             |2017-09-14 00:00:00|South |\n",
      "|3       |38.846577|-77.432816|Fairfax     |VA   |73.9          |Mostly Cloudy               |0   |0       |0       |0   |0             |2017-09-14 00:00:00|South |\n",
      "|3       |38.869267|-77.220421|Fairfax     |VA   |75.9          |Overcast                    |0   |1       |0       |0   |0             |2017-09-14 00:00:00|South |\n",
      "|2       |38.836399|-77.235435|Fairfax     |VA   |70.9          |Mostly Cloudy               |0   |0       |1       |0   |1             |2017-09-14 00:00:00|South |\n",
      "|3       |38.749302|-77.184998|Fairfax     |VA   |64.9          |Clear                       |0   |0       |0       |0   |0             |2017-09-15 00:00:00|South |\n",
      "|2       |38.872437|-77.155884|Fairfax     |VA   |66.9          |Partly Cloudy               |0   |0       |1       |0   |1             |2017-09-15 00:00:00|South |\n",
      "|3       |38.837578|-77.446457|Fairfax     |VA   |63.0          |Mostly Cloudy               |0   |0       |0       |0   |0             |2017-09-15 00:00:00|South |\n",
      "|3       |38.793591|-77.151756|Fairfax     |VA   |68.0          |Clear                       |0   |0       |0       |0   |0             |2017-09-15 00:00:00|South |\n",
      "|2       |38.838531|-77.251312|Fairfax     |VA   |68.0          |Clear                       |0   |0       |0       |0   |1             |2017-09-15 00:00:00|South |\n",
      "|3       |38.868603|-77.309608|Fairfax     |VA   |70.0          |Scattered Clouds            |0   |0       |0       |0   |0             |2017-09-15 00:00:00|South |\n",
      "|2       |38.963776|-77.182709|Fairfax     |VA   |72.0          |Partly Cloudy               |0   |0       |0       |0   |0             |2017-09-15 00:00:00|South |\n",
      "|3       |38.794983|-77.143326|Fairfax     |VA   |72.0          |Clear                       |0   |0       |0       |0   |0             |2017-09-15 00:00:00|South |\n",
      "|2       |38.963715|-77.182831|Fairfax     |VA   |82.0          |Mostly Cloudy               |0   |0       |0       |0   |0             |2017-09-15 00:00:00|South |\n",
      "|2       |38.709953|-77.197121|Fairfax     |VA   |79.9          |Partly Cloudy               |0   |0       |0       |0   |1             |2017-09-15 00:00:00|South |\n",
      "|3       |38.910229|-77.217476|Fairfax     |VA   |80.1          |Mostly Cloudy               |0   |0       |0       |0   |0             |2017-09-15 00:00:00|South |\n",
      "|3       |38.740795|-77.189873|Fairfax     |VA   |80.1          |Partly Cloudy               |0   |1       |0       |0   |0             |2017-09-15 00:00:00|South |\n",
      "|3       |38.854649|-77.388481|Fairfax     |VA   |81.0          |Scattered Clouds            |0   |0       |0       |0   |0             |2017-09-15 00:00:00|South |\n",
      "|3       |38.790867|-77.176155|Fairfax     |VA   |69.3          |Clear                       |0   |0       |0       |0   |0             |2017-09-15 00:00:00|South |\n",
      "|3       |38.963715|-77.182831|Fairfax     |VA   |75.9          |Partly Cloudy               |0   |0       |0       |0   |0             |2017-09-15 00:00:00|South |\n",
      "|3       |38.962185|-77.186333|Fairfax     |VA   |75.9          |Partly Cloudy               |0   |1       |0       |0   |0             |2017-09-15 00:00:00|South |\n",
      "|3       |38.801548|-77.112083|Fairfax     |VA   |72.5          |Clear                       |0   |0       |0       |0   |1             |2017-09-16 00:00:00|South |\n",
      "|3       |38.877411|-77.274788|Fairfax     |VA   |81.7          |Partly Cloudy               |0   |0       |0       |0   |0             |2017-09-16 00:00:00|South |\n",
      "|2       |38.870579|-77.169395|Fairfax     |VA   |86.0          |Mostly Cloudy               |0   |0       |0       |0   |1             |2017-09-16 00:00:00|South |\n",
      "|3       |38.945614|-77.202461|Fairfax     |VA   |81.0          |Overcast                    |0   |0       |0       |0   |0             |2017-09-16 00:00:00|South |\n",
      "|3       |38.705372|-77.224007|Fairfax     |VA   |81.0          |Partly Cloudy               |0   |0       |0       |0   |0             |2017-09-17 00:00:00|South |\n",
      "|3       |38.676231|-77.23661 |Fairfax     |VA   |81.0          |Partly Cloudy               |0   |0       |0       |0   |0             |2017-09-17 00:00:00|South |\n",
      "|3       |38.778755|-77.180153|Fairfax     |VA   |80.4          |Clear                       |0   |0       |0       |0   |0             |2017-09-17 00:00:00|South |\n",
      "|3       |38.802006|-77.163635|Fairfax     |VA   |84.0          |Mostly Cloudy               |0   |0       |0       |0   |0             |2017-09-17 00:00:00|South |\n",
      "|3       |38.769791|-77.183006|Fairfax     |VA   |66.9          |Overcast                    |0   |0       |0       |0   |0             |2017-09-18 00:00:00|South |\n",
      "|3       |38.885448|-77.221992|Fairfax     |VA   |63.0          |Mostly Cloudy               |0   |0       |0       |0   |0             |2017-09-18 00:00:00|South |\n",
      "|3       |38.749302|-77.184998|Fairfax     |VA   |66.2          |Partly Cloudy               |0   |0       |0       |0   |0             |2017-09-18 00:00:00|South |\n",
      "|3       |38.821438|-77.463661|Fairfax     |VA   |66.2          |Overcast                    |0   |0       |0       |0   |0             |2017-09-18 00:00:00|South |\n",
      "|3       |38.878574|-77.267174|Fairfax     |VA   |64.9          |Scattered Clouds            |0   |0       |0       |0   |0             |2017-09-18 00:00:00|South |\n",
      "|2       |38.934483|-77.246819|Fairfax     |VA   |71.1          |Mostly Cloudy               |0   |0       |0       |0   |0             |2017-09-18 00:00:00|South |\n",
      "|2       |38.868561|-77.36483 |Fairfax     |VA   |64.9          |Mostly Cloudy               |0   |0       |0       |0   |0             |2017-09-18 00:00:00|South |\n",
      "|3       |38.868732|-77.308899|Fairfax     |VA   |66.9          |Mostly Cloudy               |0   |0       |0       |0   |0             |2017-09-18 00:00:00|South |\n",
      "|3       |38.861713|-77.347054|Fairfax     |VA   |68.0          |Mostly Cloudy               |0   |0       |0       |0   |0             |2017-09-18 00:00:00|South |\n",
      "|2       |38.775909|-77.201775|Fairfax     |VA   |77.0          |Overcast                    |0   |0       |0       |0   |0             |2017-09-18 00:00:00|South |\n",
      "|2       |38.937645|-77.1838  |Fairfax     |VA   |75.0          |Overcast                    |0   |0       |0       |0   |0             |2017-09-18 00:00:00|South |\n",
      "|3       |38.931591|-77.21093 |Fairfax     |VA   |75.0          |Overcast                    |0   |0       |0       |0   |0             |2017-09-18 00:00:00|South |\n",
      "|3       |38.954506|-77.193832|Fairfax     |VA   |75.0          |Overcast                    |0   |0       |0       |0   |0             |2017-09-18 00:00:00|South |\n",
      "|3       |38.794003|-77.183502|Fairfax     |VA   |75.6          |Partly Cloudy               |0   |0       |0       |0   |0             |2017-09-18 00:00:00|South |\n",
      "|3       |38.862637|-77.344223|Fairfax     |VA   |75.0          |Mostly Cloudy               |0   |0       |0       |0   |0             |2017-09-18 00:00:00|South |\n",
      "|3       |38.886578|-77.218269|Fairfax     |VA   |77.0          |Mostly Cloudy               |0   |0       |0       |0   |0             |2017-09-18 00:00:00|South |\n",
      "|3       |38.877312|-77.275192|Fairfax     |VA   |73.4          |Clear                       |0   |0       |0       |0   |0             |2017-09-18 00:00:00|South |\n",
      "|3       |38.88409 |-77.226967|Fairfax     |VA   |73.0          |Scattered Clouds            |0   |0       |0       |0   |0             |2017-09-18 00:00:00|South |\n",
      "|3       |38.811283|-77.21804 |Fairfax     |VA   |73.4          |Clear                       |0   |0       |0       |0   |0             |2017-09-18 00:00:00|South |\n",
      "|3       |38.963715|-77.182831|Fairfax     |VA   |73.9          |Mostly Cloudy               |0   |0       |0       |0   |0             |2017-09-18 00:00:00|South |\n",
      "|3       |38.796246|-77.135559|Fairfax     |VA   |70.2          |Clear                       |0   |1       |0       |0   |0             |2017-09-18 00:00:00|South |\n",
      "|3       |38.854092|-77.22039 |Fairfax     |VA   |70.2          |Clear                       |0   |0       |0       |0   |1             |2017-09-18 00:00:00|South |\n",
      "|3       |38.884907|-77.224968|Fairfax     |VA   |72.0          |Scattered Clouds            |0   |0       |0       |0   |0             |2017-09-18 00:00:00|South |\n",
      "|3       |38.853596|-77.21946 |Fairfax     |VA   |72.0          |Overcast                    |0   |0       |0       |0   |1             |2017-09-19 00:00:00|South |\n",
      "|2       |38.811226|-77.218185|Fairfax     |VA   |77.0          |Mostly Cloudy               |0   |0       |0       |0   |0             |2017-09-19 00:00:00|South |\n",
      "|3       |38.878773|-77.258575|Fairfax     |VA   |78.4          |Partly Cloudy               |0   |0       |0       |0   |0             |2017-09-19 00:00:00|South |\n",
      "|3       |38.740456|-77.189842|Fairfax     |VA   |80.4          |Clear                       |0   |1       |0       |0   |0             |2017-09-19 00:00:00|South |\n",
      "|3       |38.763752|-77.183441|Fairfax     |VA   |80.4          |Clear                       |0   |0       |0       |0   |0             |2017-09-19 00:00:00|South |\n",
      "|3       |38.846703|-77.432205|Fairfax     |VA   |82.0          |Partly Cloudy               |0   |1       |0       |0   |0             |2017-09-19 00:00:00|South |\n",
      "|2       |38.87067 |-77.448395|Fairfax     |VA   |82.0          |Partly Cloudy               |0   |0       |1       |0   |1             |2017-09-19 00:00:00|South |\n",
      "|3       |38.862457|-77.345131|Fairfax     |VA   |80.1          |Partly Cloudy               |0   |0       |0       |0   |0             |2017-09-19 00:00:00|South |\n",
      "|3       |38.886051|-77.222115|Fairfax     |VA   |82.0          |Mostly Cloudy               |0   |0       |0       |0   |0             |2017-09-19 00:00:00|South |\n",
      "|3       |38.705372|-77.224007|Fairfax     |VA   |81.3          |Clear                       |0   |0       |0       |0   |0             |2017-09-19 00:00:00|South |\n",
      "|3       |38.676231|-77.23661 |Fairfax     |VA   |79.0          |Clear                       |0   |0       |0       |0   |0             |2017-09-19 00:00:00|South |\n",
      "|3       |38.704269|-77.224342|Fairfax     |VA   |79.0          |Clear                       |0   |0       |0       |0   |0             |2017-09-19 00:00:00|South |\n",
      "|3       |38.77441 |-77.182129|Fairfax     |VA   |79.0          |Clear                       |0   |1       |0       |0   |0             |2017-09-19 00:00:00|South |\n",
      "|2       |38.709953|-77.197121|Fairfax     |VA   |74.5          |Clear                       |0   |0       |0       |0   |1             |2017-09-19 00:00:00|South |\n",
      "|3       |38.854713|-77.38813 |Fairfax     |VA   |73.0          |Partly Cloudy               |0   |0       |0       |0   |0             |2017-09-19 00:00:00|South |\n",
      "|2       |38.999043|-77.342728|Fairfax     |VA   |64.9          |Scattered Clouds            |0   |0       |1       |0   |1             |2017-09-20 00:00:00|South |\n",
      "|3       |38.705372|-77.224007|Fairfax     |VA   |68.4          |Scattered Clouds            |0   |0       |0       |0   |0             |2017-09-20 00:00:00|South |\n",
      "|3       |38.837128|-77.447281|Fairfax     |VA   |63.0          |Scattered Clouds            |0   |1       |0       |0   |0             |2017-09-20 00:00:00|South |\n",
      "|3       |38.846703|-77.432205|Fairfax     |VA   |64.9          |Scattered Clouds            |0   |1       |0       |0   |0             |2017-09-20 00:00:00|South |\n",
      "|3       |38.901417|-77.188194|Fairfax     |VA   |73.0          |Mostly Cloudy               |0   |0       |0       |0   |0             |2017-09-20 00:00:00|South |\n",
      "|3       |38.931477|-77.210991|Fairfax     |VA   |84.9          |Scattered Clouds            |0   |0       |0       |0   |0             |2017-09-20 00:00:00|South |\n",
      "|3       |38.886051|-77.222115|Fairfax     |VA   |86.0          |Partly Cloudy               |0   |0       |0       |0   |0             |2017-09-20 00:00:00|South |\n",
      "|3       |38.837128|-77.447281|Fairfax     |VA   |86.0          |Partly Cloudy               |0   |1       |0       |0   |0             |2017-09-20 00:00:00|South |\n",
      "|3       |38.846703|-77.432205|Fairfax     |VA   |86.0          |Partly Cloudy               |0   |1       |0       |0   |0             |2017-09-20 00:00:00|South |\n",
      "|3       |38.7407  |-77.189926|Fairfax     |VA   |86.9          |Clear                       |0   |1       |0       |0   |0             |2017-09-20 00:00:00|South |\n",
      "|3       |38.898964|-77.197113|Fairfax     |VA   |87.1          |Partly Cloudy               |0   |0       |0       |0   |0             |2017-09-20 00:00:00|South |\n",
      "|3       |38.910805|-77.218193|Fairfax     |VA   |84.9          |Partly Cloudy               |0   |0       |0       |0   |0             |2017-09-20 00:00:00|South |\n",
      "|3       |38.931862|-77.211319|Fairfax     |VA   |84.9          |Partly Cloudy               |0   |1       |0       |0   |0             |2017-09-20 00:00:00|South |\n",
      "|3       |38.705372|-77.224007|Fairfax     |VA   |85.8          |Clear                       |0   |0       |0       |0   |0             |2017-09-20 00:00:00|South |\n",
      "|3       |38.877312|-77.275192|Fairfax     |VA   |70.3          |Clear                       |0   |0       |0       |0   |0             |2017-09-20 00:00:00|South |\n",
      "|3       |38.886051|-77.222115|Fairfax     |VA   |78.1          |Partly Cloudy               |0   |0       |0       |0   |0             |2017-09-21 00:00:00|South |\n",
      "|3       |38.676231|-77.23661 |Fairfax     |VA   |80.6          |Partly Cloudy               |0   |0       |0       |0   |0             |2017-09-21 00:00:00|South |\n",
      "|2       |38.952801|-77.226158|Fairfax     |VA   |86.0          |Mostly Cloudy               |0   |0       |0       |0   |1             |2017-09-21 00:00:00|South |\n",
      "|2       |38.86573 |-77.220398|Fairfax     |VA   |86.0          |Mostly Cloudy               |0   |0       |0       |0   |0             |2017-09-21 00:00:00|South |\n",
      "|3       |38.801945|-77.164215|Fairfax     |VA   |87.8          |Partly Cloudy               |0   |1       |0       |0   |0             |2017-09-21 00:00:00|South |\n",
      "|2       |38.708084|-77.163872|Fairfax     |VA   |86.0          |Partly Cloudy               |0   |0       |0       |0   |1             |2017-09-21 00:00:00|South |\n",
      "|3       |38.801548|-77.112083|Fairfax     |VA   |86.0          |Partly Cloudy               |0   |0       |0       |0   |1             |2017-09-21 00:00:00|South |\n",
      "|3       |38.93626 |-77.207863|Fairfax     |VA   |86.0          |Scattered Clouds            |0   |0       |0       |0   |0             |2017-09-21 00:00:00|South |\n",
      "|3       |38.898415|-77.198036|Fairfax     |VA   |84.9          |Scattered Clouds            |0   |0       |0       |0   |0             |2017-09-21 00:00:00|South |\n",
      "|3       |38.676231|-77.23661 |Fairfax     |VA   |84.2          |Partly Cloudy               |0   |0       |0       |0   |0             |2017-09-21 00:00:00|South |\n",
      "|3       |38.931816|-77.210793|Fairfax     |VA   |81.0          |Mostly Cloudy               |0   |0       |0       |0   |0             |2017-09-21 00:00:00|South |\n",
      "|3       |38.801357|-77.112793|Fairfax     |VA   |71.2          |Clear                       |0   |0       |0       |0   |0             |2017-09-21 00:00:00|South |\n",
      "|3       |38.706818|-77.223267|Fairfax     |VA   |69.8          |Clear                       |0   |0       |0       |0   |0             |2017-09-21 00:00:00|South |\n",
      "|3       |38.77441 |-77.182129|Fairfax     |VA   |69.6          |Clear                       |0   |1       |0       |0   |0             |2017-09-22 00:00:00|South |\n",
      "|3       |38.731339|-77.196854|Fairfax     |VA   |69.1          |Partly Cloudy               |0   |0       |0       |0   |0             |2017-09-22 00:00:00|South |\n",
      "|3       |38.740456|-77.189842|Fairfax     |VA   |71.6          |Clear                       |0   |1       |0       |0   |0             |2017-09-22 00:00:00|South |\n",
      "|3       |38.846703|-77.432205|Fairfax     |VA   |81.0          |Mostly Cloudy               |0   |1       |0       |0   |0             |2017-09-22 00:00:00|South |\n",
      "|3       |38.877445|-77.274605|Fairfax     |VA   |81.9          |Clear                       |0   |0       |0       |0   |0             |2017-09-22 00:00:00|South |\n",
      "|3       |38.862206|-77.3452  |Fairfax     |VA   |81.0          |Mostly Cloudy               |0   |0       |0       |0   |0             |2017-09-22 00:00:00|South |\n",
      "|3       |38.817303|-77.274033|Fairfax     |VA   |81.1          |Clear                       |0   |0       |0       |0   |1             |2017-09-22 00:00:00|South |\n",
      "|3       |38.740086|-77.190109|Fairfax     |VA   |73.2          |Clear                       |0   |0       |0       |0   |0             |2017-09-22 00:00:00|South |\n",
      "|3       |38.868923|-77.308838|Fairfax     |VA   |77.0          |Mostly Cloudy               |0   |0       |0       |0   |0             |2017-09-22 00:00:00|South |\n",
      "|2       |38.866318|-77.194939|Fairfax     |VA   |80.1          |Mostly Cloudy               |0   |0       |0       |0   |1             |2017-09-22 00:00:00|South |\n",
      "|3       |38.706287|-77.223465|Fairfax     |VA   |69.8          |Clear                       |0   |0       |0       |0   |0             |2017-09-22 00:00:00|South |\n",
      "|2       |38.930805|-77.403145|Fairfax     |VA   |66.0          |Mostly Cloudy               |0   |0       |0       |0   |0             |2017-09-22 00:00:00|South |\n",
      "|3       |38.931316|-77.210304|Fairfax     |VA   |75.9          |Mostly Cloudy               |0   |0       |0       |0   |0             |2017-09-22 00:00:00|South |\n",
      "|2       |38.82951 |-77.19014 |Fairfax     |VA   |82.8          |Clear                       |0   |0       |0       |0   |1             |2017-09-24 00:00:00|South |\n",
      "|3       |38.858921|-77.363258|Fairfax     |VA   |87.1          |Scattered Clouds            |0   |0       |0       |0   |1             |2017-09-24 00:00:00|South |\n",
      "|3       |38.837128|-77.447281|Fairfax     |VA   |64.9          |Partly Cloudy               |0   |1       |0       |0   |0             |2017-09-25 00:00:00|South |\n",
      "|2       |38.78418 |-77.073349|Fairfax     |VA   |72.0          |Scattered Clouds            |0   |0       |0       |0   |0             |2017-09-25 00:00:00|South |\n",
      "|2       |38.871384|-77.372467|Fairfax     |VA   |64.9          |Partly Cloudy               |0   |0       |0       |0   |1             |2017-09-25 00:00:00|South |\n",
      "|2       |38.77507 |-77.180801|Fairfax     |VA   |64.4          |Clear                       |0   |0       |0       |0   |0             |2017-09-25 00:00:00|South |\n",
      "|3       |38.834152|-77.218185|Fairfax     |VA   |86.5          |Clear                       |0   |0       |0       |0   |0             |2017-09-25 00:00:00|South |\n",
      "|2       |38.811916|-77.177948|Fairfax     |VA   |86.5          |Clear                       |0   |0       |0       |0   |0             |2017-09-25 00:00:00|South |\n",
      "|3       |38.740456|-77.189842|Fairfax     |VA   |85.6          |Clear                       |0   |1       |0       |0   |0             |2017-09-25 00:00:00|South |\n",
      "|3       |38.705372|-77.224007|Fairfax     |VA   |83.8          |Clear                       |0   |0       |0       |0   |0             |2017-09-25 00:00:00|South |\n",
      "|3       |38.796246|-77.135559|Fairfax     |VA   |77.4          |Clear                       |0   |1       |0       |0   |0             |2017-09-25 00:00:00|South |\n",
      "|3       |38.801662|-77.164261|Fairfax     |VA   |77.4          |Clear                       |0   |0       |0       |0   |0             |2017-09-25 00:00:00|South |\n",
      "|2       |38.86573 |-77.220398|Fairfax     |VA   |70.0          |Mostly Cloudy               |0   |0       |0       |0   |0             |2017-09-26 00:00:00|South |\n",
      "|3       |38.921947|-77.215805|Fairfax     |VA   |71.1          |Mostly Cloudy               |0   |0       |0       |0   |0             |2017-09-26 00:00:00|South |\n",
      "|3       |38.854649|-77.388481|Fairfax     |VA   |75.0          |Mostly Cloudy               |0   |0       |0       |0   |0             |2017-09-26 00:00:00|South |\n",
      "|3       |38.854649|-77.388481|Fairfax     |VA   |75.0          |Mostly Cloudy               |0   |0       |0       |0   |0             |2017-09-26 00:00:00|South |\n",
      "|3       |38.886051|-77.222115|Fairfax     |VA   |73.9          |Mostly Cloudy               |0   |0       |0       |0   |0             |2017-09-26 00:00:00|South |\n",
      "|3       |38.749302|-77.184998|Fairfax     |VA   |74.8          |Overcast                    |0   |0       |0       |0   |0             |2017-09-26 00:00:00|South |\n",
      "|3       |38.854649|-77.388481|Fairfax     |VA   |78.1          |Mostly Cloudy               |0   |0       |0       |0   |0             |2017-09-26 00:00:00|South |\n",
      "|3       |38.846703|-77.432205|Fairfax     |VA   |82.9          |Mostly Cloudy               |0   |1       |0       |0   |0             |2017-09-26 00:00:00|South |\n",
      "|2       |38.744614|-77.188301|Fairfax     |VA   |78.8          |Overcast                    |0   |0       |0       |0   |1             |2017-09-26 00:00:00|South |\n",
      "|3       |38.846703|-77.432205|Fairfax     |VA   |82.0          |Mostly Cloudy               |0   |1       |0       |0   |0             |2017-09-26 00:00:00|South |\n",
      "|3       |38.854649|-77.388481|Fairfax     |VA   |82.0          |Mostly Cloudy               |0   |0       |0       |0   |0             |2017-09-26 00:00:00|South |\n",
      "|3       |38.886051|-77.222115|Fairfax     |VA   |82.9          |Overcast                    |0   |0       |0       |0   |0             |2017-09-26 00:00:00|South |\n",
      "|3       |38.881256|-77.235329|Fairfax     |VA   |82.0          |Mostly Cloudy               |0   |0       |0       |0   |0             |2017-09-26 00:00:00|South |\n",
      "|3       |38.931232|-77.211128|Fairfax     |VA   |84.9          |Mostly Cloudy               |0   |0       |0       |0   |0             |2017-09-26 00:00:00|South |\n",
      "|3       |38.877411|-77.274788|Fairfax     |VA   |84.2          |Clear                       |0   |0       |0       |0   |0             |2017-09-26 00:00:00|South |\n",
      "|3       |38.77441 |-77.182129|Fairfax     |VA   |84.2          |Clear                       |0   |1       |0       |0   |0             |2017-09-26 00:00:00|South |\n",
      "|3       |38.86573 |-77.220398|Fairfax     |VA   |81.0          |Mostly Cloudy               |0   |0       |0       |0   |0             |2017-09-26 00:00:00|South |\n",
      "|3       |38.854649|-77.388481|Fairfax     |VA   |79.0          |Scattered Clouds            |0   |0       |0       |0   |0             |2017-09-26 00:00:00|South |\n",
      "|3       |38.888329|-77.220383|Fairfax     |VA   |81.0          |Overcast                    |0   |0       |0       |0   |0             |2017-09-26 00:00:00|South |\n",
      "|2       |38.837193|-77.44648 |Fairfax     |VA   |77.0          |Mostly Cloudy               |0   |0       |0       |0   |0             |2017-09-26 00:00:00|South |\n",
      "|3       |38.862522|-77.344803|Fairfax     |VA   |70.0          |Scattered Clouds            |0   |0       |0       |0   |0             |2017-09-27 00:00:00|South |\n",
      "|3       |38.836975|-77.446991|Fairfax     |VA   |69.1          |Clear                       |0   |0       |0       |0   |0             |2017-09-27 00:00:00|South |\n",
      "|3       |38.778362|-77.180244|Fairfax     |VA   |71.6          |Scattered Clouds            |0   |0       |0       |0   |0             |2017-09-27 00:00:00|South |\n",
      "|3       |38.834156|-77.217926|Fairfax     |VA   |71.6          |Scattered Clouds            |0   |0       |0       |0   |0             |2017-09-27 00:00:00|South |\n",
      "|2       |38.760361|-77.095459|Fairfax     |VA   |71.6          |Scattered Clouds            |0   |0       |1       |0   |0             |2017-09-27 00:00:00|South |\n",
      "|2       |38.923981|-77.210503|Fairfax     |VA   |73.9          |Mostly Cloudy               |0   |0       |0       |0   |1             |2017-09-27 00:00:00|South |\n",
      "|2       |38.838783|-77.431381|Fairfax     |VA   |71.1          |Partly Cloudy               |0   |1       |0       |0   |0             |2017-09-27 00:00:00|South |\n",
      "|3       |38.876598|-77.27668 |Fairfax     |VA   |72.5          |Overcast                    |0   |0       |0       |0   |0             |2017-09-27 00:00:00|South |\n",
      "|2       |38.828552|-77.366844|Fairfax City|VA   |71.1          |Partly Cloudy               |0   |0       |0       |0   |0             |2017-09-27 00:00:00|South |\n",
      "|3       |38.802013|-77.163628|Fairfax     |VA   |75.0          |Scattered Clouds            |0   |0       |0       |0   |0             |2017-09-27 00:00:00|South |\n",
      "|3       |38.811226|-77.218185|Fairfax     |VA   |86.4          |Scattered Clouds            |0   |0       |0       |0   |0             |2017-09-27 00:00:00|South |\n",
      "|3       |38.810978|-77.21743 |Fairfax     |VA   |86.4          |Scattered Clouds            |0   |0       |0       |0   |0             |2017-09-27 00:00:00|South |\n",
      "|3       |38.931473|-77.21154 |Fairfax     |VA   |90.0          |Scattered Clouds            |0   |0       |0       |0   |0             |2017-09-27 00:00:00|South |\n",
      "|3       |38.834152|-77.218185|Fairfax     |VA   |88.5          |Partly Cloudy               |0   |0       |0       |0   |0             |2017-09-27 00:00:00|South |\n",
      "|3       |38.740456|-77.189842|Fairfax     |VA   |88.5          |Partly Cloudy               |0   |1       |0       |0   |0             |2017-09-27 00:00:00|South |\n",
      "|3       |38.740112|-77.190331|Fairfax     |VA   |88.5          |Partly Cloudy               |0   |0       |0       |0   |0             |2017-09-27 00:00:00|South |\n",
      "|3       |38.930798|-77.211357|Fairfax     |VA   |91.0          |Scattered Clouds            |0   |0       |0       |0   |0             |2017-09-27 00:00:00|South |\n",
      "|3       |38.705055|-77.224113|Fairfax     |VA   |89.8          |Scattered Clouds            |0   |0       |0       |0   |0             |2017-09-27 00:00:00|South |\n",
      "|3       |38.837238|-77.447182|Fairfax     |VA   |89.1          |Partly Cloudy               |0   |1       |0       |0   |0             |2017-09-27 00:00:00|South |\n",
      "|3       |38.796246|-77.135559|Fairfax     |VA   |84.0          |Clear                       |0   |1       |0       |0   |0             |2017-09-27 00:00:00|South |\n",
      "|3       |38.854092|-77.22039 |Fairfax     |VA   |77.0          |Clear                       |0   |0       |0       |0   |1             |2017-09-27 00:00:00|South |\n",
      "|3       |38.954506|-77.193832|Fairfax     |VA   |78.1          |Clear                       |0   |0       |0       |0   |0             |2017-09-28 00:00:00|South |\n",
      "|3       |38.938374|-77.206482|Fairfax     |VA   |79.0          |Partly Cloudy               |0   |0       |0       |0   |0             |2017-09-28 00:00:00|South |\n",
      "|2       |38.846413|-77.432114|Fairfax     |VA   |75.9          |Clear                       |0   |0       |0       |0   |0             |2017-09-28 00:00:00|South |\n",
      "|3       |38.834152|-77.218185|Fairfax     |VA   |77.9          |Clear                       |0   |0       |0       |0   |0             |2017-09-28 00:00:00|South |\n",
      "|3       |38.865669|-77.219917|Fairfax     |VA   |79.0          |Partly Cloudy               |0   |0       |0       |0   |0             |2017-09-28 00:00:00|South |\n",
      "|2       |38.846703|-77.432205|Fairfax     |VA   |75.9          |Clear                       |0   |1       |0       |0   |0             |2017-09-28 00:00:00|South |\n",
      "|3       |38.877411|-77.274788|Fairfax     |VA   |79.2          |Clear                       |0   |0       |0       |0   |0             |2017-09-28 00:00:00|South |\n",
      "|2       |38.877583|-77.388458|Fairfax     |VA   |77.0          |Clear                       |0   |0       |0       |0   |1             |2017-09-28 00:00:00|South |\n",
      "|2       |38.877583|-77.388458|Fairfax     |VA   |78.1          |Clear                       |0   |0       |0       |0   |1             |2017-09-28 00:00:00|South |\n",
      "|2       |38.790066|-77.108696|Fairfax     |VA   |80.2          |Clear                       |0   |0       |0       |0   |0             |2017-09-28 00:00:00|South |\n",
      "|3       |38.705372|-77.224007|Fairfax     |VA   |79.5          |Clear                       |0   |0       |0       |0   |0             |2017-09-28 00:00:00|South |\n",
      "|3       |38.868732|-77.308899|Fairfax     |VA   |79.0          |Partly Cloudy               |0   |0       |0       |0   |0             |2017-09-28 00:00:00|South |\n",
      "|3       |38.910267|-77.21804 |Fairfax     |VA   |80.1          |Clear                       |0   |1       |0       |0   |0             |2017-09-28 00:00:00|South |\n",
      "|3       |38.854675|-77.388336|Fairfax     |VA   |78.1          |Partly Cloudy               |0   |0       |0       |0   |0             |2017-09-28 00:00:00|South |\n",
      "|3       |38.77441 |-77.182129|Fairfax     |VA   |79.0          |Clear                       |0   |1       |0       |0   |0             |2017-09-28 00:00:00|South |\n",
      "|3       |38.886051|-77.222115|Fairfax     |VA   |79.0          |Partly Cloudy               |0   |0       |0       |0   |0             |2017-09-28 00:00:00|South |\n",
      "|3       |38.898964|-77.197113|Fairfax     |VA   |79.0          |Partly Cloudy               |0   |0       |0       |0   |0             |2017-09-28 00:00:00|South |\n",
      "|3       |38.86573 |-77.220398|Fairfax     |VA   |75.9          |Partly Cloudy               |0   |0       |0       |0   |0             |2017-09-28 00:00:00|South |\n",
      "|3       |38.931667|-77.211426|Fairfax     |VA   |75.9          |Partly Cloudy               |0   |0       |0       |0   |0             |2017-09-28 00:00:00|South |\n",
      "|3       |38.796246|-77.135559|Fairfax     |VA   |75.2          |Clear                       |0   |1       |0       |0   |0             |2017-09-28 00:00:00|South |\n",
      "|3       |38.837124|-77.446754|Fairfax     |VA   |68.0          |Clear                       |0   |0       |0       |0   |0             |2017-09-28 00:00:00|South |\n",
      "|3       |38.866173|-77.220253|Fairfax     |VA   |72.0          |Clear                       |0   |0       |0       |0   |0             |2017-09-28 00:00:00|South |\n",
      "|3       |38.676231|-77.23661 |Fairfax     |VA   |71.1          |Clear                       |0   |0       |0       |0   |0             |2017-09-28 00:00:00|South |\n",
      "|3       |38.868881|-77.309067|Fairfax     |VA   |68.0          |Partly Cloudy               |0   |0       |0       |0   |0             |2017-09-28 00:00:00|South |\n",
      "|3       |38.837128|-77.447281|Fairfax     |VA   |57.0          |Scattered Clouds            |0   |1       |0       |0   |0             |2017-09-29 00:00:00|South |\n",
      "|3       |38.741138|-77.189415|Fairfax     |VA   |51.8          |Clear                       |0   |0       |0       |0   |0             |2017-09-29 00:00:00|South |\n",
      "|2       |38.846703|-77.432205|Fairfax     |VA   |53.1          |Clear                       |0   |1       |0       |0   |0             |2017-09-29 00:00:00|South |\n",
      "|3       |38.878635|-77.266212|Fairfax     |VA   |50.9          |Clear                       |0   |0       |0       |0   |0             |2017-09-29 00:00:00|South |\n",
      "|2       |38.870277|-77.15435 |Fairfax     |VA   |60.1          |Partly Cloudy               |0   |0       |1       |0   |1             |2017-09-29 00:00:00|South |\n",
      "|3       |38.885735|-77.222885|Fairfax     |VA   |60.1          |Partly Cloudy               |0   |0       |0       |0   |0             |2017-09-29 00:00:00|South |\n",
      "|3       |38.862179|-77.346558|Fairfax     |VA   |59.0          |Partly Cloudy               |0   |0       |0       |0   |0             |2017-09-29 00:00:00|South |\n",
      "|3       |38.676231|-77.23661 |Fairfax     |VA   |66.6          |Clear                       |0   |0       |0       |0   |0             |2017-09-29 00:00:00|South |\n",
      "|3       |38.877411|-77.274788|Fairfax     |VA   |70.7          |Clear                       |0   |0       |0       |0   |0             |2017-09-29 00:00:00|South |\n",
      "|3       |38.811226|-77.218185|Fairfax     |VA   |71.6          |Light Drizzle               |0   |0       |0       |0   |0             |2017-07-28 00:00:00|South |\n",
      "|3       |38.837128|-77.447281|Fairfax     |VA   |64.9          |Partly Cloudy               |0   |1       |0       |0   |0             |2017-08-01 00:00:00|South |\n",
      "|3       |38.931885|-77.211311|Fairfax     |VA   |73.0          |Partly Cloudy               |0   |1       |0       |0   |0             |2017-08-01 00:00:00|South |\n",
      "|3       |38.876938|-77.275108|Fairfax     |VA   |68.4          |Clear                       |0   |0       |0       |0   |0             |2017-08-01 00:00:00|South |\n",
      "|2       |38.897533|-77.439095|Fairfax     |VA   |75.9          |Partly Cloudy               |0   |0       |0       |0   |0             |2017-08-01 00:00:00|South |\n",
      "|3       |38.963715|-77.182831|Fairfax     |VA   |80.1          |Partly Cloudy               |0   |0       |0       |0   |0             |2017-08-01 00:00:00|South |\n",
      "|2       |38.892155|-77.442711|Fairfax     |VA   |75.9          |Partly Cloudy               |0   |1       |0       |0   |0             |2017-08-01 00:00:00|South |\n",
      "|3       |38.801548|-77.112083|Fairfax     |VA   |88.7          |Clear                       |0   |0       |0       |0   |1             |2017-08-01 00:00:00|South |\n",
      "|3       |38.705372|-77.224007|Fairfax     |VA   |88.7          |Clear                       |0   |0       |0       |0   |0             |2017-08-01 00:00:00|South |\n",
      "|3       |38.910587|-77.218048|Fairfax     |VA   |78.1          |Mostly Cloudy               |0   |0       |0       |0   |0             |2017-08-01 00:00:00|South |\n",
      "|3       |38.885567|-77.221962|Fairfax     |VA   |75.0          |Mostly Cloudy               |0   |0       |0       |0   |0             |2017-08-01 00:00:00|South |\n",
      "|3       |38.86573 |-77.220398|Fairfax     |VA   |78.1          |Mostly Cloudy               |0   |0       |0       |0   |0             |2017-08-01 00:00:00|South |\n",
      "|3       |38.867844|-77.219337|Fairfax     |VA   |78.1          |Mostly Cloudy               |0   |0       |0       |0   |0             |2017-08-01 00:00:00|South |\n",
      "|3       |38.910374|-77.21624 |Fairfax     |VA   |73.9          |Mostly Cloudy               |0   |0       |0       |0   |0             |2017-08-02 00:00:00|South |\n",
      "|3       |38.878551|-77.262306|Fairfax     |VA   |68.2          |Partly Cloudy               |0   |0       |0       |0   |0             |2017-08-02 00:00:00|South |\n",
      "|3       |38.837769|-77.446289|Fairfax     |VA   |69.1          |Mostly Cloudy               |0   |0       |0       |0   |0             |2017-08-02 00:00:00|South |\n",
      "|2       |38.845367|-77.140594|Fairfax     |VA   |73.9          |Mostly Cloudy               |0   |0       |0       |0   |0             |2017-08-02 00:00:00|South |\n",
      "|3       |38.954506|-77.193832|Fairfax     |VA   |75.9          |Mostly Cloudy               |0   |0       |0       |0   |0             |2017-08-02 00:00:00|South |\n",
      "|2       |38.787544|-77.302322|Fairfax     |VA   |70.9          |Clear                       |0   |0       |1       |0   |1             |2017-08-02 00:00:00|South |\n",
      "|3       |38.921398|-77.216026|Fairfax     |VA   |77.0          |Mostly Cloudy               |0   |0       |0       |0   |0             |2017-08-02 00:00:00|South |\n",
      "|3       |38.846703|-77.432213|Fairfax     |VA   |77.0          |Mostly Cloudy               |0   |1       |0       |0   |0             |2017-08-02 00:00:00|South |\n",
      "|2       |38.948395|-77.376701|Fairfax     |VA   |80.1          |Mostly Cloudy               |0   |0       |1       |0   |1             |2017-08-02 00:00:00|South |\n",
      "|3       |38.868732|-77.308899|Fairfax     |VA   |86.0          |Mostly Cloudy               |0   |0       |0       |0   |0             |2017-08-02 00:00:00|South |\n",
      "|3       |38.846603|-77.432701|Fairfax     |VA   |88.0          |Mostly Cloudy               |0   |0       |0       |0   |0             |2017-08-02 00:00:00|South |\n",
      "|3       |38.705372|-77.224007|Fairfax     |VA   |85.8          |Clear                       |0   |0       |0       |0   |0             |2017-08-02 00:00:00|South |\n",
      "|3       |38.77441 |-77.182129|Fairfax     |VA   |85.8          |Clear                       |0   |1       |0       |0   |0             |2017-08-02 00:00:00|South |\n",
      "|3       |38.846554|-77.432938|Fairfax     |VA   |84.9          |Mostly Cloudy               |0   |0       |0       |0   |0             |2017-08-02 00:00:00|South |\n",
      "|3       |38.854046|-77.391792|Fairfax     |VA   |82.9          |Mostly Cloudy               |0   |0       |0       |0   |0             |2017-08-02 00:00:00|South |\n",
      "|2       |38.768185|-77.082664|Fairfax     |VA   |78.3          |Mostly Cloudy               |0   |0       |1       |0   |0             |2017-08-02 00:00:00|South |\n",
      "|3       |38.811157|-77.217941|Fairfax     |VA   |75.0          |Clear                       |0   |0       |0       |0   |0             |2017-08-02 00:00:00|South |\n",
      "|3       |38.796181|-77.137207|Fairfax     |VA   |68.2          |Clear                       |0   |0       |0       |0   |0             |2017-08-03 00:00:00|South |\n",
      "|3       |38.884693|-77.223129|Fairfax     |VA   |72.0          |Partly Cloudy               |0   |0       |0       |0   |0             |2017-08-03 00:00:00|South |\n",
      "|3       |38.876431|-77.277321|Fairfax     |VA   |73.9          |Clear                       |0   |0       |0       |0   |0             |2017-08-03 00:00:00|South |\n",
      "|3       |38.837128|-77.447281|Fairfax     |VA   |73.9          |Scattered Clouds            |0   |1       |0       |0   |0             |2017-08-03 00:00:00|South |\n",
      "|3       |38.868973|-77.307579|Fairfax     |VA   |73.9          |Scattered Clouds            |0   |0       |0       |0   |0             |2017-08-03 00:00:00|South |\n",
      "|3       |38.884647|-77.22245 |Fairfax     |VA   |73.9          |Scattered Clouds            |0   |0       |0       |0   |0             |2017-08-03 00:00:00|South |\n",
      "|3       |38.740456|-77.189842|Fairfax     |VA   |85.6          |Clear                       |0   |1       |0       |0   |0             |2017-08-03 00:00:00|South |\n",
      "|3       |38.834152|-77.218185|Fairfax     |VA   |85.6          |Clear                       |0   |0       |0       |0   |0             |2017-08-03 00:00:00|South |\n",
      "|3       |38.740456|-77.189842|Fairfax     |VA   |88.9          |Partly Cloudy               |0   |1       |0       |0   |0             |2017-08-03 00:00:00|South |\n",
      "|3       |38.800213|-77.077843|Fairfax     |VA   |89.1          |Scattered Clouds            |0   |0       |0       |0   |0             |2017-08-03 00:00:00|South |\n",
      "|3       |38.796284|-77.13517 |Fairfax     |VA   |87.3          |Clear                       |0   |0       |0       |0   |0             |2017-08-03 00:00:00|South |\n",
      "|3       |38.811226|-77.218185|Fairfax     |VA   |82.2          |Clear                       |0   |0       |0       |0   |0             |2017-08-03 00:00:00|South |\n",
      "|2       |38.846161|-77.202995|Fairfax     |VA   |82.2          |Clear                       |0   |0       |1       |0   |1             |2017-08-03 00:00:00|South |\n",
      "|3       |38.886051|-77.222115|Fairfax     |VA   |75.0          |Scattered Clouds            |0   |0       |0       |0   |0             |2017-08-03 00:00:00|South |\n",
      "|3       |38.931473|-77.21154 |Fairfax     |VA   |75.0          |Scattered Clouds            |0   |0       |0       |0   |0             |2017-08-04 00:00:00|South |\n",
      "|3       |38.834152|-77.218185|Fairfax     |VA   |77.7          |Clear                       |0   |0       |0       |0   |0             |2017-08-04 00:00:00|South |\n",
      "|3       |38.862522|-77.344803|Fairfax     |VA   |73.9          |Partly Cloudy               |0   |0       |0       |0   |0             |2017-08-04 00:00:00|South |\n",
      "|3       |38.807014|-77.156723|Fairfax     |VA   |88.0          |Partly Cloudy               |0   |0       |0       |0   |0             |2017-08-04 00:00:00|South |\n",
      "|3       |38.883373|-77.227341|Fairfax     |VA   |86.0          |Scattered Clouds            |0   |0       |0       |0   |0             |2017-08-04 00:00:00|South |\n",
      "|3       |38.788452|-77.176453|Fairfax     |VA   |87.8          |Partly Cloudy               |0   |0       |0       |0   |0             |2017-08-04 00:00:00|South |\n",
      "|3       |38.878574|-77.267174|Fairfax     |VA   |86.0          |Scattered Clouds            |0   |0       |0       |0   |0             |2017-08-04 00:00:00|South |\n",
      "|3       |38.837547|-77.446884|Fairfax     |VA   |87.1          |Scattered Clouds            |0   |0       |0       |0   |0             |2017-08-04 00:00:00|South |\n",
      "|3       |38.77441 |-77.182129|Fairfax     |VA   |88.5          |Clear                       |0   |1       |0       |0   |0             |2017-08-04 00:00:00|South |\n",
      "|3       |38.854649|-77.388481|Fairfax     |VA   |86.0          |Clear                       |0   |0       |0       |0   |0             |2017-08-04 00:00:00|South |\n",
      "|3       |38.749302|-77.184998|Fairfax     |VA   |87.8          |Clear                       |0   |0       |0       |0   |0             |2017-08-04 00:00:00|South |\n",
      "|3       |38.796246|-77.135559|Fairfax     |VA   |87.8          |Clear                       |0   |1       |0       |0   |0             |2017-08-04 00:00:00|South |\n",
      "|3       |38.886051|-77.222115|Fairfax     |VA   |87.1          |Partly Cloudy               |0   |0       |0       |0   |0             |2017-08-04 00:00:00|South |\n",
      "|3       |38.736507|-77.192795|Fairfax     |VA   |86.2          |Clear                       |0   |1       |0       |0   |0             |2017-08-04 00:00:00|South |\n",
      "|3       |38.886051|-77.222115|Fairfax     |VA   |82.9          |Scattered Clouds            |0   |0       |0       |0   |0             |2017-08-04 00:00:00|South |\n",
      "|3       |38.910778|-77.217667|Fairfax     |VA   |82.9          |Scattered Clouds            |0   |0       |0       |0   |0             |2017-08-04 00:00:00|South |\n",
      "|3       |38.898964|-77.197113|Fairfax     |VA   |81.0          |Mostly Cloudy               |0   |0       |0       |0   |0             |2017-08-04 00:00:00|South |\n",
      "|2       |38.86063 |-77.378273|Fairfax     |VA   |71.1          |Mostly Cloudy               |0   |0       |0       |0   |1             |2017-08-05 00:00:00|South |\n",
      "|2       |39.014366|-77.371239|Fairfax     |VA   |68.0          |Overcast                    |0   |0       |1       |0   |1             |2017-08-07 00:00:00|South |\n",
      "|2       |39.014366|-77.371239|Fairfax     |VA   |68.0          |Overcast                    |0   |0       |1       |0   |1             |2017-08-07 00:00:00|South |\n",
      "|2       |38.920731|-77.21682 |Fairfax     |VA   |71.1          |Light Rain                  |0   |0       |0       |0   |0             |2017-08-07 00:00:00|South |\n",
      "|3       |38.811226|-77.217422|Fairfax     |VA   |69.8          |Overcast                    |0   |0       |0       |0   |0             |2017-08-07 00:00:00|South |\n",
      "|2       |38.937046|-77.185417|Fairfax     |VA   |71.1          |Heavy Rain                  |0   |0       |1       |0   |1             |2017-08-07 00:00:00|South |\n",
      "|3       |38.841183|-77.219788|Fairfax     |VA   |71.6          |Rain                        |0   |0       |0       |0   |0             |2017-08-07 00:00:00|South |\n",
      "|3       |38.800583|-77.115662|Fairfax     |VA   |69.8          |Rain                        |0   |0       |0       |0   |0             |2017-08-07 00:00:00|South |\n",
      "|3       |38.803291|-77.211746|Fairfax     |VA   |69.8          |Light Rain                  |0   |0       |0       |0   |0             |2017-08-07 00:00:00|South |\n",
      "|2       |38.868652|-77.146767|Fairfax     |VA   |72.0          |Rain                        |0   |0       |1       |0   |1             |2017-08-07 00:00:00|South |\n",
      "|2       |38.921005|-77.396889|Fairfax     |VA   |69.1          |Heavy Rain                  |0   |0       |1       |0   |1             |2017-08-07 00:00:00|South |\n",
      "|3       |38.828102|-77.455353|Fairfax     |VA   |72.0          |Light Rain                  |0   |0       |0       |0   |0             |2017-08-07 00:00:00|South |\n",
      "|3       |38.884075|-77.22702 |Fairfax     |VA   |70.0          |Light Rain                  |0   |0       |0       |0   |0             |2017-08-07 00:00:00|South |\n",
      "|3       |38.892414|-77.21627 |Fairfax     |VA   |72.0          |Heavy Rain                  |0   |0       |0       |0   |0             |2017-08-07 00:00:00|South |\n",
      "|2       |38.892471|-77.42691 |Fairfax     |VA   |72.0          |Overcast                    |0   |0       |0       |0   |1             |2017-08-07 00:00:00|South |\n",
      "|3       |38.705372|-77.224007|Fairfax     |VA   |71.6          |Overcast                    |0   |0       |0       |0   |0             |2017-08-07 00:00:00|South |\n",
      "|3       |38.802006|-77.163635|Fairfax     |VA   |73.0          |Overcast                    |0   |0       |0       |0   |0             |2017-08-07 00:00:00|South |\n",
      "|3       |38.886051|-77.222115|Fairfax     |VA   |73.0          |Overcast                    |0   |0       |0       |0   |0             |2017-08-07 00:00:00|South |\n",
      "|3       |38.877411|-77.274788|Fairfax     |VA   |73.4          |Overcast                    |0   |0       |0       |0   |0             |2017-08-07 00:00:00|South |\n",
      "|2       |38.953384|-77.426041|Fairfax     |VA   |72.0          |Overcast                    |0   |0       |1       |0   |1             |2017-08-07 00:00:00|South |\n",
      "|3       |38.837128|-77.447281|Fairfax     |VA   |72.0          |Overcast                    |0   |1       |0       |0   |0             |2017-08-07 00:00:00|South |\n",
      "|3       |38.910229|-77.217476|Fairfax     |VA   |73.0          |Overcast                    |0   |0       |0       |0   |0             |2017-08-07 00:00:00|South |\n",
      "|2       |38.91095 |-77.421661|Fairfax     |VA   |73.9          |Overcast                    |0   |0       |1       |0   |1             |2017-08-07 00:00:00|South |\n",
      "|2       |38.949123|-77.416336|Fairfax     |VA   |73.0          |Mostly Cloudy               |0   |0       |1       |0   |0             |2017-08-07 00:00:00|South |\n",
      "|3       |38.868816|-77.309448|Fairfax     |VA   |72.0          |Mostly Cloudy               |0   |0       |0       |0   |0             |2017-08-07 00:00:00|South |\n",
      "|3       |38.740005|-77.190399|Fairfax     |VA   |68.9          |Mostly Cloudy               |0   |0       |0       |0   |0             |2017-08-08 00:00:00|South |\n",
      "|2       |38.954506|-77.193832|Fairfax     |VA   |70.0          |Overcast                    |0   |0       |0       |0   |0             |2017-08-08 00:00:00|South |\n",
      "|2       |38.963589|-77.157722|Fairfax     |VA   |70.0          |Overcast                    |0   |0       |0       |0   |0             |2017-08-08 00:00:00|South |\n",
      "|3       |38.809875|-77.218666|Fairfax     |VA   |68.4          |Clear                       |0   |0       |0       |0   |0             |2017-08-08 00:00:00|South |\n",
      "|3       |38.834152|-77.218185|Fairfax     |VA   |68.4          |Clear                       |0   |0       |0       |0   |0             |2017-08-08 00:00:00|South |\n",
      "|2       |38.963715|-77.182831|Fairfax     |VA   |70.0          |Overcast                    |0   |0       |0       |0   |0             |2017-08-08 00:00:00|South |\n",
      "|3       |38.833683|-77.217804|Fairfax     |VA   |68.4          |Clear                       |0   |0       |0       |0   |0             |2017-08-08 00:00:00|South |\n",
      "|3       |38.832909|-77.218025|Fairfax     |VA   |71.8          |Clear                       |0   |0       |0       |0   |0             |2017-08-08 00:00:00|South |\n",
      "|3       |38.862522|-77.344803|Fairfax     |VA   |77.0          |Mostly Cloudy               |0   |0       |0       |0   |0             |2017-08-08 00:00:00|South |\n",
      "|3       |38.877411|-77.274788|Fairfax     |VA   |79.2          |Scattered Clouds            |0   |0       |0       |0   |0             |2017-08-08 00:00:00|South |\n",
      "|3       |38.749302|-77.184998|Fairfax     |VA   |79.0          |Mostly Cloudy               |0   |0       |0       |0   |0             |2017-08-08 00:00:00|South |\n",
      "|3       |38.676231|-77.23661 |Fairfax     |VA   |79.0          |Mostly Cloudy               |0   |0       |0       |0   |0             |2017-08-08 00:00:00|South |\n",
      "|3       |38.705372|-77.224007|Fairfax     |VA   |79.0          |Mostly Cloudy               |0   |0       |0       |0   |0             |2017-08-08 00:00:00|South |\n",
      "|2       |38.923847|-77.416824|Fairfax     |VA   |79.0          |Partly Cloudy               |0   |0       |1       |0   |1             |2017-08-08 00:00:00|South |\n",
      "|3       |38.802006|-77.163635|Fairfax     |VA   |81.0          |Mostly Cloudy               |0   |0       |0       |0   |0             |2017-08-08 00:00:00|South |\n",
      "|3       |38.740456|-77.189842|Fairfax     |VA   |77.4          |Clear                       |0   |1       |0       |0   |0             |2017-08-08 00:00:00|South |\n",
      "|3       |38.91074 |-77.218048|Fairfax     |VA   |79.0          |Scattered Clouds            |0   |0       |0       |0   |0             |2017-08-08 00:00:00|South |\n",
      "|3       |38.877281|-77.275322|Fairfax     |VA   |77.4          |Clear                       |0   |0       |0       |0   |0             |2017-08-08 00:00:00|South |\n",
      "|2       |38.820831|-77.155777|Fairfax     |VA   |78.1          |Scattered Clouds            |0   |0       |0       |0   |0             |2017-08-08 00:00:00|South |\n",
      "|2       |38.851364|-77.213982|Fairfax     |VA   |67.5          |Clear                       |0   |0       |1       |0   |0             |2017-08-08 00:00:00|South |\n",
      "|2       |38.838531|-77.251312|Fairfax     |VA   |65.5          |Clear                       |0   |0       |0       |0   |1             |2017-08-08 00:00:00|South |\n",
      "|3       |38.845573|-77.430054|Fairfax     |VA   |57.0          |Partly Cloudy               |0   |0       |0       |0   |0             |2017-08-09 00:00:00|South |\n",
      "|3       |38.921806|-77.21566 |Fairfax     |VA   |69.1          |Partly Cloudy               |0   |1       |0       |0   |0             |2017-08-09 00:00:00|South |\n",
      "|3       |38.807487|-77.215263|Fairfax     |VA   |76.1          |Clear                       |0   |0       |0       |0   |0             |2017-08-09 00:00:00|South |\n",
      "|3       |38.878574|-77.267174|Fairfax     |VA   |80.1          |Partly Cloudy               |0   |0       |0       |0   |0             |2017-08-09 00:00:00|South |\n",
      "|3       |38.749302|-77.184998|Fairfax     |VA   |79.9          |Partly Cloudy               |0   |0       |0       |0   |0             |2017-08-09 00:00:00|South |\n",
      "|3       |38.740753|-77.189659|Fairfax     |VA   |83.1          |Mostly Cloudy               |0   |1       |0       |0   |0             |2017-08-09 00:00:00|South |\n",
      "|3       |38.868732|-77.308899|Fairfax     |VA   |66.0          |Mostly Cloudy               |0   |0       |0       |0   |0             |2017-08-09 00:00:00|South |\n",
      "|3       |38.802006|-77.163635|Fairfax     |VA   |70.0          |Mostly Cloudy               |0   |0       |0       |0   |0             |2017-08-10 00:00:00|South |\n",
      "|3       |38.847672|-77.434647|Fairfax     |VA   |64.9          |Scattered Clouds            |0   |0       |0       |0   |0             |2017-08-10 00:00:00|South |\n",
      "|3       |38.837128|-77.447281|Fairfax     |VA   |64.9          |Scattered Clouds            |0   |1       |0       |0   |0             |2017-08-10 00:00:00|South |\n",
      "|3       |38.886051|-77.222115|Fairfax     |VA   |72.0          |Scattered Clouds            |0   |0       |0       |0   |0             |2017-08-10 00:00:00|South |\n",
      "|3       |38.92197 |-77.216408|Fairfax     |VA   |80.1          |Partly Cloudy               |0   |0       |0       |0   |0             |2017-08-10 00:00:00|South |\n",
      "|2       |38.811256|-77.224625|Fairfax     |VA   |80.1          |Partly Cloudy               |0   |0       |1       |0   |1             |2017-08-10 00:00:00|South |\n",
      "|3       |38.836903|-77.447479|Fairfax     |VA   |71.1          |Clear                       |0   |1       |0       |0   |0             |2017-08-10 00:00:00|South |\n",
      "|3       |38.878284|-77.266571|Fairfax     |VA   |71.6          |Mostly Cloudy               |0   |0       |0       |0   |0             |2017-08-11 00:00:00|South |\n",
      "|3       |38.862019|-77.347496|Fairfax     |VA   |73.0          |Mostly Cloudy               |0   |0       |0       |0   |0             |2017-08-11 00:00:00|South |\n",
      "|3       |38.811226|-77.218185|Fairfax     |VA   |80.8          |Scattered Clouds            |0   |0       |0       |0   |0             |2017-08-11 00:00:00|South |\n",
      "|3       |38.868954|-77.308662|Fairfax     |VA   |82.9          |Scattered Clouds            |0   |0       |0       |0   |0             |2017-08-11 00:00:00|South |\n",
      "|3       |38.676231|-77.23661 |Fairfax     |VA   |80.4          |Scattered Clouds            |0   |0       |0       |0   |0             |2017-08-11 00:00:00|South |\n",
      "|2       |38.971539|-77.241959|Fairfax     |VA   |82.0          |Overcast                    |0   |0       |0       |0   |0             |2017-08-11 00:00:00|South |\n",
      "|2       |38.973927|-77.303871|Fairfax     |VA   |79.0          |Overcast                    |0   |0       |0       |0   |1             |2017-08-11 00:00:00|South |\n",
      "|3       |38.814846|-77.220688|Fairfax     |VA   |78.4          |Clear                       |0   |0       |0       |0   |0             |2017-08-11 00:00:00|South |\n",
      "|2       |38.708714|-77.261154|Fairfax     |VA   |77.0          |Light Rain                  |0   |0       |0       |0   |1             |2017-08-11 00:00:00|South |\n",
      "|3       |38.740456|-77.189842|Fairfax     |VA   |77.0          |Light Thunderstorms and Rain|0   |1       |0       |0   |0             |2017-08-11 00:00:00|South |\n",
      "|3       |38.86573 |-77.220398|Fairfax     |VA   |77.0          |Light Thunderstorms and Rain|0   |0       |0       |0   |0             |2017-08-11 00:00:00|South |\n",
      "|3       |38.868732|-77.308899|Fairfax     |VA   |71.1          |Thunderstorms and Rain      |0   |0       |0       |0   |0             |2017-08-11 00:00:00|South |\n",
      "|3       |38.963715|-77.182831|Fairfax     |VA   |75.0          |Light Thunderstorms and Rain|0   |0       |0       |0   |0             |2017-08-11 00:00:00|South |\n",
      "|3       |38.834152|-77.218185|Fairfax     |VA   |71.6          |Heavy Thunderstorms and Rain|0   |0       |0       |0   |0             |2017-08-11 00:00:00|South |\n",
      "|3       |38.811226|-77.218185|Fairfax     |VA   |71.6          |Heavy Rain                  |0   |0       |0       |0   |0             |2017-08-11 00:00:00|South |\n",
      "|2       |38.704975|-77.210716|Fairfax     |VA   |71.6          |Heavy Rain                  |0   |0       |1       |0   |1             |2017-08-11 00:00:00|South |\n",
      "|3       |38.705372|-77.224007|Fairfax     |VA   |71.6          |Light Rain                  |0   |0       |0       |0   |0             |2017-08-11 00:00:00|South |\n",
      "|3       |38.79657 |-77.134941|Fairfax     |VA   |71.6          |Heavy Rain                  |0   |0       |0       |0   |0             |2017-08-11 00:00:00|South |\n",
      "|3       |38.740456|-77.189842|Fairfax     |VA   |82.6          |Partly Cloudy               |0   |1       |0       |0   |0             |2017-08-12 00:00:00|South |\n",
      "|3       |38.838661|-77.43679 |Fairfax     |VA   |77.0          |Clear                       |0   |0       |1       |0   |1             |2017-08-13 00:00:00|South |\n",
      "|3       |38.762798|-77.084213|Fairfax     |VA   |76.5          |Clear                       |0   |0       |0       |0   |0             |2017-08-13 00:00:00|South |\n",
      "|3       |38.819607|-77.150177|Fairfax     |VA   |80.1          |Mostly Cloudy               |0   |0       |0       |0   |0             |2017-08-13 00:00:00|South |\n",
      "|3       |38.768185|-77.082664|Fairfax     |VA   |79.7          |Clear                       |0   |0       |1       |0   |0             |2017-08-13 00:00:00|South |\n",
      "|2       |38.86298 |-77.382065|Fairfax     |VA   |79.0          |Mostly Cloudy               |0   |0       |0       |0   |0             |2017-08-13 00:00:00|South |\n",
      "|3       |38.877411|-77.274788|Fairfax     |VA   |72.1          |Partly Cloudy               |0   |0       |0       |0   |0             |2017-08-14 00:00:00|South |\n",
      "|3       |38.862522|-77.344803|Fairfax     |VA   |75.0          |Light Rain                  |0   |0       |0       |0   |0             |2017-08-14 00:00:00|South |\n",
      "|3       |38.705372|-77.224007|Fairfax     |VA   |77.0          |Light Rain                  |0   |0       |0       |0   |0             |2017-08-14 00:00:00|South |\n",
      "|3       |38.882713|-77.229507|Fairfax     |VA   |77.0          |Light Rain                  |0   |0       |0       |0   |0             |2017-08-14 00:00:00|South |\n",
      "|3       |38.707916|-77.223061|Fairfax     |VA   |77.2          |Light Rain                  |0   |1       |0       |0   |0             |2017-08-14 00:00:00|South |\n",
      "|2       |38.892471|-77.42691 |Fairfax     |VA   |75.9          |Light Rain                  |0   |0       |0       |0   |1             |2017-08-14 00:00:00|South |\n",
      "|2       |38.865921|-77.206795|Fairfax     |VA   |78.1          |Overcast                    |0   |0       |0       |0   |0             |2017-08-14 00:00:00|South |\n",
      "|2       |38.833778|-77.437088|Fairfax     |VA   |75.9          |Overcast                    |0   |0       |0       |0   |0             |2017-08-14 00:00:00|South |\n",
      "|3       |38.836895|-77.447067|Fairfax     |VA   |71.6          |Mostly Cloudy               |0   |0       |0       |0   |0             |2017-08-15 00:00:00|South |\n",
      "|3       |38.778732|-77.180733|Fairfax     |VA   |71.6          |Mostly Cloudy               |0   |0       |0       |0   |0             |2017-08-15 00:00:00|South |\n",
      "|3       |38.705372|-77.224007|Fairfax     |VA   |73.4          |Light Rain                  |0   |0       |0       |0   |0             |2017-08-15 00:00:00|South |\n",
      "|2       |38.723671|-77.090408|Fairfax     |VA   |73.4          |Light Rain                  |0   |0       |0       |0   |0             |2017-08-15 00:00:00|South |\n",
      "|3       |38.910229|-77.217476|Fairfax     |VA   |75.9          |Light Rain                  |0   |0       |0       |0   |0             |2017-08-15 00:00:00|South |\n",
      "|3       |38.886524|-77.220924|Fairfax     |VA   |75.9          |Light Rain                  |0   |0       |0       |0   |0             |2017-08-15 00:00:00|South |\n",
      "|3       |38.836761|-77.447182|Fairfax     |VA   |72.0          |Light Rain                  |0   |0       |0       |0   |0             |2017-08-15 00:00:00|South |\n",
      "|3       |38.878574|-77.267174|Fairfax     |VA   |75.0          |Overcast                    |0   |0       |0       |0   |0             |2017-08-15 00:00:00|South |\n",
      "|3       |38.740456|-77.189842|Fairfax     |VA   |80.6          |Mostly Cloudy               |0   |1       |0       |0   |0             |2017-08-15 00:00:00|South |\n",
      "|3       |38.837128|-77.447281|Fairfax     |VA   |79.0          |Mostly Cloudy               |0   |1       |0       |0   |0             |2017-08-15 00:00:00|South |\n",
      "|3       |38.901417|-77.188194|Fairfax     |VA   |80.1          |Overcast                    |0   |0       |0       |0   |0             |2017-08-15 00:00:00|South |\n",
      "|3       |38.846378|-77.429321|Fairfax     |VA   |73.0          |Partly Cloudy               |0   |0       |0       |0   |0             |2017-08-15 00:00:00|South |\n",
      "|3       |38.77441 |-77.182129|Fairfax     |VA   |73.4          |Mostly Cloudy               |0   |1       |0       |0   |0             |2017-08-15 00:00:00|South |\n",
      "|2       |38.915527|-77.22644 |Fairfax     |VA   |73.0          |Overcast                    |0   |0       |1       |0   |1             |2017-08-16 00:00:00|South |\n",
      "|3       |38.792519|-77.174553|Fairfax     |VA   |68.0          |Mostly Cloudy               |0   |0       |0       |0   |0             |2017-08-16 00:00:00|South |\n",
      "|3       |38.834152|-77.218185|Fairfax     |VA   |68.0          |Mostly Cloudy               |0   |0       |0       |0   |0             |2017-08-16 00:00:00|South |\n",
      "|3       |38.704391|-77.223892|Fairfax     |VA   |69.6          |Fog                         |0   |0       |0       |0   |0             |2017-08-16 00:00:00|South |\n",
      "|3       |38.705948|-77.223396|Fairfax     |VA   |69.6          |Fog                         |0   |0       |0       |0   |0             |2017-08-16 00:00:00|South |\n",
      "|3       |38.861607|-77.348549|Fairfax     |VA   |70.0          |Patches of Fog              |0   |1       |0       |0   |0             |2017-08-16 00:00:00|South |\n",
      "|3       |38.705372|-77.224007|Fairfax     |VA   |71.8          |Fog                         |0   |0       |0       |0   |0             |2017-08-16 00:00:00|South |\n",
      "|3       |38.886051|-77.222115|Fairfax     |VA   |88.0          |Mostly Cloudy               |0   |0       |0       |0   |0             |2017-08-16 00:00:00|South |\n",
      "|3       |38.931644|-77.211441|Fairfax     |VA   |89.1          |Scattered Clouds            |0   |0       |0       |0   |0             |2017-08-16 00:00:00|South |\n",
      "|2       |38.796455|-77.336647|Fairfax     |VA   |90.0          |Clear                       |0   |0       |1       |0   |1             |2017-08-16 00:00:00|South |\n",
      "|3       |38.854649|-77.388481|Fairfax     |VA   |88.0          |Scattered Clouds            |0   |0       |0       |0   |0             |2017-08-16 00:00:00|South |\n",
      "|3       |38.846703|-77.432205|Fairfax     |VA   |88.0          |Scattered Clouds            |0   |1       |0       |0   |0             |2017-08-16 00:00:00|South |\n",
      "|2       |38.865154|-77.25872 |Fairfax     |VA   |88.9          |Clear                       |0   |0       |1       |0   |1             |2017-08-16 00:00:00|South |\n",
      "|2       |38.82021 |-77.348961|Fairfax     |VA   |84.0          |Mostly Cloudy               |0   |0       |0       |0   |1             |2017-08-16 00:00:00|South |\n",
      "|3       |38.77441 |-77.182129|Fairfax     |VA   |79.2          |Mostly Cloudy               |0   |1       |0       |0   |0             |2017-08-16 00:00:00|South |\n",
      "|3       |38.963715|-77.182831|Fairfax     |VA   |86.0          |Mostly Cloudy               |0   |0       |0       |0   |0             |2017-08-16 00:00:00|South |\n",
      "|2       |38.789337|-77.330612|Fairfax     |VA   |71.6          |Partly Cloudy               |0   |0       |0       |0   |0             |2017-08-17 00:00:00|South |\n",
      "|3       |38.854748|-77.219879|Fairfax     |VA   |77.0          |Scattered Clouds            |0   |0       |0       |0   |0             |2017-08-17 00:00:00|South |\n",
      "|3       |38.868866|-77.308151|Fairfax     |VA   |70.0          |Scattered Clouds            |0   |0       |0       |0   |0             |2017-08-17 00:00:00|South |\n",
      "|3       |38.85358 |-77.219879|Fairfax     |VA   |71.4          |Scattered Clouds            |0   |0       |0       |0   |0             |2017-08-17 00:00:00|South |\n",
      "|2       |38.82951 |-77.19014 |Fairfax     |VA   |84.7          |Clear                       |0   |0       |0       |0   |1             |2017-08-17 00:00:00|South |\n",
      "|3       |38.862381|-77.345558|Fairfax     |VA   |84.0          |Mostly Cloudy               |0   |0       |0       |0   |0             |2017-08-17 00:00:00|South |\n",
      "|3       |38.676231|-77.23661 |Fairfax     |VA   |87.1          |Scattered Clouds            |0   |0       |0       |0   |0             |2017-08-17 00:00:00|South |\n",
      "|2       |38.714962|-77.164047|Fairfax     |VA   |86.0          |Mostly Cloudy               |0   |0       |1       |0   |0             |2017-08-17 00:00:00|South |\n",
      "|2       |38.95734 |-77.403618|Fairfax     |VA   |84.9          |Mostly Cloudy               |0   |0       |1       |0   |1             |2017-08-17 00:00:00|South |\n",
      "|3       |38.889805|-77.213013|Fairfax     |VA   |82.9          |Mostly Cloudy               |0   |1       |0       |0   |0             |2017-08-17 00:00:00|South |\n",
      "|3       |38.877411|-77.274788|Fairfax     |VA   |82.6          |Partly Cloudy               |0   |0       |0       |0   |0             |2017-08-17 00:00:00|South |\n",
      "|3       |38.901417|-77.188194|Fairfax     |VA   |84.9          |Scattered Clouds            |0   |0       |0       |0   |0             |2017-08-17 00:00:00|South |\n",
      "|3       |38.705372|-77.224007|Fairfax     |VA   |84.2          |Clear                       |0   |0       |0       |0   |0             |2017-08-17 00:00:00|South |\n",
      "|3       |38.910355|-77.217628|Fairfax     |VA   |87.1          |Mostly Cloudy               |0   |0       |0       |0   |0             |2017-08-17 00:00:00|South |\n",
      "|3       |38.931564|-77.210945|Fairfax     |VA   |87.1          |Mostly Cloudy               |0   |0       |0       |0   |0             |2017-08-17 00:00:00|South |\n",
      "|2       |38.866318|-77.194939|Fairfax     |VA   |84.0          |Scattered Clouds            |0   |0       |0       |0   |1             |2017-08-17 00:00:00|South |\n",
      "|3       |38.846703|-77.432205|Fairfax     |VA   |75.9          |Overcast                    |0   |1       |0       |0   |0             |2017-08-18 00:00:00|South |\n",
      "|3       |38.877411|-77.274788|Fairfax     |VA   |78.8          |Overcast                    |0   |0       |0       |0   |0             |2017-08-18 00:00:00|South |\n",
      "|3       |38.883102|-77.229446|Fairfax     |VA   |90.0          |Mostly Cloudy               |0   |0       |0       |0   |0             |2017-08-18 00:00:00|South |\n",
      "|3       |38.877411|-77.274788|Fairfax     |VA   |91.0          |Clear                       |0   |0       |0       |0   |0             |2017-08-18 00:00:00|South |\n",
      "|3       |38.802006|-77.163635|Fairfax     |VA   |90.0          |Mostly Cloudy               |0   |0       |0       |0   |0             |2017-08-18 00:00:00|South |\n",
      "|3       |38.862522|-77.344803|Fairfax     |VA   |91.0          |Mostly Cloudy               |0   |0       |0       |0   |0             |2017-08-18 00:00:00|South |\n",
      "|3       |38.811043|-77.21785 |Fairfax     |VA   |84.2          |Thunderstorm                |0   |0       |0       |0   |0             |2017-08-18 00:00:00|South |\n",
      "|3       |38.963715|-77.182831|Fairfax     |VA   |80.1          |Light Thunderstorms and Rain|0   |0       |0       |0   |0             |2017-08-18 00:00:00|South |\n",
      "|3       |38.740456|-77.189842|Fairfax     |VA   |78.8          |Scattered Clouds            |0   |1       |0       |0   |0             |2017-08-18 00:00:00|South |\n",
      "|3       |38.883068|-77.229546|Fairfax     |VA   |77.0          |Mostly Cloudy               |0   |0       |0       |0   |0             |2017-08-18 00:00:00|South |\n",
      "|3       |38.854649|-77.388481|Fairfax     |VA   |77.0          |Mostly Cloudy               |0   |0       |0       |0   |0             |2017-08-18 00:00:00|South |\n",
      "|3       |38.954506|-77.193832|Fairfax     |VA   |84.0          |Scattered Clouds            |0   |0       |0       |0   |0             |2017-08-19 00:00:00|South |\n",
      "|3       |38.868732|-77.308899|Fairfax     |VA   |68.0          |Partly Cloudy               |0   |0       |0       |0   |0             |2017-08-20 00:00:00|South |\n",
      "|3       |38.7411  |-77.189438|Fairfax     |VA   |84.9          |Clear                       |0   |0       |0       |0   |0             |2017-08-20 00:00:00|South |\n",
      "|3       |38.749302|-77.184998|Fairfax     |VA   |86.7          |Clear                       |0   |0       |0       |0   |0             |2017-08-20 00:00:00|South |\n",
      "|3       |38.705372|-77.224007|Fairfax     |VA   |86.7          |Clear                       |0   |0       |0       |0   |0             |2017-08-20 00:00:00|South |\n",
      "|2       |38.958038|-77.274651|Fairfax     |VA   |82.0          |Mostly Cloudy               |0   |0       |1       |0   |1             |2017-08-21 00:00:00|South |\n",
      "|2       |38.865753|-77.150826|Fairfax     |VA   |89.1          |Scattered Clouds            |0   |0       |1       |0   |1             |2017-08-21 00:00:00|South |\n",
      "|2       |38.868652|-77.146767|Fairfax     |VA   |89.1          |Scattered Clouds            |0   |0       |1       |0   |1             |2017-08-21 00:00:00|South |\n",
      "|2       |38.799763|-77.185165|Fairfax     |VA   |85.1          |Scattered Clouds            |0   |0       |0       |0   |1             |2017-08-21 00:00:00|South |\n",
      "|3       |38.868732|-77.308899|Fairfax     |VA   |86.0          |Scattered Clouds            |0   |0       |0       |0   |0             |2017-08-21 00:00:00|South |\n",
      "|3       |38.886051|-77.222115|Fairfax     |VA   |88.0          |Mostly Cloudy               |0   |0       |0       |0   |0             |2017-08-21 00:00:00|South |\n",
      "|3       |38.705372|-77.224007|Fairfax     |VA   |80.6          |Light Rain                  |0   |0       |0       |0   |0             |2017-08-21 00:00:00|South |\n",
      "|2       |38.977669|-77.31517 |Fairfax     |VA   |84.9          |Mostly Cloudy               |0   |0       |1       |0   |1             |2017-08-21 00:00:00|South |\n",
      "|3       |38.676296|-77.236511|Fairfax     |VA   |76.3          |Partly Cloudy               |0   |0       |0       |0   |0             |2017-08-21 00:00:00|South |\n",
      "|2       |38.839756|-77.260757|Fairfax     |VA   |75.0          |Clear                       |0   |0       |0       |0   |0             |2017-08-21 00:00:00|South |\n",
      "|3       |38.705372|-77.224007|Fairfax     |VA   |69.8          |Clear                       |0   |0       |0       |0   |0             |2017-08-22 00:00:00|South |\n",
      "|3       |38.740456|-77.189842|Fairfax     |VA   |72.0          |Clear                       |0   |1       |0       |0   |0             |2017-08-22 00:00:00|South |\n",
      "|3       |38.878574|-77.267174|Fairfax     |VA   |71.1          |Partly Cloudy               |0   |0       |0       |0   |0             |2017-08-22 00:00:00|South |\n",
      "|2       |38.892471|-77.42691 |Fairfax     |VA   |71.1          |Partly Cloudy               |0   |0       |0       |0   |1             |2017-08-22 00:00:00|South |\n",
      "|3       |38.862026|-77.34623 |Fairfax     |VA   |71.1          |Scattered Clouds            |0   |0       |0       |0   |0             |2017-08-22 00:00:00|South |\n",
      "|3       |38.854649|-77.388481|Fairfax     |VA   |71.1          |Scattered Clouds            |0   |0       |0       |0   |0             |2017-08-22 00:00:00|South |\n",
      "|2       |38.856838|-77.374741|Fairfax     |VA   |71.1          |Scattered Clouds            |0   |0       |0       |0   |0             |2017-08-22 00:00:00|South |\n",
      "|3       |38.811226|-77.218185|Fairfax     |VA   |74.5          |Clear                       |0   |0       |0       |0   |0             |2017-08-22 00:00:00|South |\n",
      "|3       |38.790493|-77.174858|Fairfax     |VA   |74.5          |Clear                       |0   |0       |0       |0   |0             |2017-08-22 00:00:00|South |\n",
      "|3       |38.846703|-77.432205|Fairfax     |VA   |73.0          |Scattered Clouds            |0   |1       |0       |0   |0             |2017-08-22 00:00:00|South |\n",
      "|2       |38.947491|-77.311996|Fairfax     |VA   |73.0          |Scattered Clouds            |0   |0       |0       |0   |0             |2017-08-22 00:00:00|South |\n",
      "|2       |38.85154 |-77.432899|Fairfax     |VA   |73.0          |Scattered Clouds            |0   |0       |0       |0   |0             |2017-08-22 00:00:00|South |\n",
      "|3       |38.789742|-77.174347|Fairfax     |VA   |75.4          |Clear                       |0   |0       |0       |0   |0             |2017-08-22 00:00:00|South |\n",
      "|2       |38.6703  |-77.237564|Fairfax     |VA   |78.8          |Clear                       |0   |0       |0       |0   |1             |2017-08-22 00:00:00|South |\n",
      "|3       |38.846703|-77.432205|Fairfax     |VA   |91.0          |Scattered Clouds            |0   |1       |0       |0   |0             |2017-08-22 00:00:00|South |\n",
      "|3       |38.705372|-77.224007|Fairfax     |VA   |91.2          |Clear                       |0   |0       |0       |0   |0             |2017-08-22 00:00:00|South |\n",
      "|2       |38.937057|-77.210182|Fairfax     |VA   |91.9          |Scattered Clouds            |0   |0       |0       |0   |0             |2017-08-22 00:00:00|South |\n",
      "|3       |38.796246|-77.135559|Fairfax     |VA   |91.2          |Clear                       |0   |1       |0       |0   |0             |2017-08-22 00:00:00|South |\n",
      "|3       |38.834152|-77.218185|Fairfax     |VA   |91.2          |Clear                       |0   |0       |0       |0   |0             |2017-08-22 00:00:00|South |\n",
      "|3       |38.854092|-77.22039 |Fairfax     |VA   |91.2          |Clear                       |0   |0       |0       |0   |1             |2017-08-22 00:00:00|South |\n",
      "|3       |38.921597|-77.216545|Fairfax     |VA   |91.0          |Partly Cloudy               |0   |0       |0       |0   |0             |2017-08-22 00:00:00|South |\n",
      "|3       |38.796246|-77.135559|Fairfax     |VA   |90.0          |Clear                       |0   |1       |0       |0   |0             |2017-08-22 00:00:00|South |\n",
      "|2       |38.910042|-77.470467|Fairfax     |VA   |84.9          |Scattered Clouds            |0   |0       |1       |0   |1             |2017-08-22 00:00:00|South |\n",
      "|2       |38.900242|-77.446114|Fairfax     |VA   |82.0          |Mostly Cloudy               |0   |0       |1       |0   |1             |2017-08-22 00:00:00|South |\n",
      "|3       |38.877411|-77.274788|Fairfax     |VA   |82.9          |Partly Cloudy               |0   |0       |0       |0   |0             |2017-08-22 00:00:00|South |\n",
      "|3       |38.846703|-77.432205|Fairfax     |VA   |73.9          |Mostly Cloudy               |0   |1       |0       |0   |0             |2017-08-23 00:00:00|South |\n",
      "|2       |38.930557|-77.171661|Fairfax     |VA   |78.1          |Mostly Cloudy               |0   |0       |0       |0   |0             |2017-08-23 00:00:00|South |\n",
      "|2       |38.951954|-77.356453|Fairfax     |VA   |73.9          |Mostly Cloudy               |0   |0       |0       |0   |0             |2017-08-23 00:00:00|South |\n",
      "|3       |38.862034|-77.346191|Fairfax     |VA   |75.9          |Mostly Cloudy               |0   |0       |0       |0   |0             |2017-08-23 00:00:00|South |\n",
      "|2       |38.92865 |-77.203194|Fairfax     |VA   |78.1          |Scattered Clouds            |0   |0       |0       |0   |0             |2017-08-23 00:00:00|South |\n",
      "|2       |38.873066|-77.445244|Fairfax     |VA   |75.9          |Mostly Cloudy               |0   |0       |0       |0   |0             |2017-08-23 00:00:00|South |\n",
      "|3       |38.740456|-77.189842|Fairfax     |VA   |77.9          |Mostly Cloudy               |0   |1       |0       |0   |0             |2017-08-23 00:00:00|South |\n",
      "|3       |38.811226|-77.218185|Fairfax     |VA   |78.3          |Mostly Cloudy               |0   |0       |0       |0   |0             |2017-08-23 00:00:00|South |\n",
      "|3       |38.805542|-77.213249|Fairfax     |VA   |82.4          |Overcast                    |0   |1       |0       |0   |0             |2017-08-23 00:00:00|South |\n",
      "|3       |38.811226|-77.218185|Fairfax     |VA   |82.4          |Overcast                    |0   |0       |0       |0   |0             |2017-08-23 00:00:00|South |\n",
      "|3       |38.676231|-77.23661 |Fairfax     |VA   |84.2          |Scattered Clouds            |0   |0       |0       |0   |0             |2017-08-23 00:00:00|South |\n",
      "|3       |38.877411|-77.274788|Fairfax     |VA   |84.2          |Scattered Clouds            |0   |0       |0       |0   |0             |2017-08-23 00:00:00|South |\n",
      "|3       |38.86573 |-77.220398|Fairfax     |VA   |84.9          |Mostly Cloudy               |0   |0       |0       |0   |0             |2017-08-23 00:00:00|South |\n",
      "|3       |38.846367|-77.432365|Fairfax     |VA   |82.0          |Mostly Cloudy               |0   |0       |0       |0   |0             |2017-08-23 00:00:00|South |\n",
      "|3       |38.868732|-77.308899|Fairfax     |VA   |82.9          |Partly Cloudy               |0   |0       |0       |0   |0             |2017-08-23 00:00:00|South |\n",
      "|3       |38.86504 |-77.22039 |Fairfax     |VA   |84.0          |Scattered Clouds            |0   |1       |0       |0   |0             |2017-08-23 00:00:00|South |\n",
      "|3       |38.882122|-77.232491|Fairfax     |VA   |80.2          |Clear                       |0   |0       |0       |0   |0             |2017-08-23 00:00:00|South |\n",
      "|3       |38.883347|-77.227432|Fairfax     |VA   |79.0          |Scattered Clouds            |0   |0       |0       |0   |0             |2017-08-23 00:00:00|South |\n",
      "|3       |38.80024 |-77.07811 |Fairfax     |VA   |82.0          |Scattered Clouds            |0   |0       |0       |0   |0             |2017-08-23 00:00:00|South |\n",
      "|3       |38.837128|-77.447281|Fairfax     |VA   |66.9          |Mostly Cloudy               |0   |1       |0       |0   |0             |2017-08-24 00:00:00|South |\n",
      "|3       |38.931469|-77.21022 |Fairfax     |VA   |71.1          |Overcast                    |0   |1       |0       |0   |0             |2017-08-24 00:00:00|South |\n",
      "|2       |38.741791|-77.085907|Fairfax     |VA   |70.5          |Mostly Cloudy               |0   |0       |0       |0   |0             |2017-08-24 00:00:00|South |\n",
      "|3       |38.790028|-77.173996|Fairfax     |VA   |69.6          |Overcast                    |0   |0       |0       |0   |0             |2017-08-24 00:00:00|South |\n",
      "|2       |38.830128|-77.434555|Fairfax     |VA   |73.9          |Overcast                    |0   |0       |0       |0   |1             |2017-08-24 00:00:00|South |\n",
      "|3       |38.837128|-77.447281|Fairfax     |VA   |80.1          |Mostly Cloudy               |0   |1       |0       |0   |0             |2017-08-24 00:00:00|South |\n",
      "|3       |38.862617|-77.344322|Fairfax     |VA   |80.1          |Mostly Cloudy               |0   |0       |0       |0   |0             |2017-08-24 00:00:00|South |\n",
      "|3       |38.740456|-77.189842|Fairfax     |VA   |82.0          |Partly Cloudy               |0   |1       |0       |0   |0             |2017-08-24 00:00:00|South |\n",
      "|3       |38.868732|-77.308899|Fairfax     |VA   |80.1          |Scattered Clouds            |0   |0       |0       |0   |0             |2017-08-24 00:00:00|South |\n",
      "|3       |38.846703|-77.432205|Fairfax     |VA   |62.1          |Scattered Clouds            |0   |1       |0       |0   |0             |2017-08-25 00:00:00|South |\n",
      "|3       |38.886051|-77.222115|Fairfax     |VA   |73.9          |Partly Cloudy               |0   |0       |0       |0   |0             |2017-08-25 00:00:00|South |\n",
      "|3       |38.811111|-77.217529|Fairfax     |VA   |77.2          |Clear                       |0   |0       |0       |0   |0             |2017-08-25 00:00:00|South |\n",
      "|3       |38.854092|-77.22039 |Fairfax     |VA   |77.2          |Clear                       |0   |0       |0       |0   |1             |2017-08-25 00:00:00|South |\n",
      "|3       |38.847534|-77.42778 |Fairfax     |VA   |75.0          |Scattered Clouds            |0   |0       |0       |0   |0             |2017-08-25 00:00:00|South |\n",
      "|3       |38.834152|-77.218185|Fairfax     |VA   |76.1          |Partly Cloudy               |0   |0       |0       |0   |0             |2017-08-25 00:00:00|South |\n",
      "|3       |38.868732|-77.308899|Fairfax     |VA   |75.0          |Scattered Clouds            |0   |0       |0       |0   |0             |2017-08-25 00:00:00|South |\n",
      "|3       |38.811226|-77.218185|Fairfax     |VA   |76.1          |Partly Cloudy               |0   |0       |0       |0   |0             |2017-08-25 00:00:00|South |\n",
      "|3       |38.749302|-77.184998|Fairfax     |VA   |72.1          |Clear                       |0   |0       |0       |0   |0             |2017-08-27 00:00:00|South |\n",
      "|3       |38.705372|-77.224007|Fairfax     |VA   |74.7          |Clear                       |0   |0       |0       |0   |0             |2017-08-27 00:00:00|South |\n",
      "|3       |38.676231|-77.23661 |Fairfax     |VA   |76.3          |Scattered Clouds            |0   |0       |0       |0   |0             |2017-08-27 00:00:00|South |\n",
      "|3       |38.951927|-77.311607|Fairfax     |VA   |73.0          |Overcast                    |0   |0       |0       |0   |1             |2017-08-27 00:00:00|South |\n",
      "|3       |38.901417|-77.188194|Fairfax     |VA   |78.1          |Mostly Cloudy               |0   |0       |0       |0   |0             |2017-08-27 00:00:00|South |\n",
      "|3       |38.790867|-77.176155|Fairfax     |VA   |76.3          |Partly Cloudy               |0   |0       |0       |0   |0             |2017-08-27 00:00:00|South |\n",
      "|3       |38.77441 |-77.182129|Fairfax     |VA   |57.9          |Mostly Cloudy               |0   |1       |0       |0   |0             |2017-08-28 00:00:00|South |\n",
      "|3       |38.676231|-77.23661 |Fairfax     |VA   |57.7          |Partly Cloudy               |0   |0       |0       |0   |0             |2017-08-28 00:00:00|South |\n",
      "|2       |38.932503|-77.124832|Fairfax     |VA   |64.9          |Mostly Cloudy               |0   |1       |0       |0   |0             |2017-08-28 00:00:00|South |\n",
      "|3       |38.846493|-77.431679|Fairfax     |VA   |66.0          |Scattered Clouds            |0   |0       |0       |0   |0             |2017-08-28 00:00:00|South |\n",
      "|3       |38.862125|-77.345665|Fairfax     |VA   |66.0          |Scattered Clouds            |0   |0       |0       |0   |0             |2017-08-28 00:00:00|South |\n",
      "|3       |38.86573 |-77.220398|Fairfax     |VA   |71.1          |Mostly Cloudy               |0   |0       |0       |0   |0             |2017-08-28 00:00:00|South |\n",
      "|3       |38.77441 |-77.182129|Fairfax     |VA   |75.6          |Scattered Clouds            |0   |1       |0       |0   |0             |2017-08-28 00:00:00|South |\n",
      "|3       |38.740456|-77.189842|Fairfax     |VA   |75.6          |Scattered Clouds            |0   |1       |0       |0   |0             |2017-08-28 00:00:00|South |\n",
      "|3       |38.733116|-77.19529 |Fairfax     |VA   |75.7          |Partly Cloudy               |0   |0       |0       |0   |0             |2017-08-28 00:00:00|South |\n",
      "|3       |38.740456|-77.189842|Fairfax     |VA   |75.7          |Partly Cloudy               |0   |1       |0       |0   |0             |2017-08-28 00:00:00|South |\n",
      "|3       |38.790543|-77.176376|Fairfax     |VA   |74.5          |Scattered Clouds            |0   |0       |0       |0   |0             |2017-08-28 00:00:00|South |\n",
      "|3       |38.862522|-77.344803|Fairfax     |VA   |73.0          |Mostly Cloudy               |0   |0       |0       |0   |0             |2017-08-28 00:00:00|South |\n",
      "|3       |38.740456|-77.189842|Fairfax     |VA   |72.0          |Clear                       |0   |1       |0       |0   |0             |2017-08-28 00:00:00|South |\n",
      "|3       |38.862328|-77.351036|Fairfax     |VA   |68.0          |Overcast                    |0   |0       |0       |0   |0             |2017-08-28 00:00:00|South |\n",
      "|3       |38.793476|-77.181541|Fairfax     |VA   |68.5          |Partly Cloudy               |0   |0       |0       |0   |0             |2017-08-28 00:00:00|South |\n",
      "|2       |38.834976|-77.216087|Fairfax     |VA   |62.6          |Light Rain                  |0   |0       |0       |0   |0             |2017-08-29 00:00:00|South |\n",
      "|3       |38.789818|-77.174141|Fairfax     |VA   |62.8          |Light Rain                  |0   |0       |0       |0   |0             |2017-08-29 00:00:00|South |\n",
      "|3       |38.84634 |-77.43248 |Fairfax     |VA   |62.1          |Light Rain                  |0   |0       |0       |0   |0             |2017-08-29 00:00:00|South |\n",
      "|2       |38.973927|-77.303871|Fairfax     |VA   |62.1          |Light Rain                  |0   |0       |0       |0   |1             |2017-08-29 00:00:00|South |\n",
      "|3       |38.800201|-77.166298|Fairfax     |VA   |63.3          |Light Rain                  |0   |0       |0       |0   |0             |2017-08-29 00:00:00|South |\n",
      "|3       |38.793556|-77.173203|Fairfax     |VA   |63.3          |Light Rain                  |0   |0       |0       |0   |0             |2017-08-29 00:00:00|South |\n",
      "|3       |38.705627|-77.223518|Fairfax     |VA   |64.4          |Light Rain                  |0   |0       |0       |0   |0             |2017-08-29 00:00:00|South |\n",
      "|3       |38.854649|-77.388481|Fairfax     |VA   |62.1          |Light Rain                  |0   |0       |0       |0   |0             |2017-08-29 00:00:00|South |\n",
      "|3       |38.901417|-77.188194|Fairfax     |VA   |68.0          |Rain                        |0   |0       |0       |0   |0             |2017-08-29 00:00:00|South |\n",
      "|3       |38.816925|-77.137352|Fairfax     |VA   |68.0          |Light Rain                  |0   |0       |0       |0   |0             |2017-08-29 00:00:00|South |\n",
      "|3       |38.886051|-77.222115|Fairfax     |VA   |68.0          |Light Rain                  |0   |0       |0       |0   |0             |2017-08-29 00:00:00|South |\n",
      "|3       |38.883717|-77.227859|Fairfax     |VA   |66.0          |Light Rain                  |0   |0       |0       |0   |0             |2017-08-29 00:00:00|South |\n",
      "|3       |38.791782|-77.160263|Fairfax     |VA   |68.0          |Light Rain                  |0   |0       |0       |0   |0             |2017-08-29 00:00:00|South |\n",
      "|3       |38.800846|-77.083282|Fairfax     |VA   |68.0          |Light Rain                  |0   |1       |0       |0   |0             |2017-08-29 00:00:00|South |\n",
      "|3       |38.854645|-77.388496|Fairfax     |VA   |64.9          |Light Rain                  |0   |0       |0       |0   |0             |2017-08-29 00:00:00|South |\n",
      "|3       |38.834152|-77.218185|Fairfax     |VA   |68.0          |Light Rain                  |0   |0       |0       |0   |0             |2017-08-29 00:00:00|South |\n",
      "|3       |38.921947|-77.215805|Fairfax     |VA   |66.9          |Overcast                    |0   |0       |0       |0   |0             |2017-08-29 00:00:00|South |\n",
      "|3       |38.705372|-77.224007|Fairfax     |VA   |66.2          |Overcast                    |0   |0       |0       |0   |0             |2017-08-29 00:00:00|South |\n",
      "|2       |38.822781|-77.163452|Fairfax     |VA   |66.9          |Overcast                    |0   |0       |0       |0   |1             |2017-08-29 00:00:00|South |\n",
      "|3       |38.846931|-77.431   |Fairfax     |VA   |59.0          |Scattered Clouds            |0   |0       |0       |0   |0             |2017-08-30 00:00:00|South |\n",
      "|3       |38.846703|-77.432205|Fairfax     |VA   |59.0          |Scattered Clouds            |0   |1       |0       |0   |0             |2017-08-30 00:00:00|South |\n",
      "|3       |38.846703|-77.432205|Fairfax     |VA   |61.0          |Scattered Clouds            |0   |1       |0       |0   |0             |2017-08-30 00:00:00|South |\n",
      "|3       |38.790867|-77.176155|Fairfax     |VA   |66.4          |Clear                       |0   |0       |0       |0   |0             |2017-08-30 00:00:00|South |\n",
      "|3       |38.921947|-77.215805|Fairfax     |VA   |69.1          |Mostly Cloudy               |0   |0       |0       |0   |0             |2017-08-30 00:00:00|South |\n",
      "|3       |38.811176|-77.217957|Fairfax     |VA   |71.1          |Clear                       |0   |0       |0       |0   |0             |2017-08-30 00:00:00|South |\n",
      "|2       |38.693054|-77.218338|Fairfax     |VA   |75.2          |Partly Cloudy               |0   |0       |0       |0   |1             |2017-08-30 00:00:00|South |\n",
      "|2       |38.811714|-77.196236|Fairfax     |VA   |75.2          |Partly Cloudy               |0   |0       |0       |0   |0             |2017-08-30 00:00:00|South |\n",
      "|3       |38.807781|-77.215118|Fairfax     |VA   |76.5          |Partly Cloudy               |0   |0       |0       |0   |0             |2017-08-30 00:00:00|South |\n",
      "|3       |38.740108|-77.189804|Fairfax     |VA   |78.1          |Mostly Cloudy               |0   |0       |0       |0   |0             |2017-08-30 00:00:00|South |\n",
      "|3       |38.877411|-77.274788|Fairfax     |VA   |74.7          |Clear                       |0   |0       |0       |0   |0             |2017-08-30 00:00:00|South |\n",
      "|3       |38.793789|-77.182343|Fairfax     |VA   |74.7          |Clear                       |0   |0       |0       |0   |0             |2017-08-30 00:00:00|South |\n",
      "|3       |38.86591 |-77.220253|Fairfax     |VA   |75.0          |Mostly Cloudy               |0   |0       |0       |0   |0             |2017-08-30 00:00:00|South |\n",
      "|3       |38.705372|-77.224007|Fairfax     |VA   |68.7          |Clear                       |0   |0       |0       |0   |0             |2017-08-30 00:00:00|South |\n",
      "|2       |38.955437|-77.196091|Fairfax     |VA   |75.0          |Mostly Cloudy               |0   |0       |0       |0   |0             |2017-08-30 00:00:00|South |\n",
      "|4       |38.81198 |-77.173274|Fairfax     |VA   |47.8          |Clear                       |0   |0       |0       |0   |0             |2016-12-01 00:00:00|South |\n",
      "|3       |38.86103 |-77.35168 |Fairfax     |VA   |48.0          |Clear                       |0   |0       |0       |0   |0             |2016-12-01 00:00:00|South |\n",
      "|3       |38.79647 |-77.13546 |Fairfax     |VA   |45.0          |Clear                       |0   |1       |0       |0   |0             |2016-12-01 00:00:00|South |\n",
      "|3       |38.79405 |-77.15101 |Fairfax     |VA   |45.0          |Clear                       |0   |0       |0       |0   |0             |2016-12-01 00:00:00|South |\n",
      "|3       |38.87282 |-77.249054|Fairfax     |VA   |52.7          |Clear                       |0   |0       |1       |0   |1             |2016-12-01 00:00:00|South |\n",
      "|3       |38.8     |-77.166   |Fairfax     |VA   |54.0          |Clear                       |0   |1       |0       |0   |0             |2016-12-01 00:00:00|South |\n",
      "|4       |38.796265|-77.190795|Fairfax     |VA   |45.0          |Overcast                    |0   |0       |0       |0   |0             |2016-12-02 00:00:00|South |\n",
      "|2       |38.93549 |-77.20867 |Fairfax     |VA   |46.0          |Mostly Cloudy               |0   |0       |0       |0   |0             |2016-12-02 00:00:00|South |\n",
      "|3       |38.789963|-77.171903|Fairfax     |VA   |35.4          |Clear                       |0   |0       |0       |0   |0             |2016-12-02 00:00:00|South |\n",
      "|4       |38.74894 |-77.08294 |Fairfax     |VA   |45.7          |Clear                       |0   |0       |0       |0   |0             |2016-12-03 00:00:00|South |\n",
      "|3       |38.87033 |-77.30082 |Fairfax     |VA   |34.0          |Scattered Clouds            |0   |0       |0       |0   |0             |2016-12-04 00:00:00|South |\n",
      "|2       |38.765539|-77.08396 |Fairfax     |VA   |40.1          |Clear                       |0   |0       |0       |0   |0             |2016-12-04 00:00:00|South |\n",
      "|2       |38.765961|-77.053673|Fairfax     |VA   |46.9          |Overcast                    |0   |0       |0       |0   |0             |2016-12-04 00:00:00|South |\n",
      "|2       |38.9484  |-77.31192 |Fairfax     |VA   |45.0          |Overcast                    |0   |0       |0       |0   |1             |2016-12-04 00:00:00|South |\n",
      "|3       |38.919668|-77.21722 |Fairfax     |VA   |44.1          |Overcast                    |0   |0       |0       |0   |0             |2016-12-05 00:00:00|South |\n",
      "|3       |38.87923 |-77.250734|Fairfax     |VA   |44.6          |Scattered Clouds            |0   |0       |0       |0   |0             |2016-12-05 00:00:00|South |\n",
      "|3       |38.83998 |-77.2195  |Fairfax     |VA   |55.9          |Clear                       |0   |0       |0       |0   |0             |2016-12-05 00:00:00|South |\n",
      "|3       |38.83998 |-77.2195  |Fairfax     |VA   |55.9          |Clear                       |0   |0       |0       |0   |0             |2016-12-05 00:00:00|South |\n",
      "|3       |38.84247 |-77.43105 |Fairfax     |VA   |39.0          |Overcast                    |0   |0       |0       |0   |0             |2016-12-06 00:00:00|South |\n",
      "|2       |38.79968 |-77.20437 |Fairfax     |VA   |41.0          |Light Rain                  |0   |0       |0       |0   |0             |2016-12-06 00:00:00|South |\n",
      "|2       |38.79663 |-77.19097 |Fairfax     |VA   |41.0          |Light Rain                  |0   |0       |0       |0   |0             |2016-12-06 00:00:00|South |\n",
      "|2       |38.79968 |-77.20437 |Fairfax     |VA   |41.0          |Light Rain                  |0   |0       |0       |0   |0             |2016-12-06 00:00:00|South |\n",
      "|3       |38.74929 |-77.18495 |Fairfax     |VA   |41.0          |Light Rain                  |0   |0       |0       |0   |0             |2016-12-06 00:00:00|South |\n",
      "|2       |38.786184|-77.178195|Fairfax     |VA   |41.0          |Rain                        |0   |0       |0       |0   |0             |2016-12-06 00:00:00|South |\n",
      "|2       |38.774593|-77.181862|Fairfax     |VA   |37.2          |Overcast                    |0   |1       |0       |0   |0             |2016-12-08 00:00:00|South |\n",
      "|2       |38.89199 |-77.21715 |Fairfax     |VA   |45.0          |Overcast                    |0   |1       |0       |0   |0             |2016-12-08 00:00:00|South |\n",
      "|2       |38.87932 |-77.25435 |Fairfax     |VA   |46.9          |Clear                       |0   |0       |0       |0   |0             |2016-12-08 00:00:00|South |\n",
      "|2       |38.74929 |-77.18495 |Fairfax     |VA   |34.7          |Clear                       |0   |0       |0       |0   |0             |2016-12-09 00:00:00|South |\n",
      "|2       |38.784158|-77.178567|Fairfax     |VA   |33.6          |Clear                       |0   |0       |0       |0   |0             |2016-12-09 00:00:00|South |\n",
      "|3       |38.77208 |-77.18261 |Fairfax     |VA   |50.0          |Fair                        |0   |0       |0       |0   |0             |2016-12-10 00:00:00|South |\n",
      "|2       |38.84737 |-77.42849 |Fairfax     |VA   |43.0          |Overcast                    |0   |0       |0       |0   |0             |2016-12-12 00:00:00|South |\n",
      "|2       |38.76021 |-77.18327 |Fairfax     |VA   |44.6          |Scattered Clouds            |0   |0       |0       |0   |0             |2016-12-12 00:00:00|South |\n",
      "|2       |38.811647|-77.196262|Fairfax     |VA   |44.6          |Scattered Clouds            |0   |0       |0       |0   |0             |2016-12-12 00:00:00|South |\n",
      "|4       |38.82725 |-77.489652|Fairfax     |VA   |46.9          |Partly Cloudy               |0   |0       |0       |0   |0             |2016-12-12 00:00:00|South |\n",
      "|3       |38.80544 |-77.21318 |Fairfax     |VA   |36.1          |Scattered Clouds            |0   |0       |0       |0   |0             |2016-12-13 00:00:00|South |\n",
      "|3       |38.70524 |-77.22383 |Fairfax     |VA   |39.2          |Mostly Cloudy               |0   |0       |0       |0   |0             |2016-12-13 00:00:00|South |\n",
      "|2       |38.95797 |-77.19269 |Fairfax     |VA   |43.0          |Overcast                    |0   |1       |0       |0   |0             |2016-12-13 00:00:00|South |\n",
      "|2       |38.91596 |-77.21788 |Fairfax     |VA   |42.1          |Overcast                    |0   |1       |0       |0   |0             |2016-12-13 00:00:00|South |\n",
      "|2       |39.000501|-77.345422|Fairfax     |VA   |34.0          |Partly Cloudy               |0   |0       |1       |0   |1             |2016-12-14 00:00:00|South |\n",
      "|2       |38.861895|-77.346898|Fairfax     |VA   |34.0          |Partly Cloudy               |0   |0       |0       |0   |0             |2016-12-14 00:00:00|South |\n",
      "|3       |38.92024 |-77.2203  |Fairfax     |VA   |37.9          |Scattered Clouds            |0   |0       |0       |0   |0             |2016-12-14 00:00:00|South |\n",
      "|3       |38.92024 |-77.2203  |Fairfax     |VA   |37.9          |Scattered Clouds            |0   |0       |0       |0   |0             |2016-12-14 00:00:00|South |\n",
      "|3       |38.92325 |-77.21254 |Fairfax     |VA   |37.9          |Scattered Clouds            |0   |0       |0       |0   |0             |2016-12-14 00:00:00|South |\n",
      "|2       |39.00068 |-77.34529 |Fairfax     |VA   |37.9          |Clear                       |0   |0       |1       |0   |1             |2016-12-14 00:00:00|South |\n",
      "|2       |38.91892 |-77.21669 |Fairfax     |VA   |42.1          |Scattered Clouds            |0   |1       |0       |0   |0             |2016-12-14 00:00:00|South |\n",
      "|3       |38.752   |-77.18417 |Fairfax     |VA   |29.3          |Clear                       |0   |0       |0       |0   |0             |2016-12-15 00:00:00|South |\n",
      "|2       |38.96586 |-77.18034 |Fairfax     |VA   |26.1          |Partly Cloudy               |0   |0       |0       |0   |0             |2016-12-15 00:00:00|South |\n",
      "|3       |38.93146 |-77.21026 |Fairfax     |VA   |26.1          |Partly Cloudy               |0   |1       |0       |0   |0             |2016-12-15 00:00:00|South |\n",
      "|2       |38.96806 |-77.17961 |Fairfax     |VA   |26.1          |Partly Cloudy               |0   |0       |0       |0   |0             |2016-12-15 00:00:00|South |\n",
      "|3       |38.92465 |-77.21509 |Fairfax     |VA   |18.0          |Scattered Clouds            |0   |1       |0       |0   |0             |2016-12-16 00:00:00|South |\n",
      "|2       |38.86726 |-77.31728 |Fairfax     |VA   |16.0          |Mostly Cloudy               |0   |0       |0       |0   |0             |2016-12-16 00:00:00|South |\n",
      "|3       |38.94142 |-77.20534 |Fairfax     |VA   |19.0          |Mostly Cloudy               |0   |0       |0       |0   |0             |2016-12-16 00:00:00|South |\n",
      "|2       |38.691406|-77.226649|Fairfax     |VA   |23.7          |Overcast                    |0   |0       |0       |0   |0             |2016-12-16 00:00:00|South |\n",
      "|2       |38.905657|-77.216662|Fairfax     |VA   |26.1          |Overcast                    |0   |0       |0       |0   |0             |2016-12-16 00:00:00|South |\n",
      "|4       |38.704162|-77.259305|Fairfax     |VA   |26.2          |Overcast                    |0   |0       |0       |0   |0             |2016-12-16 00:00:00|South |\n",
      "|3       |38.76157 |-77.18358 |Fairfax     |VA   |29.3          |Overcast                    |0   |0       |0       |0   |0             |2016-12-17 00:00:00|South |\n",
      "|3       |38.76021 |-77.18327 |Fairfax     |VA   |29.3          |Overcast                    |0   |0       |0       |0   |0             |2016-12-17 00:00:00|South |\n",
      "|3       |38.859132|-77.21995 |Fairfax     |VA   |28.0          |Light Freezing Rain         |0   |0       |0       |0   |0             |2016-12-17 00:00:00|South |\n",
      "|4       |38.86965 |-77.36819 |Fairfax     |VA   |26.1          |Light Freezing Rain         |0   |0       |0       |0   |0             |2016-12-17 00:00:00|South |\n",
      "|2       |38.793685|-77.173019|Fairfax     |VA   |32.0          |Overcast                    |0   |1       |0       |0   |0             |2016-12-17 00:00:00|South |\n",
      "|4       |38.8107  |-77.25657 |Fairfax     |VA   |47.7          |Clear                       |0   |0       |0       |0   |1             |2016-12-17 00:00:00|South |\n",
      "|2       |38.96203 |-77.18672 |Fairfax     |VA   |27.0          |Partly Cloudy               |0   |0       |0       |0   |0             |2016-12-20 00:00:00|South |\n",
      "|2       |38.866339|-77.322123|Fairfax City|VA   |24.1          |Clear                       |0   |0       |0       |0   |0             |2016-12-20 00:00:00|South |\n",
      "|2       |38.96203 |-77.18672 |Fairfax     |VA   |28.0          |Clear                       |0   |0       |0       |0   |0             |2016-12-20 00:00:00|South |\n",
      "|2       |38.944528|-77.203101|Fairfax     |VA   |30.9          |Partly Cloudy               |0   |0       |0       |0   |0             |2016-12-20 00:00:00|South |\n",
      "|2       |38.87033 |-77.30082 |Fairfax     |VA   |35.1          |Partly Cloudy               |0   |0       |0       |0   |0             |2016-12-20 00:00:00|South |\n",
      "|2       |38.86726 |-77.31728 |Fairfax     |VA   |19.9          |Scattered Clouds            |0   |0       |0       |0   |0             |2016-12-21 00:00:00|South |\n",
      "|2       |38.86103 |-77.35168 |Fairfax     |VA   |25.0          |Partly Cloudy               |0   |0       |0       |0   |0             |2016-12-21 00:00:00|South |\n",
      "|2       |38.66967 |-77.23821 |Fairfax     |VA   |39.2          |Partly Cloudy               |0   |0       |0       |0   |0             |2016-12-22 00:00:00|South |\n",
      "|2       |38.82834 |-77.21924 |Fairfax     |VA   |51.8          |Clear                       |0   |0       |0       |0   |0             |2016-12-22 00:00:00|South |\n",
      "|2       |38.90018 |-77.18535 |Fairfax     |VA   |46.0          |Overcast                    |0   |0       |0       |0   |0             |2016-12-23 00:00:00|South |\n",
      "|3       |38.813167|-77.170853|Fairfax     |VA   |39.9          |Overcast                    |0   |0       |0       |0   |0             |2016-12-26 00:00:00|South |\n",
      "|4       |38.920241|-77.397133|Fairfax     |VA   |55.9          |Overcast                    |0   |0       |0       |0   |0             |2016-12-27 00:00:00|South |\n",
      "|3       |38.80025 |-77.07825 |Fairfax     |VA   |59.0          |Overcast                    |0   |0       |0       |0   |0             |2016-12-27 00:00:00|South |\n",
      "|3       |38.79787 |-77.08071 |Fairfax     |VA   |59.0          |Overcast                    |0   |0       |1       |0   |1             |2016-12-27 00:00:00|South |\n",
      "|3       |38.876917|-77.275209|Fairfax     |VA   |43.0          |Clear                       |0   |0       |0       |0   |0             |2016-12-28 00:00:00|South |\n",
      "|2       |38.74175 |-77.08583 |Fairfax     |VA   |39.2          |Light Rain                  |0   |0       |0       |0   |0             |2016-12-29 00:00:00|South |\n",
      "|2       |38.739958|-77.189715|Fairfax     |VA   |41.0          |Light Rain                  |0   |0       |0       |0   |0             |2016-12-29 00:00:00|South |\n",
      "|2       |38.74625 |-77.18686 |Fairfax     |VA   |46.4          |Overcast                    |0   |0       |0       |0   |0             |2016-12-29 00:00:00|South |\n",
      "|3       |38.74355 |-77.18796 |Fairfax     |VA   |41.5          |Scattered Clouds            |0   |0       |0       |0   |0             |2016-12-30 00:00:00|South |\n",
      "|2       |38.84607 |-77.43384 |Fairfax     |VA   |41.0          |Light Rain                  |0   |0       |0       |0   |0             |2017-01-03 00:00:00|South |\n",
      "|2       |38.82834 |-77.21924 |Fairfax     |VA   |45.7          |Overcast                    |0   |0       |0       |0   |0             |2017-01-03 00:00:00|South |\n",
      "|3       |38.85723 |-77.22039 |Fairfax     |VA   |46.0          |Overcast                    |0   |0       |0       |0   |0             |2017-01-03 00:00:00|South |\n",
      "|3       |38.93231 |-77.24469 |Fairfax     |VA   |28.0          |Mostly Cloudy               |0   |0       |0       |0   |0             |2017-01-05 00:00:00|South |\n",
      "|2       |38.88588 |-77.21985 |Fairfax     |VA   |32.0          |Overcast                    |0   |0       |0       |0   |0             |2017-01-05 00:00:00|South |\n",
      "|2       |38.88842 |-77.21902 |Fairfax     |VA   |32.0          |Overcast                    |0   |0       |0       |0   |0             |2017-01-05 00:00:00|South |\n",
      "|2       |38.87782 |-77.26996 |Fairfax     |VA   |30.7          |Clear                       |0   |0       |0       |0   |0             |2017-01-05 00:00:00|South |\n",
      "|2       |38.864397|-77.334181|Fairfax     |VA   |28.0          |Mostly Cloudy               |0   |0       |0       |0   |0             |2017-01-06 00:00:00|South |\n",
      "|2       |38.865249|-77.328363|Fairfax     |VA   |28.0          |Mostly Cloudy               |0   |0       |0       |0   |0             |2017-01-06 00:00:00|South |\n",
      "|3       |38.95587 |-77.19336 |Fairfax     |VA   |28.0          |Mostly Cloudy               |0   |0       |0       |0   |0             |2017-01-06 00:00:00|South |\n",
      "|3       |38.7927  |-77.15611 |Fairfax     |VA   |21.0          |Light Snow                  |0   |0       |0       |0   |0             |2017-01-07 00:00:00|South |\n",
      "|2       |38.857688|-77.370013|Fairfax     |VA   |12.9          |Mostly Cloudy               |0   |0       |0       |0   |0             |2017-01-09 00:00:00|South |\n",
      "|2       |38.800031|-77.165968|Fairfax     |VA   |19.9          |Overcast                    |0   |1       |0       |0   |0             |2017-01-09 00:00:00|South |\n",
      "|2       |38.94142 |-77.20534 |Fairfax     |VA   |23.0          |Mostly Cloudy               |0   |0       |0       |0   |0             |2017-01-09 00:00:00|South |\n",
      "|3       |38.96203 |-77.18672 |Fairfax     |VA   |23.0          |Mostly Cloudy               |0   |0       |0       |0   |0             |2017-01-09 00:00:00|South |\n",
      "|2       |38.813108|-77.447213|Fairfax     |VA   |50.0          |Clear                       |0   |0       |0       |0   |0             |2017-01-10 00:00:00|South |\n",
      "|2       |38.93146 |-77.21026 |Fairfax     |VA   |28.9          |Overcast                    |0   |1       |0       |0   |0             |2017-01-10 00:00:00|South |\n",
      "|2       |38.93146 |-77.21026 |Fairfax     |VA   |30.0          |Overcast                    |0   |1       |0       |0   |0             |2017-01-10 00:00:00|South |\n",
      "|3       |38.8952  |-77.43397 |Fairfax     |VA   |30.9          |Mostly Cloudy               |0   |0       |0       |0   |0             |2017-01-10 00:00:00|South |\n",
      "|3       |38.96203 |-77.18672 |Fairfax     |VA   |39.0          |Partly Cloudy               |0   |0       |0       |0   |0             |2017-01-11 00:00:00|South |\n",
      "|2       |38.70916 |-77.22247 |Fairfax     |VA   |52.3          |Clear                       |0   |0       |0       |0   |0             |2017-01-12 00:00:00|South |\n",
      "|2       |38.768834|-77.082344|Fairfax     |VA   |55.6          |Scattered Clouds            |0   |0       |1       |0   |0             |2017-01-12 00:00:00|South |\n",
      "|2       |38.767458|-77.082977|Fairfax     |VA   |55.6          |Scattered Clouds            |0   |0       |1       |0   |0             |2017-01-12 00:00:00|South |\n",
      "|2       |38.960229|-77.190441|Fairfax     |VA   |57.9          |Overcast                    |0   |0       |0       |0   |0             |2017-01-13 00:00:00|South |\n",
      "|2       |38.874005|-77.231717|Fairfax     |VA   |53.8          |Mostly Cloudy               |0   |0       |0       |0   |1             |2017-01-13 00:00:00|South |\n",
      "|2       |38.857324|-77.335609|Fairfax     |VA   |48.9          |Mostly Cloudy               |0   |0       |0       |0   |1             |2017-01-13 00:00:00|South |\n",
      "|3       |38.91555 |-77.2175  |Fairfax     |VA   |37.9          |Overcast                    |0   |0       |0       |0   |0             |2017-01-16 00:00:00|South |\n",
      "|3       |38.84519 |-77.43748 |Fairfax     |VA   |37.9          |Overcast                    |0   |0       |0       |0   |0             |2017-01-16 00:00:00|South |\n",
      "|2       |38.795313|-77.335432|Fairfax     |VA   |41.0          |Overcast                    |0   |0       |0       |0   |0             |2017-01-16 00:00:00|South |\n",
      "|2       |38.823168|-77.461042|Fairfax     |VA   |50.0          |Overcast                    |0   |0       |0       |0   |0             |2017-01-16 00:00:00|South |\n",
      "|2       |38.70916 |-77.22247 |Fairfax     |VA   |43.2          |Overcast                    |0   |0       |0       |0   |0             |2017-01-16 00:00:00|South |\n",
      "|3       |38.70568 |-77.20537 |Fairfax     |VA   |40.3          |Overcast                    |0   |0       |0       |0   |1             |2017-01-17 00:00:00|South |\n",
      "|2       |38.81324 |-77.21908 |Fairfax     |VA   |41.0          |Light Rain                  |0   |0       |0       |0   |0             |2017-01-17 00:00:00|South |\n",
      "|3       |38.83543 |-77.43195 |Fairfax     |VA   |50.0          |Mostly Cloudy               |0   |1       |0       |0   |0             |2017-01-17 00:00:00|South |\n",
      "|3       |38.739295|-77.190914|Fairfax     |VA   |34.7          |Clear                       |0   |0       |0       |0   |0             |2017-01-19 00:00:00|South |\n",
      "|2       |38.77419 |-77.18122 |Fairfax     |VA   |43.7          |Overcast                    |0   |1       |0       |0   |0             |2017-01-19 00:00:00|South |\n",
      "|3       |38.792878|-77.155442|Fairfax     |VA   |46.4          |Overcast                    |0   |0       |0       |0   |0             |2017-01-20 00:00:00|South |\n",
      "|3       |38.849042|-77.22027 |Fairfax     |VA   |46.8          |Overcast                    |0   |0       |0       |0   |0             |2017-01-20 00:00:00|South |\n",
      "|3       |38.9094  |-77.21557 |Fairfax     |VA   |46.9          |Light Rain                  |0   |0       |0       |0   |0             |2017-01-23 00:00:00|South |\n",
      "|3       |38.909642|-77.216417|Fairfax     |VA   |46.9          |Light Rain                  |0   |0       |1       |0   |1             |2017-01-23 00:00:00|South |\n",
      "|3       |38.752007|-77.241332|Fairfax     |VA   |46.4          |Light Rain                  |0   |0       |0       |0   |0             |2017-01-23 00:00:00|South |\n",
      "|2       |38.88366 |-77.22654 |Fairfax     |VA   |45.0          |Light Rain                  |0   |1       |0       |0   |0             |2017-01-23 00:00:00|South |\n",
      "|3       |38.83998 |-77.2195  |Fairfax     |VA   |41.0          |Overcast                    |0   |0       |0       |0   |0             |2017-01-23 00:00:00|South |\n",
      "|2       |38.819349|-77.147992|Fairfax     |VA   |41.0          |Light Drizzle               |0   |0       |0       |0   |1             |2017-01-23 00:00:00|South |\n",
      "|2       |38.91892 |-77.21669 |Fairfax     |VA   |46.0          |Mostly Cloudy               |0   |1       |0       |0   |0             |2017-01-24 00:00:00|South |\n",
      "|4       |38.81185 |-77.179923|Fairfax     |VA   |48.6          |Scattered Clouds            |0   |0       |0       |0   |0             |2017-01-24 00:00:00|South |\n",
      "|4       |38.81196 |-77.175711|Fairfax     |VA   |48.6          |Scattered Clouds            |0   |0       |0       |0   |0             |2017-01-24 00:00:00|South |\n",
      "|2       |38.81185 |-77.179923|Fairfax     |VA   |47.8          |Mostly Cloudy               |0   |0       |0       |0   |0             |2017-01-24 00:00:00|South |\n",
      "|2       |38.96338 |-77.17889 |Fairfax     |VA   |46.0          |Clear                       |0   |0       |0       |0   |0             |2017-01-25 00:00:00|South |\n",
      "|2       |38.96436 |-77.17477 |Fairfax     |VA   |46.0          |Clear                       |0   |0       |0       |0   |0             |2017-01-25 00:00:00|South |\n",
      "|2       |38.901769|-77.201563|Fairfax     |VA   |46.9          |Clear                       |0   |0       |0       |0   |0             |2017-01-25 00:00:00|South |\n",
      "|2       |38.9049  |-77.21643 |Fairfax     |VA   |52.0          |Mostly Cloudy               |0   |0       |0       |0   |0             |2017-01-26 00:00:00|South |\n",
      "|3       |38.91892 |-77.21669 |Fairfax     |VA   |52.0          |Mostly Cloudy               |0   |1       |0       |0   |0             |2017-01-26 00:00:00|South |\n",
      "|3       |38.93146 |-77.21026 |Fairfax     |VA   |52.0          |Mostly Cloudy               |0   |1       |0       |0   |0             |2017-01-26 00:00:00|South |\n",
      "|4       |38.90415 |-77.21635 |Fairfax     |VA   |52.0          |Overcast                    |0   |1       |0       |0   |0             |2017-01-26 00:00:00|South |\n",
      "|2       |38.68455 |-77.22856 |Fairfax     |VA   |46.4          |Light Rain                  |0   |0       |0       |0   |0             |2017-01-26 00:00:00|South |\n",
      "|2       |38.70916 |-77.22247 |Fairfax     |VA   |46.4          |Light Rain                  |0   |0       |0       |0   |0             |2017-01-26 00:00:00|South |\n",
      "|2       |38.795539|-77.187333|Fairfax     |VA   |46.4          |Partly Cloudy               |0   |0       |0       |0   |0             |2017-01-26 00:00:00|South |\n",
      "|2       |38.79968 |-77.20437 |Fairfax     |VA   |46.4          |Partly Cloudy               |0   |0       |0       |0   |0             |2017-01-26 00:00:00|South |\n",
      "|3       |38.95136 |-77.19656 |Fairfax     |VA   |51.1          |Mostly Cloudy               |0   |0       |0       |0   |0             |2017-01-26 00:00:00|South |\n",
      "|2       |38.92749 |-77.4298  |Fairfax     |VA   |53.1          |Mostly Cloudy               |0   |1       |0       |0   |0             |2017-01-26 00:00:00|South |\n",
      "|3       |38.84866 |-77.21982 |Fairfax     |VA   |50.5          |Mostly Cloudy               |0   |1       |0       |0   |0             |2017-01-26 00:00:00|South |\n",
      "|3       |38.775462|-77.080712|Fairfax     |VA   |50.5          |Mostly Cloudy               |0   |0       |0       |0   |0             |2017-01-26 00:00:00|South |\n",
      "|4       |38.90376 |-77.43512 |Fairfax     |VA   |66.0          |Overcast                    |0   |0       |0       |0   |0             |2016-10-21 00:00:00|South |\n",
      "|4       |38.89222 |-77.44266 |Fairfax     |VA   |66.0          |Overcast                    |0   |0       |0       |0   |0             |2016-10-21 00:00:00|South |\n",
      "|3       |38.90376 |-77.43512 |Fairfax     |VA   |66.0          |Overcast                    |0   |0       |0       |0   |0             |2016-10-21 00:00:00|South |\n",
      "|2       |38.848175|-77.123805|Fairfax     |VA   |66.9          |Scattered Clouds            |0   |0       |0       |0   |0             |2016-10-21 00:00:00|South |\n",
      "|3       |38.819349|-77.147992|Fairfax     |VA   |75.9          |Scattered Clouds            |0   |0       |0       |0   |1             |2016-10-21 00:00:00|South |\n",
      "|2       |38.87782 |-77.26996 |Fairfax     |VA   |46.6          |Clear                       |0   |0       |0       |0   |0             |2016-10-24 00:00:00|South |\n",
      "|2       |38.802443|-77.163066|Fairfax     |VA   |66.0          |Partly Cloudy               |0   |1       |0       |0   |0             |2016-10-24 00:00:00|South |\n",
      "|2       |38.95135 |-77.26436 |Fairfax     |VA   |64.0          |Scattered Clouds            |0   |0       |0       |0   |1             |2016-10-24 00:00:00|South |\n",
      "|3       |38.87548 |-77.40853 |Fairfax     |VA   |52.0          |Clear                       |0   |0       |1       |0   |1             |2016-10-24 00:00:00|South |\n",
      "|2       |38.900537|-77.223851|Fairfax     |VA   |57.9          |Partly Cloudy               |0   |0       |0       |0   |1             |2016-10-25 00:00:00|South |\n",
      "|2       |38.87782 |-77.26996 |Fairfax     |VA   |55.8          |Clear                       |0   |0       |0       |0   |0             |2016-10-29 00:00:00|South |\n",
      "|3       |38.78442 |-77.17891 |Fairfax     |VA   |55.8          |Clear                       |0   |0       |0       |0   |0             |2016-10-29 00:00:00|South |\n",
      "|4       |38.752577|-77.165727|Fairfax     |VA   |53.6          |Clear                       |0   |0       |0       |0   |0             |2016-10-30 00:00:00|South |\n",
      "|3       |38.88366 |-77.22654 |Fairfax     |VA   |64.0          |Mostly Cloudy               |0   |1       |0       |0   |0             |2016-11-02 00:00:00|South |\n",
      "|4       |38.73654 |-77.19247 |Fairfax     |VA   |63.5          |Clear                       |0   |1       |0       |0   |0             |2016-11-05 00:00:00|South |\n",
      "|4       |38.84607 |-77.43384 |Fairfax     |VA   |57.9          |Clear                       |0   |0       |0       |0   |0             |2016-11-07 00:00:00|South |\n",
      "|3       |38.895112|-77.215405|Fairfax     |VA   |59.0          |Clear                       |0   |0       |0       |0   |0             |2016-11-07 00:00:00|South |\n",
      "|2       |38.69284 |-77.21853 |Fairfax     |VA   |34.9          |Clear                       |0   |0       |0       |0   |1             |2016-11-08 00:00:00|South |\n",
      "|3       |38.87923 |-77.250734|Fairfax     |VA   |52.0          |Mostly Cloudy               |0   |0       |0       |0   |0             |2016-11-08 00:00:00|South |\n",
      "|2       |38.87932 |-77.25435 |Fairfax     |VA   |51.6          |Clear                       |0   |0       |0       |0   |0             |2016-11-08 00:00:00|South |\n",
      "|3       |38.761328|-77.182941|Fairfax     |VA   |62.4          |Mostly Cloudy               |0   |0       |0       |0   |0             |2016-11-09 00:00:00|South |\n",
      "|2       |38.859132|-77.21995 |Fairfax     |VA   |50.0          |Partly Cloudy               |0   |0       |0       |0   |0             |2016-11-10 00:00:00|South |\n",
      "|2       |38.76157 |-77.18358 |Fairfax     |VA   |34.2          |Clear                       |0   |0       |0       |0   |0             |2016-11-11 00:00:00|South |\n",
      "|2       |38.76021 |-77.18327 |Fairfax     |VA   |34.2          |Clear                       |0   |0       |0       |0   |0             |2016-11-11 00:00:00|South |\n",
      "|2       |38.80473 |-77.16048 |Fairfax     |VA   |60.1          |Mostly Cloudy               |0   |0       |0       |0   |0             |2016-11-11 00:00:00|South |\n",
      "|4       |38.74213 |-77.19098 |Fairfax     |VA   |37.4          |Clear                       |0   |0       |0       |0   |0             |2016-11-12 00:00:00|South |\n",
      "|4       |38.733259|-77.189739|Fairfax     |VA   |37.4          |Clear                       |0   |0       |0       |0   |0             |2016-11-12 00:00:00|South |\n",
      "|4       |38.74061 |-77.19004 |Fairfax     |VA   |37.4          |Clear                       |0   |1       |0       |0   |0             |2016-11-12 00:00:00|South |\n",
      "|4       |38.74078 |-77.19003 |Fairfax     |VA   |37.4          |Clear                       |0   |1       |0       |0   |0             |2016-11-12 00:00:00|South |\n",
      "|3       |38.86373 |-77.33804 |Fairfax     |VA   |27.0          |Clear                       |0   |0       |0       |0   |0             |2016-11-13 00:00:00|South |\n",
      "|3       |38.80128 |-77.08717 |Fairfax     |VA   |37.0          |Clear                       |0   |1       |0       |0   |0             |2016-11-13 00:00:00|South |\n",
      "|4       |38.698   |-77.21344 |Fairfax     |VA   |60.4          |Clear                       |0   |0       |0       |0   |0             |2016-11-13 00:00:00|South |\n",
      "|2       |38.82834 |-77.21924 |Fairfax     |VA   |39.0          |Clear                       |0   |0       |0       |0   |0             |2016-11-14 00:00:00|South |\n",
      "|2       |38.79968 |-77.20437 |Fairfax     |VA   |51.4          |Overcast                    |0   |0       |0       |0   |0             |2016-11-15 00:00:00|South |\n",
      "|3       |38.820037|-77.466144|Fairfax     |VA   |60.8          |Clear                       |0   |0       |0       |0   |0             |2016-11-15 00:00:00|South |\n",
      "|2       |38.84737 |-77.42849 |Fairfax     |VA   |59.0          |Mostly Cloudy               |0   |0       |0       |0   |0             |2016-11-15 00:00:00|South |\n",
      "|3       |38.88366 |-77.22654 |Fairfax     |VA   |55.0          |Scattered Clouds            |0   |1       |0       |0   |0             |2016-11-15 00:00:00|South |\n",
      "|2       |38.79918 |-77.12175 |Fairfax     |VA   |37.4          |Clear                       |0   |0       |0       |0   |0             |2016-11-17 00:00:00|South |\n",
      "|3       |38.90075 |-77.185231|Fairfax     |VA   |44.1          |Clear                       |0   |0       |0       |0   |0             |2016-11-18 00:00:00|South |\n",
      "|4       |38.861188|-77.30737 |Fairfax City|VA   |72.0          |Partly Cloudy               |0   |0       |1       |0   |1             |2016-11-18 00:00:00|South |\n",
      "|2       |38.96251 |-77.41998 |Fairfax     |VA   |59.0          |Clear                       |0   |0       |0       |0   |0             |2016-11-18 00:00:00|South |\n",
      "|4       |38.806901|-77.181155|Fairfax     |VA   |55.0          |Clear                       |0   |0       |0       |0   |0             |2016-11-18 00:00:00|South |\n",
      "|4       |38.811789|-77.187593|Fairfax     |VA   |46.9          |Clear                       |0   |0       |0       |0   |0             |2016-11-18 00:00:00|South |\n",
      "+--------+---------+----------+------------+-----+--------------+----------------------------+----+--------+--------+----+--------------+-------------------+------+\n",
      "only showing top 1000 rows"
     ]
    }
   ],
   "source": [
    "df1_traffic.where(col('County').like('%Fairfax%')).show(1000,False)"
   ]
  },
  {
   "cell_type": "code",
   "execution_count": 24,
   "metadata": {},
   "outputs": [
    {
     "data": {
      "application/vnd.jupyter.widget-view+json": {
       "model_id": "72ef1cbba8ff4e4ca55397e2838ffe59",
       "version_major": 2,
       "version_minor": 0
      },
      "text/plain": [
       "VBox()"
      ]
     },
     "metadata": {},
     "output_type": "display_data"
    },
    {
     "data": {
      "application/vnd.jupyter.widget-view+json": {
       "model_id": "",
       "version_major": 2,
       "version_minor": 0
      },
      "text/plain": [
       "FloatProgress(value=0.0, bar_style='info', description='Progress:', layout=Layout(height='25px', width='50%'),…"
      ]
     },
     "metadata": {},
     "output_type": "display_data"
    }
   ],
   "source": [
    "#Replace-19\n",
    "df1_traffic=df1_traffic.withColumn('County', regexp_replace('County',\"Fairfax County\",'Fairfax'))\n",
    "#df1_traffic_filt.filter(col('State')=='VA').show(100)#\\"
   ]
  },
  {
   "cell_type": "code",
   "execution_count": 25,
   "metadata": {},
   "outputs": [
    {
     "data": {
      "application/vnd.jupyter.widget-view+json": {
       "model_id": "e905b29a48004ab7b0a438800e0a53b8",
       "version_major": 2,
       "version_minor": 0
      },
      "text/plain": [
       "VBox()"
      ]
     },
     "metadata": {},
     "output_type": "display_data"
    },
    {
     "data": {
      "application/vnd.jupyter.widget-view+json": {
       "model_id": "",
       "version_major": 2,
       "version_minor": 0
      },
      "text/plain": [
       "FloatProgress(value=0.0, bar_style='info', description='Progress:', layout=Layout(height='25px', width='50%'),…"
      ]
     },
     "metadata": {},
     "output_type": "display_data"
    }
   ],
   "source": [
    "#Replace-20\n",
    "df1_traffic=df1_traffic.withColumn('County', regexp_replace('County',\"Fredericksburg City\",'Fredericksburg'))\n",
    "#df1_traffic_filt.filter(col('State')=='VA').show(100)#\\"
   ]
  },
  {
   "cell_type": "code",
   "execution_count": 26,
   "metadata": {},
   "outputs": [
    {
     "data": {
      "application/vnd.jupyter.widget-view+json": {
       "model_id": "61f9df797ef3445080583280215f438d",
       "version_major": 2,
       "version_minor": 0
      },
      "text/plain": [
       "VBox()"
      ]
     },
     "metadata": {},
     "output_type": "display_data"
    },
    {
     "data": {
      "application/vnd.jupyter.widget-view+json": {
       "model_id": "",
       "version_major": 2,
       "version_minor": 0
      },
      "text/plain": [
       "FloatProgress(value=0.0, bar_style='info', description='Progress:', layout=Layout(height='25px', width='50%'),…"
      ]
     },
     "metadata": {},
     "output_type": "display_data"
    }
   ],
   "source": [
    "#Replace-21\n",
    "df1_traffic=df1_traffic.withColumn('County', regexp_replace('County',\"Hampton City\",'Hampton'))\n",
    "#df1_traffic_filt.filter(col('State')=='VA').show(100)#\\"
   ]
  },
  {
   "cell_type": "code",
   "execution_count": 27,
   "metadata": {},
   "outputs": [
    {
     "data": {
      "application/vnd.jupyter.widget-view+json": {
       "model_id": "1f10e45304db4a95b4747bcf5e8003ce",
       "version_major": 2,
       "version_minor": 0
      },
      "text/plain": [
       "VBox()"
      ]
     },
     "metadata": {},
     "output_type": "display_data"
    },
    {
     "data": {
      "application/vnd.jupyter.widget-view+json": {
       "model_id": "",
       "version_major": 2,
       "version_minor": 0
      },
      "text/plain": [
       "FloatProgress(value=0.0, bar_style='info', description='Progress:', layout=Layout(height='25px', width='50%'),…"
      ]
     },
     "metadata": {},
     "output_type": "display_data"
    }
   ],
   "source": [
    "#Replace-22\n",
    "df1_traffic=df1_traffic.withColumn('County', regexp_replace('County',\"Isle Of Wight\",'Isle of Wight'))\n",
    "#df1_traffic_filt.filter(col('State')=='VA').show(100)#\\"
   ]
  },
  {
   "cell_type": "code",
   "execution_count": 28,
   "metadata": {},
   "outputs": [
    {
     "data": {
      "application/vnd.jupyter.widget-view+json": {
       "model_id": "b3b1ec2d3df44c7cb6bbafeaf29ce10a",
       "version_major": 2,
       "version_minor": 0
      },
      "text/plain": [
       "VBox()"
      ]
     },
     "metadata": {},
     "output_type": "display_data"
    },
    {
     "data": {
      "application/vnd.jupyter.widget-view+json": {
       "model_id": "",
       "version_major": 2,
       "version_minor": 0
      },
      "text/plain": [
       "FloatProgress(value=0.0, bar_style='info', description='Progress:', layout=Layout(height='25px', width='50%'),…"
      ]
     },
     "metadata": {},
     "output_type": "display_data"
    }
   ],
   "source": [
    "#Replace-23\n",
    "df1_traffic=df1_traffic.withColumn('County', regexp_replace('County',\"Alexandria City\",'Alexandria'))\n",
    "#df1_traffic_filt.filter(col('State')=='VA').show(100)#\\"
   ]
  },
  {
   "cell_type": "code",
   "execution_count": 29,
   "metadata": {},
   "outputs": [
    {
     "data": {
      "application/vnd.jupyter.widget-view+json": {
       "model_id": "40cb40a1adf54049b7c251d5473951ea",
       "version_major": 2,
       "version_minor": 0
      },
      "text/plain": [
       "VBox()"
      ]
     },
     "metadata": {},
     "output_type": "display_data"
    },
    {
     "data": {
      "application/vnd.jupyter.widget-view+json": {
       "model_id": "",
       "version_major": 2,
       "version_minor": 0
      },
      "text/plain": [
       "FloatProgress(value=0.0, bar_style='info', description='Progress:', layout=Layout(height='25px', width='50%'),…"
      ]
     },
     "metadata": {},
     "output_type": "display_data"
    }
   ],
   "source": [
    "#Replace-24\n",
    "df1_traffic=df1_traffic.withColumn('County', regexp_replace('County',\"Petersburg City\",'Petersburg'))\n",
    "#df1_traffic_filt.filter(col('State')=='VA').show(100)#\\"
   ]
  },
  {
   "cell_type": "code",
   "execution_count": 30,
   "metadata": {},
   "outputs": [
    {
     "data": {
      "application/vnd.jupyter.widget-view+json": {
       "model_id": "744d4f8b554f4c6cae40b7b7fe821e4e",
       "version_major": 2,
       "version_minor": 0
      },
      "text/plain": [
       "VBox()"
      ]
     },
     "metadata": {},
     "output_type": "display_data"
    },
    {
     "data": {
      "application/vnd.jupyter.widget-view+json": {
       "model_id": "",
       "version_major": 2,
       "version_minor": 0
      },
      "text/plain": [
       "FloatProgress(value=0.0, bar_style='info', description='Progress:', layout=Layout(height='25px', width='50%'),…"
      ]
     },
     "metadata": {},
     "output_type": "display_data"
    }
   ],
   "source": [
    "#Replace-25\n",
    "df1_traffic=df1_traffic.withColumn('County', regexp_replace('County',\"Manassas City\",'Manassas'))\n",
    "#df1_traffic_filt.filter(col('State')=='VA').show(100)#\\"
   ]
  },
  {
   "cell_type": "code",
   "execution_count": 31,
   "metadata": {},
   "outputs": [
    {
     "data": {
      "application/vnd.jupyter.widget-view+json": {
       "model_id": "782baa5fb1a04445b2c0d55fe0d0ddbe",
       "version_major": 2,
       "version_minor": 0
      },
      "text/plain": [
       "VBox()"
      ]
     },
     "metadata": {},
     "output_type": "display_data"
    },
    {
     "data": {
      "application/vnd.jupyter.widget-view+json": {
       "model_id": "",
       "version_major": 2,
       "version_minor": 0
      },
      "text/plain": [
       "FloatProgress(value=0.0, bar_style='info', description='Progress:', layout=Layout(height='25px', width='50%'),…"
      ]
     },
     "metadata": {},
     "output_type": "display_data"
    }
   ],
   "source": [
    "#Replace-26\n",
    "df1_traffic=df1_traffic.withColumn('County', regexp_replace('County',\"Virginia Beach City\",'Virginia Beach'))\n",
    "#df1_traffic_filt.filter(col('State')=='VA').show(100)#\\"
   ]
  },
  {
   "cell_type": "code",
   "execution_count": 32,
   "metadata": {},
   "outputs": [
    {
     "data": {
      "application/vnd.jupyter.widget-view+json": {
       "model_id": "4d4e47177f8f47c8a994a70483c9c81c",
       "version_major": 2,
       "version_minor": 0
      },
      "text/plain": [
       "VBox()"
      ]
     },
     "metadata": {},
     "output_type": "display_data"
    },
    {
     "data": {
      "application/vnd.jupyter.widget-view+json": {
       "model_id": "",
       "version_major": 2,
       "version_minor": 0
      },
      "text/plain": [
       "FloatProgress(value=0.0, bar_style='info', description='Progress:', layout=Layout(height='25px', width='50%'),…"
      ]
     },
     "metadata": {},
     "output_type": "display_data"
    }
   ],
   "source": [
    "#Replace-27\n",
    "df1_traffic=df1_traffic.withColumn('County', regexp_replace('County',\"Suffolk City\",'Suffolk'))\n",
    "#df1_traffic_filt.filter(col('State')=='VA').show(100)#\\"
   ]
  },
  {
   "cell_type": "code",
   "execution_count": 33,
   "metadata": {},
   "outputs": [
    {
     "data": {
      "application/vnd.jupyter.widget-view+json": {
       "model_id": "3003e287af00496c9a131f9e10cf3da7",
       "version_major": 2,
       "version_minor": 0
      },
      "text/plain": [
       "VBox()"
      ]
     },
     "metadata": {},
     "output_type": "display_data"
    },
    {
     "data": {
      "application/vnd.jupyter.widget-view+json": {
       "model_id": "",
       "version_major": 2,
       "version_minor": 0
      },
      "text/plain": [
       "FloatProgress(value=0.0, bar_style='info', description='Progress:', layout=Layout(height='25px', width='50%'),…"
      ]
     },
     "metadata": {},
     "output_type": "display_data"
    }
   ],
   "source": [
    "#Replace-28\n",
    "df1_traffic=df1_traffic.withColumn('County', regexp_replace('County',\"District Of Columbia\",'District of Columbia'))\n",
    "#df1_traffic_filt.filter(col('State')=='VA').show(100)#\\"
   ]
  },
  {
   "cell_type": "code",
   "execution_count": 34,
   "metadata": {},
   "outputs": [
    {
     "data": {
      "application/vnd.jupyter.widget-view+json": {
       "model_id": "f262c7985ace4a6faee91971137fde52",
       "version_major": 2,
       "version_minor": 0
      },
      "text/plain": [
       "VBox()"
      ]
     },
     "metadata": {},
     "output_type": "display_data"
    },
    {
     "data": {
      "application/vnd.jupyter.widget-view+json": {
       "model_id": "",
       "version_major": 2,
       "version_minor": 0
      },
      "text/plain": [
       "FloatProgress(value=0.0, bar_style='info', description='Progress:', layout=Layout(height='25px', width='50%'),…"
      ]
     },
     "metadata": {},
     "output_type": "display_data"
    }
   ],
   "source": [
    "#Replace-29\n",
    "df1_traffic=df1_traffic.withColumn('County', regexp_replace('County',\"Saint Johns\",'St. Johns'))\n",
    "#df1_traffic_filt.filter(col('State')=='VA').show(100)#\\"
   ]
  },
  {
   "cell_type": "code",
   "execution_count": 84,
   "metadata": {},
   "outputs": [
    {
     "data": {
      "application/vnd.jupyter.widget-view+json": {
       "model_id": "670478a3166d4b299b6b80d721c8c28e",
       "version_major": 2,
       "version_minor": 0
      },
      "text/plain": [
       "VBox()"
      ]
     },
     "metadata": {},
     "output_type": "display_data"
    },
    {
     "data": {
      "application/vnd.jupyter.widget-view+json": {
       "model_id": "",
       "version_major": 2,
       "version_minor": 0
      },
      "text/plain": [
       "FloatProgress(value=0.0, bar_style='info', description='Progress:', layout=Layout(height='25px', width='50%'),…"
      ]
     },
     "metadata": {},
     "output_type": "display_data"
    }
   ],
   "source": [
    "newdf_traffic=df1_traffic_filt.select(['State','County']).distinct().orderBy('State','County')\n",
    "newdf_covid=df1_covid_filt.select(['State','CountyName']).distinct().orderBy('State','CountyName')"
   ]
  },
  {
   "cell_type": "code",
   "execution_count": 85,
   "metadata": {
    "scrolled": true
   },
   "outputs": [
    {
     "data": {
      "application/vnd.jupyter.widget-view+json": {
       "model_id": "6f40d59c718c424b92fea1371a555b15",
       "version_major": 2,
       "version_minor": 0
      },
      "text/plain": [
       "VBox()"
      ]
     },
     "metadata": {},
     "output_type": "display_data"
    },
    {
     "data": {
      "application/vnd.jupyter.widget-view+json": {
       "model_id": "",
       "version_major": 2,
       "version_minor": 0
      },
      "text/plain": [
       "FloatProgress(value=0.0, bar_style='info', description='Progress:', layout=Layout(height='25px', width='50%'),…"
      ]
     },
     "metadata": {},
     "output_type": "display_data"
    },
    {
     "name": "stdout",
     "output_type": "stream",
     "text": [
      "+-----+------+\n",
      "|State|County|\n",
      "+-----+------+\n",
      "+-----+------+"
     ]
    }
   ],
   "source": [
    "# Checking for mismatches of State and County names in both datasets\n",
    "newdf_traffic.select(['State','County']).subtract(newdf_covid.select(['State','CountyName'])).count()\n",
    "newdf_traffic.select(['State','County']).subtract(newdf_covid.select(['State','CountyName'])).show(1500,False)"
   ]
  },
  {
   "cell_type": "code",
   "execution_count": 87,
   "metadata": {},
   "outputs": [
    {
     "data": {
      "application/vnd.jupyter.widget-view+json": {
       "model_id": "e8ef728f671f4f0a8a33a837f33326ce",
       "version_major": 2,
       "version_minor": 0
      },
      "text/plain": [
       "VBox()"
      ]
     },
     "metadata": {},
     "output_type": "display_data"
    },
    {
     "data": {
      "application/vnd.jupyter.widget-view+json": {
       "model_id": "",
       "version_major": 2,
       "version_minor": 0
      },
      "text/plain": [
       "FloatProgress(value=0.0, bar_style='info', description='Progress:', layout=Layout(height='25px', width='50%'),…"
      ]
     },
     "metadata": {},
     "output_type": "display_data"
    },
    {
     "name": "stdout",
     "output_type": "stream",
     "text": [
      "792"
     ]
    }
   ],
   "source": [
    "newdf_covid.select(['State','CountyName']).subtract(newdf_traffic.select(['State','County'])).count()"
   ]
  },
  {
   "cell_type": "code",
   "execution_count": 102,
   "metadata": {},
   "outputs": [
    {
     "data": {
      "application/vnd.jupyter.widget-view+json": {
       "model_id": "dc17d609ffdf47a189d6d59d8e561f84",
       "version_major": 2,
       "version_minor": 0
      },
      "text/plain": [
       "VBox()"
      ]
     },
     "metadata": {},
     "output_type": "display_data"
    },
    {
     "data": {
      "application/vnd.jupyter.widget-view+json": {
       "model_id": "",
       "version_major": 2,
       "version_minor": 0
      },
      "text/plain": [
       "FloatProgress(value=0.0, bar_style='info', description='Progress:', layout=Layout(height='25px', width='50%'),…"
      ]
     },
     "metadata": {},
     "output_type": "display_data"
    },
    {
     "name": "stdout",
     "output_type": "stream",
     "text": [
      "+----------+---------+-----+----------+\n",
      "|CountyName|StateName|Count|Covid_date|\n",
      "+----------+---------+-----+----------+\n",
      "| Abbeville|       SC|    0|2020-01-01|\n",
      "| Abbeville|       SC|    0|2020-01-02|\n",
      "+----------+---------+-----+----------+\n",
      "only showing top 2 rows"
     ]
    }
   ],
   "source": [
    "df1_covid_filt.show(2)"
   ]
  },
  {
   "cell_type": "code",
   "execution_count": 98,
   "metadata": {},
   "outputs": [
    {
     "data": {
      "application/vnd.jupyter.widget-view+json": {
       "model_id": "35611f44a2184a32b536e6a311fbb66c",
       "version_major": 2,
       "version_minor": 0
      },
      "text/plain": [
       "VBox()"
      ]
     },
     "metadata": {},
     "output_type": "display_data"
    },
    {
     "data": {
      "application/vnd.jupyter.widget-view+json": {
       "model_id": "",
       "version_major": 2,
       "version_minor": 0
      },
      "text/plain": [
       "FloatProgress(value=0.0, bar_style='info', description='Progress:', layout=Layout(height='25px', width='50%'),…"
      ]
     },
     "metadata": {},
     "output_type": "display_data"
    },
    {
     "name": "stdout",
     "output_type": "stream",
     "text": [
      "+--------+---------+----------+--------------+-----+--------------+-----------------+----+--------+--------+----+--------------+------+----------+\n",
      "|Severity|Start_Lat| Start_Lng|        County|State|Temperature(F)|Weather_Condition|Bump|Junction|Crossing|Stop|Traffic_Signal|Region|   AccDate|\n",
      "+--------+---------+----------+--------------+-----+--------------+-----------------+----+--------+--------+----+--------------+------+----------+\n",
      "|       2| 34.35756|-117.43733|San Bernardino|   CA|          50.0|             Fair|   0|       0|       0|   0|             0|  West|2020-05-18|\n",
      "|       2| 34.13347|-118.35232|   Los Angeles|   CA|          61.0|       Light Rain|   0|       1|       0|   0|             1|  West|2020-05-18|\n",
      "+--------+---------+----------+--------------+-----+--------------+-----------------+----+--------+--------+----+--------------+------+----------+\n",
      "only showing top 2 rows"
     ]
    }
   ],
   "source": [
    "df1_traffic_filt.show(2)"
   ]
  },
  {
   "cell_type": "code",
   "execution_count": 95,
   "metadata": {},
   "outputs": [
    {
     "data": {
      "application/vnd.jupyter.widget-view+json": {
       "model_id": "3924f44db1c2425a85050ddb5637a2d6",
       "version_major": 2,
       "version_minor": 0
      },
      "text/plain": [
       "VBox()"
      ]
     },
     "metadata": {},
     "output_type": "display_data"
    },
    {
     "data": {
      "application/vnd.jupyter.widget-view+json": {
       "model_id": "",
       "version_major": 2,
       "version_minor": 0
      },
      "text/plain": [
       "FloatProgress(value=0.0, bar_style='info', description='Progress:', layout=Layout(height='25px', width='50%'),…"
      ]
     },
     "metadata": {},
     "output_type": "display_data"
    }
   ],
   "source": [
    "df1_traffic_filt=df1_traffic_filt.withColumn('AccDate',to_date(col(\"Acc_date\"),\"yyyy-MM-dd\"))"
   ]
  },
  {
   "cell_type": "code",
   "execution_count": 97,
   "metadata": {},
   "outputs": [
    {
     "data": {
      "application/vnd.jupyter.widget-view+json": {
       "model_id": "7a58a94c23ac473694a04a8f86646e63",
       "version_major": 2,
       "version_minor": 0
      },
      "text/plain": [
       "VBox()"
      ]
     },
     "metadata": {},
     "output_type": "display_data"
    },
    {
     "data": {
      "application/vnd.jupyter.widget-view+json": {
       "model_id": "",
       "version_major": 2,
       "version_minor": 0
      },
      "text/plain": [
       "FloatProgress(value=0.0, bar_style='info', description='Progress:', layout=Layout(height='25px', width='50%'),…"
      ]
     },
     "metadata": {},
     "output_type": "display_data"
    }
   ],
   "source": [
    "df1_traffic_filt=df1_traffic_filt.drop('Acc_date')"
   ]
  },
  {
   "cell_type": "code",
   "execution_count": 99,
   "metadata": {},
   "outputs": [
    {
     "data": {
      "application/vnd.jupyter.widget-view+json": {
       "model_id": "9cad82c0106f47d4b46f7a85060210de",
       "version_major": 2,
       "version_minor": 0
      },
      "text/plain": [
       "VBox()"
      ]
     },
     "metadata": {},
     "output_type": "display_data"
    },
    {
     "data": {
      "application/vnd.jupyter.widget-view+json": {
       "model_id": "",
       "version_major": 2,
       "version_minor": 0
      },
      "text/plain": [
       "FloatProgress(value=0.0, bar_style='info', description='Progress:', layout=Layout(height='25px', width='50%'),…"
      ]
     },
     "metadata": {},
     "output_type": "display_data"
    },
    {
     "name": "stdout",
     "output_type": "stream",
     "text": [
      "1258156"
     ]
    }
   ],
   "source": [
    "df1_traffic_filt.count()"
   ]
  },
  {
   "cell_type": "code",
   "execution_count": 100,
   "metadata": {},
   "outputs": [
    {
     "data": {
      "application/vnd.jupyter.widget-view+json": {
       "model_id": "3c6c1f8a03094609aa9428c1ca6eb2c1",
       "version_major": 2,
       "version_minor": 0
      },
      "text/plain": [
       "VBox()"
      ]
     },
     "metadata": {},
     "output_type": "display_data"
    },
    {
     "data": {
      "application/vnd.jupyter.widget-view+json": {
       "model_id": "",
       "version_major": 2,
       "version_minor": 0
      },
      "text/plain": [
       "FloatProgress(value=0.0, bar_style='info', description='Progress:', layout=Layout(height='25px', width='50%'),…"
      ]
     },
     "metadata": {},
     "output_type": "display_data"
    },
    {
     "name": "stdout",
     "output_type": "stream",
     "text": [
      "1168638"
     ]
    }
   ],
   "source": [
    "df1_covid_filt.count()"
   ]
  },
  {
   "cell_type": "code",
   "execution_count": 101,
   "metadata": {},
   "outputs": [
    {
     "data": {
      "application/vnd.jupyter.widget-view+json": {
       "model_id": "168cb6330d8045529219d25e00c5297c",
       "version_major": 2,
       "version_minor": 0
      },
      "text/plain": [
       "VBox()"
      ]
     },
     "metadata": {},
     "output_type": "display_data"
    },
    {
     "data": {
      "application/vnd.jupyter.widget-view+json": {
       "model_id": "",
       "version_major": 2,
       "version_minor": 0
      },
      "text/plain": [
       "FloatProgress(value=0.0, bar_style='info', description='Progress:', layout=Layout(height='25px', width='50%'),…"
      ]
     },
     "metadata": {},
     "output_type": "display_data"
    }
   ],
   "source": [
    "df1_covid_filt=df1_covid_filt.withColumnRenamed('State','StateName')"
   ]
  },
  {
   "cell_type": "markdown",
   "metadata": {},
   "source": [
    "* The following code is to merge the accident and COVID datasets at **State** and **County** level using **Inner Join**"
   ]
  },
  {
   "cell_type": "code",
   "execution_count": 104,
   "metadata": {},
   "outputs": [
    {
     "data": {
      "application/vnd.jupyter.widget-view+json": {
       "model_id": "c8690d88669948f0b64446f252df3202",
       "version_major": 2,
       "version_minor": 0
      },
      "text/plain": [
       "VBox()"
      ]
     },
     "metadata": {},
     "output_type": "display_data"
    },
    {
     "data": {
      "application/vnd.jupyter.widget-view+json": {
       "model_id": "",
       "version_major": 2,
       "version_minor": 0
      },
      "text/plain": [
       "FloatProgress(value=0.0, bar_style='info', description='Progress:', layout=Layout(height='25px', width='50%'),…"
      ]
     },
     "metadata": {},
     "output_type": "display_data"
    }
   ],
   "source": [
    "df_comb=df1_traffic_filt.join(df1_covid_filt,(df1_traffic_filt.State==df1_covid_filt.StateName)\\\n",
    "                              &(df1_traffic_filt.County==df1_covid_filt.CountyName)\\\n",
    "                              &(df1_traffic_filt.AccDate==df1_covid_filt.Covid_date),\"inner\")"
   ]
  },
  {
   "cell_type": "code",
   "execution_count": 105,
   "metadata": {},
   "outputs": [
    {
     "data": {
      "application/vnd.jupyter.widget-view+json": {
       "model_id": "2bfbc88482024023bbdc5290d5c828c1",
       "version_major": 2,
       "version_minor": 0
      },
      "text/plain": [
       "VBox()"
      ]
     },
     "metadata": {},
     "output_type": "display_data"
    },
    {
     "data": {
      "application/vnd.jupyter.widget-view+json": {
       "model_id": "",
       "version_major": 2,
       "version_minor": 0
      },
      "text/plain": [
       "FloatProgress(value=0.0, bar_style='info', description='Progress:', layout=Layout(height='25px', width='50%'),…"
      ]
     },
     "metadata": {},
     "output_type": "display_data"
    },
    {
     "name": "stdout",
     "output_type": "stream",
     "text": [
      "1258156"
     ]
    }
   ],
   "source": [
    "df_comb.count()"
   ]
  },
  {
   "cell_type": "code",
   "execution_count": 109,
   "metadata": {},
   "outputs": [
    {
     "data": {
      "application/vnd.jupyter.widget-view+json": {
       "model_id": "87e492ac5e934747a8ade62e4148b8cc",
       "version_major": 2,
       "version_minor": 0
      },
      "text/plain": [
       "VBox()"
      ]
     },
     "metadata": {},
     "output_type": "display_data"
    },
    {
     "data": {
      "application/vnd.jupyter.widget-view+json": {
       "model_id": "",
       "version_major": 2,
       "version_minor": 0
      },
      "text/plain": [
       "FloatProgress(value=0.0, bar_style='info', description='Progress:', layout=Layout(height='25px', width='50%'),…"
      ]
     },
     "metadata": {},
     "output_type": "display_data"
    },
    {
     "name": "stdout",
     "output_type": "stream",
     "text": [
      "+--------+---------+----------+-------+-----+--------------+-----------------+----+--------+--------+----+--------------+------+----------+-----+\n",
      "|Severity|Start_Lat| Start_Lng| County|State|Temperature(F)|Weather_Condition|Bump|Junction|Crossing|Stop|Traffic_Signal|Region|      Date|Count|\n",
      "+--------+---------+----------+-------+-----+--------------+-----------------+----+--------+--------+----+--------------+------+----------+-----+\n",
      "|       3|32.549187|-86.457458|Autauga|   AL|          70.0|             Rain|   0|       0|       0|   0|             0| South|2020-01-14|    0|\n",
      "|       2|32.438618|-86.426262|Autauga|   AL|          70.0|             Rain|   0|       0|       0|   0|             1| South|2020-01-14|    0|\n",
      "|       2|32.638519|-86.417107|Autauga|   AL|          63.0|       Heavy Rain|   0|       0|       0|   0|             0| South|2020-01-14|    0|\n",
      "+--------+---------+----------+-------+-----+--------------+-----------------+----+--------+--------+----+--------------+------+----------+-----+\n",
      "only showing top 3 rows"
     ]
    }
   ],
   "source": [
    "df_comb.show(3)"
   ]
  },
  {
   "cell_type": "code",
   "execution_count": 107,
   "metadata": {},
   "outputs": [
    {
     "data": {
      "application/vnd.jupyter.widget-view+json": {
       "model_id": "25d0f00c90684f2bb471254ced3ffe53",
       "version_major": 2,
       "version_minor": 0
      },
      "text/plain": [
       "VBox()"
      ]
     },
     "metadata": {},
     "output_type": "display_data"
    },
    {
     "data": {
      "application/vnd.jupyter.widget-view+json": {
       "model_id": "",
       "version_major": 2,
       "version_minor": 0
      },
      "text/plain": [
       "FloatProgress(value=0.0, bar_style='info', description='Progress:', layout=Layout(height='25px', width='50%'),…"
      ]
     },
     "metadata": {},
     "output_type": "display_data"
    }
   ],
   "source": [
    "df_comb=df_comb.drop('StateName','CountyName','Covid_date')"
   ]
  },
  {
   "cell_type": "code",
   "execution_count": 108,
   "metadata": {},
   "outputs": [
    {
     "data": {
      "application/vnd.jupyter.widget-view+json": {
       "model_id": "9324b2ff721e4e59b2bffd166d958665",
       "version_major": 2,
       "version_minor": 0
      },
      "text/plain": [
       "VBox()"
      ]
     },
     "metadata": {},
     "output_type": "display_data"
    },
    {
     "data": {
      "application/vnd.jupyter.widget-view+json": {
       "model_id": "",
       "version_major": 2,
       "version_minor": 0
      },
      "text/plain": [
       "FloatProgress(value=0.0, bar_style='info', description='Progress:', layout=Layout(height='25px', width='50%'),…"
      ]
     },
     "metadata": {},
     "output_type": "display_data"
    }
   ],
   "source": [
    "df_comb=df_comb.withColumnRenamed('AccDate','Date')"
   ]
  },
  {
   "cell_type": "code",
   "execution_count": 110,
   "metadata": {},
   "outputs": [
    {
     "data": {
      "application/vnd.jupyter.widget-view+json": {
       "model_id": "d1940df8a79944fc88e19b341aba19d4",
       "version_major": 2,
       "version_minor": 0
      },
      "text/plain": [
       "VBox()"
      ]
     },
     "metadata": {},
     "output_type": "display_data"
    },
    {
     "data": {
      "application/vnd.jupyter.widget-view+json": {
       "model_id": "",
       "version_major": 2,
       "version_minor": 0
      },
      "text/plain": [
       "FloatProgress(value=0.0, bar_style='info', description='Progress:', layout=Layout(height='25px', width='50%'),…"
      ]
     },
     "metadata": {},
     "output_type": "display_data"
    }
   ],
   "source": [
    "df_comb.write.option(\"header\",\"true\").csv('s3://team036vsix/Dataset_final_2020.csv/')\n"
   ]
  },
  {
   "cell_type": "code",
   "execution_count": 111,
   "metadata": {},
   "outputs": [
    {
     "data": {
      "application/vnd.jupyter.widget-view+json": {
       "model_id": "8a7095e292584c738ecf6a7f636383db",
       "version_major": 2,
       "version_minor": 0
      },
      "text/plain": [
       "VBox()"
      ]
     },
     "metadata": {},
     "output_type": "display_data"
    },
    {
     "data": {
      "application/vnd.jupyter.widget-view+json": {
       "model_id": "",
       "version_major": 2,
       "version_minor": 0
      },
      "text/plain": [
       "FloatProgress(value=0.0, bar_style='info', description='Progress:', layout=Layout(height='25px', width='50%'),…"
      ]
     },
     "metadata": {},
     "output_type": "display_data"
    }
   ],
   "source": [
    "df_comb.coalesce(1).write.option(\"header\",\"true\").csv('s3://team036vsix/Dataset_final_2020_v1.csv')"
   ]
  }
 ],
 "metadata": {
  "kernelspec": {
   "display_name": "PySpark",
   "language": "",
   "name": "pysparkkernel"
  },
  "language_info": {
   "codemirror_mode": {
    "name": "python",
    "version": 3
   },
   "mimetype": "text/x-python",
   "name": "pyspark",
   "pygments_lexer": "python3"
  }
 },
 "nbformat": 4,
 "nbformat_minor": 5
}
